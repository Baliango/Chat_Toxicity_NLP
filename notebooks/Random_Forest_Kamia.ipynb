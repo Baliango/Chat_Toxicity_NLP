{
 "cells": [
  {
   "cell_type": "markdown",
   "id": "8ca7a25c-cd25-4dae-b66d-7899cc090855",
   "metadata": {},
   "source": [
    "# Random Forest"
   ]
  },
  {
   "cell_type": "markdown",
   "id": "8d4d7552-5cde-4712-9fba-168e87b2e79a",
   "metadata": {},
   "source": [
    "## Introduction\n",
    "\n",
    "This notebook focuses on Random Forest to predict binary toxicity in text. As seen in baseline modelling TF-DIF vectorization performed the best in logistic regression, and will be used as the first approach for Random Forest. Count Vectorization may be explored. It was also seen that not including max features in vectorization improved performance of the logistic regression model. In this analysis TF-IDF will be explored to vectorize text for Random Forest. The TF-IDF vectorization will not impose a limit on maximum features, and if computational resources permit, the entire corpus will be vectorized for Random Forest. Class imbalance of the target will also be addressed in this notebook. The data sets train.csv and test_public_expanded.csv will be used. \n",
    "\n",
    "## Methodology\n",
    "\n",
    "This notebook follows the following workflow: \n",
    "- Text preprocessing and Vectorization using custom Tokenizer and TF-IDF\n",
    "- LSA for dimensionality reduction\n",
    "- Random Forest to predict toxicity, with cross validation and optimization in pipeline\n",
    "  - weighted class, for class imbalance"
   ]
  },
  {
   "cell_type": "markdown",
   "id": "99432f82-2fd7-42aa-9e2c-d2920e3989f6",
   "metadata": {},
   "source": [
    "## Data Dictionary\n",
    "\n",
    "### Train DF \n",
    "| Column Name   | Description                                      |\n",
    "|---------------|--------------------------------------------------|\n",
    "| comment_text  | Text of the comment                              |\n",
    "| target        | Predicted toxicity score (fraction of annotators who found the comment toxic) |                       \n",
    "| binary_target | Binary indicator of toxicity (toxic or non-toxic)|\n",
    "\n",
    "### Test DF\n",
    "| Column Name   | Description                                      |\n",
    "|---------------|--------------------------------------------------|\n",
    "| comment_text  | Text of the comment                              |\n",
    "| toxicity      | Predicted toxicity score (fraction of annotators who found the comment toxic) |\n",
    "| binary_target | Binary indicator of toxicity (toxic or non-toxic)|\n"
   ]
  },
  {
   "cell_type": "markdown",
   "id": "1ac472ae-6003-420a-bcb1-9bcbd730ce8d",
   "metadata": {},
   "source": [
    "### Text Processing and Vectorization"
   ]
  },
  {
   "cell_type": "code",
   "execution_count": 44,
   "id": "39984f05-34a5-4775-aad4-c146bda011a0",
   "metadata": {},
   "outputs": [],
   "source": [
    "import pandas as pd\n",
    "import matplotlib.pyplot as plt\n",
    "import numpy as np\n",
    "import seaborn as sns\n",
    "\n",
    "\n",
    "import re\n",
    "from nltk.corpus import stopwords\n",
    "from nltk.tokenize import word_tokenize\n",
    "from nltk.stem import PorterStemmer, WordNetLemmatizer\n",
    "import string\n",
    "import time\n",
    "from sklearn.feature_extraction.text import TfidfVectorizer\n",
    "\n",
    "from sklearn.decomposition import TruncatedSVD"
   ]
  },
  {
   "cell_type": "code",
   "execution_count": 2,
   "id": "99ba13cb-8ed0-403d-8ec2-841eec7b8a43",
   "metadata": {},
   "outputs": [],
   "source": [
    "train = pd.read_csv('../data/kaggle_bias/train.csv')\n",
    "test = pd.read_csv('../data/kaggle_bias/test_public_expanded.csv')"
   ]
  },
  {
   "cell_type": "code",
   "execution_count": 3,
   "id": "6f083c68-b3ef-428c-b6b0-4a791245098d",
   "metadata": {},
   "outputs": [
    {
     "data": {
      "text/plain": [
       "(1804874, 45)"
      ]
     },
     "execution_count": 3,
     "metadata": {},
     "output_type": "execute_result"
    }
   ],
   "source": [
    "train.shape"
   ]
  },
  {
   "cell_type": "code",
   "execution_count": 4,
   "id": "437ec2db-c7a9-49b8-8350-31906c99e74b",
   "metadata": {},
   "outputs": [
    {
     "data": {
      "text/plain": [
       "(97320, 45)"
      ]
     },
     "execution_count": 4,
     "metadata": {},
     "output_type": "execute_result"
    }
   ],
   "source": [
    "test.shape"
   ]
  },
  {
   "cell_type": "code",
   "execution_count": 5,
   "id": "810c082b-6364-44b3-84e3-5825e9d73373",
   "metadata": {},
   "outputs": [
    {
     "name": "stdout",
     "output_type": "stream",
     "text": [
      "3\n"
     ]
    },
    {
     "data": {
      "text/plain": [
       "0"
      ]
     },
     "execution_count": 5,
     "metadata": {},
     "output_type": "execute_result"
    }
   ],
   "source": [
    "print(train['comment_text'].isnull().sum())\n",
    "test['comment_text'].isnull().sum()"
   ]
  },
  {
   "cell_type": "code",
   "execution_count": 6,
   "id": "6c715f5b-310d-4746-b854-79f42d90e199",
   "metadata": {},
   "outputs": [],
   "source": [
    "test.dropna(subset=['comment_text'], inplace=True)\n",
    "train.dropna(subset=['comment_text'], inplace=True)"
   ]
  },
  {
   "cell_type": "markdown",
   "id": "677ddae4-efdf-4fe8-9093-9e83469e2c42",
   "metadata": {},
   "source": [
    "**Distribution of Target: Float and binary predictor of toxicity label**"
   ]
  },
  {
   "cell_type": "code",
   "execution_count": 7,
   "id": "d3c710d7-a873-416d-a3ca-ddb2068030c7",
   "metadata": {},
   "outputs": [
    {
     "name": "stdout",
     "output_type": "stream",
     "text": [
      "Percentage of 'target' greater than 0 in train set: 29.92513038327947\n",
      "Percentage of 'toxicity' greater than 0 in test set: 29.38244965063707\n"
     ]
    }
   ],
   "source": [
    "#distribution of target, same as baseline modelling\n",
    "#Find proportions of y > 0 in train and test,.mean() applied to boolean val will give proportion of True vals\n",
    "train_percent_tox = (train['target']>0).mean()*100\n",
    "test_percent_tox = (test['toxicity']>0).mean()*100\n",
    "\n",
    "print(\"Percentage of 'target' greater than 0 in train set:\", train_percent_tox)\n",
    "print(\"Percentage of 'toxicity' greater than 0 in test set:\", test_percent_tox)"
   ]
  },
  {
   "cell_type": "code",
   "execution_count": 8,
   "id": "bae0f5e3-b981-45ef-a1ea-9a9358934b2b",
   "metadata": {},
   "outputs": [],
   "source": [
    "#create binary target\n",
    "train['binary_target'] = (train['target']>0.5).astype(int)\n",
    "test['binary_target'] = (test['toxicity']>0.5).astype(int)"
   ]
  },
  {
   "cell_type": "code",
   "execution_count": 9,
   "id": "a3a67cb0-2195-4fc1-a000-af769a4db652",
   "metadata": {},
   "outputs": [
    {
     "data": {
      "image/png": "[encoded data removed]",
      "text/plain": [
       "<Figure size 640x480 with 1 Axes>"
      ]
     },
     "metadata": {},
     "output_type": "display_data"
    },
    {
     "name": "stdout",
     "output_type": "stream",
     "text": [
      "The absolute class distribution is: {0: 91671, 1: 5649}\n",
      "Count for score 1: 5649\n",
      "Count for score 0: 91671\n",
      "\n",
      "The relative (%) class distribution is: \n",
      "binary_target\n",
      "0    94.195438\n",
      "1     5.804562\n",
      "Name: proportion, dtype: float64\n"
     ]
    }
   ],
   "source": [
    "class_distribution = test['binary_target'].value_counts().to_dict()\n",
    "overall_count = test['binary_target'].value_counts(normalize=True)*100\n",
    "\n",
    "plt.bar(overall_count.index, overall_count.values)\n",
    "plt.title('Overall Distribution Binary Target Test')\n",
    "plt.xlabel('target')\n",
    "plt.ylabel('Percentage of target') \n",
    "\n",
    "plt.tight_layout()\n",
    "plt.show()\n",
    "print(f'The absolute class distribution is:', class_distribution)\n",
    "print(f'Count for score 1:', class_distribution[1])\n",
    "print(f'Count for score 0:', class_distribution[0])\n",
    "print('\\nThe relative (%) class distribution is:', f'\\n{overall_count}')"
   ]
  },
  {
   "cell_type": "markdown",
   "id": "4c15d550-ce02-4d00-ae3d-9087a0b54892",
   "metadata": {},
   "source": [
    "**TF-IDF**"
   ]
  },
  {
   "cell_type": "code",
   "execution_count": 10,
   "id": "7cb7af24-0bba-47d6-85e6-cdfcb0a5bb62",
   "metadata": {},
   "outputs": [],
   "source": [
    "def my_tokenizer(document, lemmatization=False, stemming=False, custom_stopwords=None, include_stopwords=None):\n",
    "    '''\n",
    "    Function for use in CountVectorizer that tokenizes the document\n",
    "    '''\n",
    "    # initialize stop words set within function, changes to stop words stay within function.\n",
    "    stop_words = set(stopwords.words('english'))\n",
    "\n",
    "    # remove punctuation and split on spaces, remove /n\n",
    "    translator = str.maketrans(\"\", \"\", string.punctuation)\n",
    "    document = document.translate(translator).replace('\\n', ' ')\n",
    "    tokenized_document = document.lower().split()\n",
    "\n",
    "    # handle custom stopwords\n",
    "    #use .discard() to remove certain words from stop words list\n",
    "    if custom_stopwords is not None:\n",
    "        # remove custom stop words from stop_words set\n",
    "        for word_to_remove in custom_stopwords:\n",
    "            stop_words.discard(word_to_remove)\n",
    "            \n",
    "    # include certain words if specified\n",
    "    # use .update() to add a word to the stop words list\n",
    "    if include_stopwords is not None:\n",
    "        stop_words.update(include_stopwords)\n",
    "\n",
    "    # remove numbers using regular expression\n",
    "    tokenized_document = [word for word in tokenized_document if not re.match(r'\\d+', word)]\n",
    "\n",
    "    # remove stopwords before stemming or lemmatization\n",
    "    tokenized_document = [word for word in tokenized_document if word not in stop_words]\n",
    "\n",
    "    if stemming:\n",
    "        stemmed_tokens_list = [PorterStemmer().stem(word) for word in tokenized_document]\n",
    "        return stemmed_tokens_list\n",
    "\n",
    "    if lemmatization:\n",
    "        lemmatized_tokens_list = [WordNetLemmatizer().lemmatize(word) for word in tokenized_document]\n",
    "        return lemmatized_tokens_list\n",
    "        \n",
    "    return tokenized_document"
   ]
  },
  {
   "cell_type": "code",
   "execution_count": 11,
   "id": "7cb64bb2-1f8d-43d8-b1d6-e7cc686027b2",
   "metadata": {},
   "outputs": [],
   "source": [
    "#define X, y train and test\n",
    "X_train = train['comment_text']\n",
    "X_test = test['comment_text']\n",
    "y_train = train['binary_target']\n",
    "y_test = test['binary_target']"
   ]
  },
  {
   "cell_type": "code",
   "execution_count": 12,
   "id": "af658792-38b3-4e7c-b6c3-cc2ce5defd41",
   "metadata": {},
   "outputs": [],
   "source": [
    "#put tokenizer params into dictionary \n",
    "tokenizer_params_default= {'lemmatization':False,\n",
    "                           'stemming':False,\n",
    "                           'custom_stopwords':None,\n",
    "                           'include_stopwords':None}"
   ]
  },
  {
   "cell_type": "code",
   "execution_count": 13,
   "id": "d607e57e-5b30-4760-ace3-36c98976f936",
   "metadata": {},
   "outputs": [],
   "source": [
    "#instantiate vectorizer: default tokenizer; remove stop words, numbers, punctuation, lower case. \n",
    "tfidf_vectorizer = TfidfVectorizer(tokenizer= lambda x:my_tokenizer(x,**tokenizer_params_default),\n",
    "                                             min_df =10,\n",
    "                                             ngram_range=(1,2),\n",
    "                                             max_features = 3000\n",
    "                                            )"
   ]
  },
  {
   "cell_type": "code",
   "execution_count": 14,
   "id": "2b1e6747-3c33-4b25-a7a8-5356a25c4017",
   "metadata": {},
   "outputs": [
    {
     "name": "stderr",
     "output_type": "stream",
     "text": [
      "/Users/kamiasalango/anaconda3/envs/capstone_wavepower/lib/python3.8/site-packages/sklearn/feature_extraction/text.py:525: UserWarning: The parameter 'token_pattern' will not be used since 'tokenizer' is not None'\n",
      "  warnings.warn(\n"
     ]
    },
    {
     "name": "stdout",
     "output_type": "stream",
     "text": [
      "Vectorization took 187.06 seconds\n"
     ]
    }
   ],
   "source": [
    "#fit and transform X_train \n",
    "start_time = time.time()  #start timer\n",
    "X_train_transformed = tfidf_vectorizer.fit_transform(X_train)\n",
    "end_time = time.time()  #end timer\n",
    "elapsed_time = end_time - start_time\n",
    "print(f\"Vectorization took {elapsed_time:.2f} seconds\") "
   ]
  },
  {
   "cell_type": "code",
   "execution_count": 15,
   "id": "15416fcf-0521-4222-8373-692f2fd5f2d8",
   "metadata": {},
   "outputs": [
    {
     "name": "stdout",
     "output_type": "stream",
     "text": [
      "Vectorization took 7.48 seconds\n"
     ]
    }
   ],
   "source": [
    "#transform X test\n",
    "start_time = time.time()  #start timer\n",
    "\n",
    "X_test_transformed = tfidf_vectorizer.transform(X_test)\n",
    "\n",
    "end_time = time.time()  #end timer\n",
    "elapsed_time = end_time - start_time\n",
    "print(f\"Vectorization took {elapsed_time:.2f} seconds\") \n"
   ]
  },
  {
   "cell_type": "markdown",
   "id": "38c1cdda-4292-44c5-9071-fec61881645d",
   "metadata": {},
   "source": [
    "### Random Forest"
   ]
  },
  {
   "cell_type": "code",
   "execution_count": 16,
   "id": "ac7556a0-f82b-4978-b451-2c519f0589fb",
   "metadata": {},
   "outputs": [],
   "source": [
    "from sklearn.pipeline import Pipeline\n",
    "from sklearn.ensemble import RandomForestClassifier\n",
    "from sklearn.feature_extraction.text import TfidfVectorizer\n",
    "from sklearn.base import TransformerMixin\n",
    "from sklearn.model_selection import GridSearchCV\n",
    "from sklearn.metrics import make_scorer, f1_score\n",
    "from sklearn.metrics import accuracy_score, precision_score, recall_score\n"
   ]
  },
  {
   "cell_type": "code",
   "execution_count": 17,
   "id": "29206eb6-7af6-4b22-b5d7-5ff5c3da45d1",
   "metadata": {},
   "outputs": [],
   "source": [
    "#Define transformer class for LSA\n",
    "class LSATransformer(TransformerMixin):\n",
    "    def __init__(self, n_components=100):\n",
    "        self.n_components = n_components\n",
    "        self.lsa = TruncatedSVD(n_components=n_components)\n",
    "    def fit(self, X, y=None):\n",
    "        self.lsa.fit(X)\n",
    "        return self\n",
    "    def transform(self, X):\n",
    "        return self.lsa.transform(X)"
   ]
  },
  {
   "cell_type": "code",
   "execution_count": 18,
   "id": "6c6cb139-7702-471d-952e-6204442749ab",
   "metadata": {},
   "outputs": [],
   "source": [
    "#Use function for grid search\n",
    "def run_grid_search(X_train, y_train, param_grid, pipeline, scoring_metric, identifier,\n",
    "                   n_grams='None', vectorization= 'None', max_features= 'None', tokenizer_params= 'default'):\n",
    "    \"\"\"\n",
    "    Run a grid search with the specified parameters.\n",
    "\n",
    "    Parameters:\n",
    "    - X_train: Training features\n",
    "    - y_train: Training labels\n",
    "    - param_grid: Parameter grid for the grid search\n",
    "    - pipeline: pipeline object\n",
    "    - scoring_metric: Scikit-learn scoring metric\n",
    "    - identifier: Identifier for iteration of Gridsearch'\n",
    "    - n_grams: N-gram range used for vectorization (default=None)\n",
    "    - vectorization: Vectorization technique used (default=None)\n",
    "    - tokenizer_params: Additional parameters used in the tokenizer (default=None)\n",
    "\n",
    "\n",
    "    Returns:\n",
    "    - grid_search: Fitted GridSearchCV object \n",
    "    -resluts of cross validation in terms of best params, best score (validation set)\n",
    "    - time it took to run GridSearch\n",
    "    \"\"\"\n",
    "    #initiate timer module\n",
    "    start_time = time.time()\n",
    "   \n",
    "    # Set up the scoring metric\n",
    "    scoring =make_scorer(f1_score)\n",
    "\n",
    "    # Instantiate GridSearchCV with 5-fold cross-validation, n_jobs=3, and specified scoring metric\n",
    "    grid_search = GridSearchCV(pipeline, param_grid, cv=5, scoring=scoring, n_jobs=3)\n",
    "\n",
    "    # Fit and run grid search\n",
    "    grid_search.fit(X_train, y_train)\n",
    "\n",
    "    #end timer\n",
    "    end_time = time.time()\n",
    "    elapsed_time = end_time - start_time\n",
    "\n",
    "    # Calculate accuracy\n",
    "    y_pred = grid_search.best_estimator_.predict(X_train)\n",
    "    accuracy = accuracy_score(y_train, y_pred)\n",
    "    \n",
    "     # Store the results (hyperparameters and scores)\n",
    "    results_list.append({\n",
    "        'identifier': identifier,\n",
    "        'best_params': grid_search.best_params_,\n",
    "        'best_score': grid_search.best_score_,\n",
    "        'elapsed_time': elapsed_time,\n",
    "        'n_grams': n_grams,\n",
    "        'max_features': max_features,\n",
    "        'vectorization': vectorization,\n",
    "        'tokenizer_params': tokenizer_params\n",
    "    })\n",
    "    \n",
    "    # Print the best parameters with the identifier\n",
    "    print(f\"Best Parameters for {identifier}: {grid_search.best_params_}\")\n",
    "\n",
    "    # Print the best score on the validation sets, \n",
    "    #.best_score_ is attribute of GridSearch CV that accesses best validation score(score specified in GS)\n",
    "    print(f\"Best {scoring_metric} Score for {identifier}: {grid_search.best_score_}\")\n",
    "    # Print the accuracy\n",
    "    print(f\"Accuracy for {identifier}: {accuracy}\")\n",
    "    # Print the elapsed time\n",
    "    print(f\"Elapsed Time for {identifier}: {elapsed_time} seconds\")\n",
    "\n",
    "    return grid_search"
   ]
  },
  {
   "cell_type": "code",
   "execution_count": 19,
   "id": "bd3a68cf-46f1-4d3f-8885-f6493e9dda99",
   "metadata": {},
   "outputs": [],
   "source": [
    "results_list =[]"
   ]
  },
  {
   "cell_type": "markdown",
   "id": "840686f7-d65d-417f-9509-3e840b2a4ac1",
   "metadata": {},
   "source": [
    "**GridSearch Run, Identifier = RF_1**\n",
    "- TF-IDF Vectorization, max features 3000\n",
    "- LSA n_components = 300\n",
    "- start with broad param grid for RF"
   ]
  },
  {
   "cell_type": "code",
   "execution_count": 20,
   "id": "917711d2-3c86-4851-8d97-7c8254e88020",
   "metadata": {},
   "outputs": [],
   "source": [
    "# pipeline = Pipeline([\n",
    "    #('lsa', LSATransformer(n_components=300)),\n",
    "    #('rf', RandomForestClassifier(class_weight='balanced',random_state=42, max_features='sqrt')),\n",
    "#])"
   ]
  },
  {
   "cell_type": "code",
   "execution_count": 21,
   "id": "a95b66c9-c319-441f-8847-d2b26f885914",
   "metadata": {},
   "outputs": [],
   "source": [
    "#param grid\n",
    "#param_grid_rf = {\n",
    "    #'rf__n_estimators': [25, 50, 100],\n",
    "    #'rf__max_depth': [2, 5, 10],\n",
    "    #'rf__min_samples_split': [2, 5, 10],\n",
    "    #'rf__min_samples_leaf': [1, 2, 4],\n",
    "#}"
   ]
  },
  {
   "cell_type": "code",
   "execution_count": 22,
   "id": "ea8f8857-b8cf-4e47-b3b3-bfbbd5b5c227",
   "metadata": {},
   "outputs": [],
   "source": [
    "#scoring_metric = 'F1 Score'\n",
    "#results_RF_1= run_grid_search(X_train_transformed, y_train, param_grid_rf, pipeline, \n",
    "                                 #scoring_metric, 'RF_1', n_grams='(1,2)', vectorization= 'TF-IDF', \n",
    "                                 #tokenizer_params= 'default')"
   ]
  },
  {
   "cell_type": "markdown",
   "id": "eab1e164-13f9-4bff-b359-c2a65309b49d",
   "metadata": {},
   "source": [
    "Random Forest with Gridsearch on entire vectorized train text is crashing. For now Random Forest will be done without Gridsearch."
   ]
  },
  {
   "cell_type": "code",
   "execution_count": 23,
   "id": "b7626433-9289-4ffe-a657-6493c3a0ed89",
   "metadata": {},
   "outputs": [],
   "source": [
    "#Use LSA to reduce dimensionality, n_component=300 reduce TF-IDF matrix by factor of 10\n",
    "lsa = TruncatedSVD(n_components=300)\n",
    "X_train_lsa = lsa.fit_transform(X_train_transformed)\n",
    "X_test_lsa = lsa.transform(X_test_transformed)"
   ]
  },
  {
   "cell_type": "code",
   "execution_count": 24,
   "id": "0cdd17fb-4406-4c94-a7af-63e59bd50553",
   "metadata": {},
   "outputs": [
    {
     "name": "stdout",
     "output_type": "stream",
     "text": [
      "Component0: people, would, like, one, trump\n",
      "Component1: trump, president, donald, obama, donald trump\n",
      "Component2: like, dont, know, people, sounds\n",
      "Component3: would, like, one, good, sounds\n",
      "Component4: good, one, well, know, right\n",
      "Component5: would, dont, know, think, dont know\n",
      "Component6: good, would, dont, tax, trump\n",
      "Component7: people, many, white, many people, country\n",
      "Component8: one, get, people, would, trump\n",
      "Component9: get, right, well, go, time\n",
      "Component10: well, said, tax, people, money\n",
      "Component11: right, tax, youre, thats, state\n",
      "Component12: well, right, get, us, one\n",
      "Component13: think, well, dont think, dont, said\n",
      "Component14: time, go, dont, right, well\n",
      "Component15: go, im, sure, us, im sure\n",
      "Component16: know, think, time, im, us\n",
      "Component17: go, know, think, news, back\n",
      "Component18: news, time, us, fake, fake news\n",
      "Component19: thats, time, yes, say, youre\n",
      "Component20: thats, canada, years, government, party\n",
      "Component21: much, need, canada, money, really\n",
      "Component22: much, years, thats, many, see\n",
      "Component23: need, years, state, many, us\n",
      "Component24: yes, much, thank, go, dont\n",
      "Component25: yes, see, need, thats, great\n",
      "Component26: great, canada, article, thank, thats\n",
      "Component27: youre, years, tax, say, canada\n",
      "Component28: youre, great, really, going, money\n",
      "Component29: money, make, great, yes, could\n",
      "Component30: really, say, tax, said, great\n",
      "Component31: money, comment, years, read, need\n",
      "Component32: really, comment, many, state, well\n",
      "Component33: thank, money, government, many, god\n",
      "Component34: state, say, oil, canada, alaska\n",
      "Component35: said, never, really, state, canada\n",
      "Component36: say, many, great, care, government\n",
      "Component37: many, money, never, vote, thanks\n",
      "Component38: way, government, said, another, going\n",
      "Component39: comment, make, said, many, thank\n",
      "Component40: never, comment, say, well, care\n",
      "Component41: going, many, even, never, vote\n",
      "Component42: government, make, never, years, want\n",
      "Component43: want, going, never, take, comment\n",
      "Component44: going, another, government, even, great\n",
      "Component45: thanks, another, make, point, could\n",
      "Component46: another, want, vote, could, said\n",
      "Component47: even, still, cant, thanks, great\n",
      "Component48: could, want, government, going, maybe\n",
      "Component49: nothing, vote, party, going, church\n",
      "Component50: nothing, want, oil, president, better\n",
      "Component51: white, government, house, back, work\n",
      "Component52: still, work, nothing, got, law\n",
      "Component53: still, oil, government, white, article\n",
      "Component54: even, white, nothing, house, could\n",
      "Component55: still, take, back, please, could\n",
      "Component56: point, agree, back, white, take\n",
      "Component57: better, agree, cant, white, state\n",
      "Component58: better, back, even, state, take\n",
      "Component59: didnt, agree, work, got, hes\n",
      "Component60: work, back, could, agree, article\n",
      "Component61: point, work, better, cant, job\n",
      "Component62: take, maybe, doesnt, work, still\n",
      "Component63: maybe, back, article, new, cant\n",
      "Component64: take, article, cant, vote, year\n",
      "Component65: lol, take, point, women, agree\n",
      "Component66: hes, doesnt, lol, state, party\n",
      "Component67: lol, didnt, new, law, world\n",
      "Component68: please, lol, article, law, women\n",
      "Component69: new, please, didnt, state, oh\n",
      "Component70: world, please, real, country, article\n",
      "Component71: doesnt, vote, mean, change, year\n",
      "Component72: got, vote, wrong, post, read\n",
      "Component73: wrong, pay, didnt, doesnt, mean\n",
      "Component74: wrong, got, work, tax, article\n",
      "Component75: country, law, free, world, pay\n",
      "Component76: post, article, day, got, left\n",
      "Component77: first, doesnt, mean, free, thing\n",
      "Component78: women, men, wrong, hes, country\n",
      "Component79: got, doesnt, thing, mean, sure\n",
      "Component80: thing, sure, post, wrong, bad\n",
      "Component81: change, first, pay, law, climate\n",
      "Component82: sure, also, hes, post, wrong\n",
      "Component83: thing, im, also, hes, actually\n",
      "Component84: day, party, public, problem, every\n",
      "Component85: problem, keep, party, hope, man\n",
      "Component86: must, also, oh, day, look\n",
      "Component87: problem, real, actually, must, left\n",
      "Component88: keep, left, must, hes, always\n",
      "Component89: must, post, thing, public, man\n",
      "Component90: free, man, left, change, sure\n",
      "Component91: problem, also, free, must, president\n",
      "Component92: oh, look, love, man, god\n",
      "Component93: true, problem, left, always, sad\n",
      "Component94: left, obama, please, world, hillary\n",
      "Component95: always, hope, look, bad, best\n",
      "Component96: country, always, man, actually, look\n",
      "Component97: hope, oh, country, left, problem\n",
      "Component98: bad, look, left, president, must\n",
      "Component99: actually, oh, left, president, mean\n",
      "Component100: bad, isnt, actually, obama, love\n",
      "Component101: story, comments, country, oh, name\n",
      "Component102: hope, real, look, also, love\n",
      "Component103: love, actually, country, mean, comments\n",
      "Component104: believe, bad, always, oh, ever\n",
      "Component105: comments, hope, problem, world, church\n",
      "Component106: story, little, love, long, isnt\n",
      "Component107: exactly, mean, isnt, believe, job\n",
      "Component108: isnt, exactly, long, comments, man\n",
      "Component109: love, ever, best, comments, exactly\n",
      "Component110: exactly, story, liberal, someone, use\n",
      "Component111: long, may, liberal, mean, comments\n",
      "Component112: exactly, long, story, obama, ever\n",
      "Component113: mr, long, someone, use, exactly\n",
      "Component114: something, love, come, comments, believe\n",
      "Component115: little, obama, isnt, believe, mean\n",
      "Component116: something, mean, long, story, mr\n",
      "Component117: little, guy, long, believe, big\n",
      "Component118: job, someone, long, sounds, city\n",
      "Component119: best, job, use, obama, name\n",
      "Component120: sounds, sounds like, something, come, look\n",
      "Component121: come, best, liberal, mr, name\n",
      "Component122: trudeau, two, someone, best, party\n",
      "Component123: come, anything, last, anyone, mean\n",
      "Component124: job, come, use, done, two\n",
      "Component125: two, liberal, last, mr, man\n",
      "Component126: name, anything, nice, two, world\n",
      "Component127: name, life, last, stop, ever\n",
      "Component128: stop, big, old, name, enough\n",
      "Component129: nice, try, stop, real, best\n",
      "Component130: big, best, business, anything, made\n",
      "Component131: best, stop, anything, give, life\n",
      "Component132: give, big, life, public, old\n",
      "Component133: big, made, stop, use, god\n",
      "Component134: god, stop, best, liberal, two\n",
      "Component135: already, someone, made, god, enough\n",
      "Component136: give, god, anyone, story, school\n",
      "Component137: guy, liberals, anyone, old, states\n",
      "Component138: anyone, old, name, enough, already\n",
      "Component139: liberals, every, big, name, someone\n",
      "Component140: guy, made, liberals, every, name\n",
      "Component141: alaska, every, anyone, done, states\n",
      "Component142: made, give, stop, sad, liberals\n",
      "Component143: already, business, enough, public, canadian\n",
      "Component144: done, sad, canadian, last, liberals\n",
      "Component145: next, done, put, lot, things\n",
      "Component146: thought, lot, things, business, last\n",
      "Component147: sad, put, family, alaska, help\n",
      "Component148: business, sad, next, family, might\n",
      "Component149: thought, next, done, every, made\n",
      "Component150: put, let, tell, facts, guess\n",
      "Component151: tell, canadian, alaska, thought, let\n",
      "Component152: sad, put, states, already, thought\n",
      "Component153: business, needs, guy, support, question\n",
      "Component154: tell, sad, every, guy, america\n",
      "Component155: enough, states, question, united, makes\n",
      "Component156: already, business, old, let, question\n",
      "Component157: let, guess, support, facts, guy\n",
      "Component158: question, makes, tell, sense, alaska\n",
      "Component159: might, help, question, find, lot\n",
      "Component160: support, help, needs, makes, already\n",
      "Component161: makes, media, sense, might, help\n",
      "Component162: might, find, things, business, canadian\n",
      "Component163: needs, let, system, police, person\n",
      "Component164: family, system, war, court, case\n",
      "Component165: yet, needs, gun, sad, house\n",
      "Component166: things, needs, part, probably, bill\n",
      "Component167: yet, things, family, seems, help\n",
      "Component168: needs, facts, fact, person, live\n",
      "Component169: find, system, needs, yet, political\n",
      "Component170: probably, yet, guess, person, support\n",
      "Component171: seems, far, support, live, china\n",
      "Component172: seems, far, help, part, america\n",
      "Component173: person, help, system, find, war\n",
      "Component174: part, police, call, help, live\n",
      "Component175: part, person, guess, wow, far\n",
      "Component176: seems, wow, find, seems like, city\n",
      "Component177: wow, guess, call, far, life\n",
      "Component178: wow, political, live, system, everyone\n",
      "Component179: call, bill, hate, republicans, person\n",
      "Component180: far, help, war, wow, rights\n",
      "Component181: wow, part, let, probably, america\n",
      "Component182: guess, police, live, bill, america\n",
      "Component183: call, political, guess, facts, house\n",
      "Component184: everyone, try, course, else, system\n",
      "Component185: try, since, political, police, least\n",
      "Component186: try, live, million, support, hate\n",
      "Component187: live, million, getting, away, political\n",
      "Component188: course, trumps, million, everyone, political\n",
      "Component189: everyone, since, try, call, else\n",
      "Component190: police, political, course, war, donald\n",
      "Component191: course, since, system, least, hate\n",
      "Component192: without, getting, taxes, war, system\n",
      "Component193: american, least, fact, children, whats\n",
      "Component194: fact, wont, republicans, sorry, trumps\n",
      "Component195: looks, looks like, sorry, without, seems\n",
      "Component196: sorry, feel, facts, least, wont\n",
      "Component197: without, least, wont, hate, evidence\n",
      "Component198: least, looks, fact, getting, looks like\n",
      "Component199: away, without, getting, election, trumps\n",
      "Component200: sorry, used, fact, house, hate\n",
      "Component201: least, used, getting, donald, trumps\n",
      "Component202: says, truth, system, sorry, since\n",
      "Component203: around, truth, donald, away, taxes\n",
      "Component204: donald, around, donald trump, away, show\n",
      "Component205: around, american, truth, power, less\n",
      "Component206: wonder, wont, funny, children, home\n",
      "Component207: truth, less, power, start, lets\n",
      "Component208: used, democrats, republicans, poor, talking\n",
      "Component209: wont, trumps, bill, start, america\n",
      "Component210: away, truth, least, wonder, show\n",
      "Component211: around, america, wonder, rights, says\n",
      "Component212: says, away, wonder, end, wont\n",
      "Component213: funny, yeah, political, away, wont\n",
      "Component214: talking, wont, funny, understand, perhaps\n",
      "Component215: home, funny, called, talking, issue\n",
      "Component216: less, away, understand, stupid, show\n",
      "Component217: talking, yeah, idea, used, home\n",
      "Component218: racist, perhaps, taxes, word, start\n",
      "Component219: start, lets, wont, used, making\n",
      "Component220: perhaps, funny, trumps, case, children\n",
      "Component221: show, stupid, perhaps, evidence, idea\n",
      "Component222: yeah, place, perhaps, trying, poor\n",
      "Component223: understand, whats, start, yeah, perhaps\n",
      "Component224: stupid, called, home, racist, poor\n",
      "Component225: stupid, end, theres, evidence, idea\n",
      "Component226: place, perhaps, rights, human, trumps\n",
      "Component227: issue, less, funny, whats, matter\n",
      "Component228: called, perhaps, lets, talking, matter\n",
      "Component229: stupid, issue, word, yeah, kids\n",
      "Component230: word, rail, hawaii, whats, perhaps\n",
      "Component231: whats, word, power, issue, place\n",
      "Component232: evidence, history, power, illegal, others\n",
      "Component233: saying, issue, rail, lets, word\n",
      "Component234: word, children, matter, history, end\n",
      "Component235: trying, run, idea, issue, matter\n",
      "Component236: run, start, called, case, theres\n",
      "Component237: history, saying, case, trying, whats\n",
      "Component238: end, pretty, history, racist, theres\n",
      "Component239: saying, making, whats, opinion, news\n",
      "Component240: theres, reason, saying, run, kids\n",
      "Component241: racist, making, run, children, house\n",
      "Component242: idea, saying, pretty, fake, run\n",
      "Component243: jobs, run, history, understand, idea\n",
      "Component244: idea, saying, jobs, children, trying\n",
      "Component245: pretty, canadians, theres, children, case\n",
      "Component246: pretty, hard, hear, run, words\n",
      "Component247: making, fake, opinion, jobs, ill\n",
      "Component248: hard, history, russia, idea, theres\n",
      "Component249: case, kids, end, different, idea\n",
      "Component250: others, canadians, different, making, end\n",
      "Component251: opinion, either, ill, different, children\n",
      "Component252: hear, ive, words, times, days\n",
      "Component253: different, words, pretty, russia, reason\n",
      "Component254: words, ive, either, russia, different\n",
      "Component255: canadians, theyre, hear, words, cost\n",
      "Component256: opinion, days, end, hard, making\n",
      "Component257: either, move, theyre, class, middle\n",
      "Component258: feel, kind, move, words, canadians\n",
      "Component259: words, hawaii, lost, matter, home\n",
      "Component260: ill, correct, others, days, move\n",
      "Component261: move, opinion, feel, lost, children\n",
      "Component262: days, etc, water, end, times\n",
      "Component263: times, reason, either, others, russia\n",
      "Component264: clinton, hawaii, buy, hear, water\n",
      "Component265: move, voted, interesting, republican, hear\n",
      "Component266: feel, ill, days, head, water\n",
      "Component267: canadians, kind, correct, cost, ive\n",
      "Component268: federal, move, making, deal, words\n",
      "Component269: head, means, water, ok, wait\n",
      "Component270: paid, kind, line, either, head\n",
      "Component271: days, theyre, coming, everything, different\n",
      "Component272: voted, americans, buy, canadians, republican\n",
      "Component273: federal, wouldnt, correct, head, ago\n",
      "Component274: correct, hard, feel, lost, black\n",
      "Component275: times, correct, wouldnt, theres, water\n",
      "Component276: etc, republican, ask, rather, wait\n",
      "Component277: paid, wouldnt, lost, office, feel\n",
      "Component278: voted, ha, plan, id, ago\n",
      "Component279: coming, rather, remember, else, makes\n",
      "Component280: remember, arent, coming, etc, black\n",
      "Component281: interesting, everything, ask, today, words\n",
      "Component282: voted, line, today, win, wait\n",
      "Component283: rest, wouldnt, office, today, ago\n",
      "Component284: harper, ok, republican, remember, etc\n",
      "Component285: arent, lost, ask, watch, majority\n",
      "Component286: coming, wouldnt, line, hawaii, though\n",
      "Component287: coming, correct, republican, income, rail\n",
      "Component288: deal, men, interesting, remember, republican\n",
      "Component289: mind, today, republican, means, excellent\n",
      "Component290: coming, win, cost, deal, laws\n",
      "Component291: today, arent, income, rather, russia\n",
      "Component292: line, men, americans, past, young\n",
      "Component293: cut, gets, buy, crime, kind\n",
      "Component294: ok, office, full, arent, private\n",
      "Component295: means, arent, ha, else, per\n",
      "Component296: win, harper, jesus, human, paid\n",
      "Component297: check, likely, goes, ask, working\n",
      "Component298: thinking, laws, excellent, ha, military\n",
      "Component299: gets, talk, thinking, happy, per\n"
     ]
    }
   ],
   "source": [
    "#get feature names out\n",
    "feature_names = tfidf_vectorizer.get_feature_names_out()\n",
    "\n",
    "#create mapping of feature names\n",
    "component_mapping = {}\n",
    "for i, component in enumerate(lsa.components_):\n",
    "    top_words_idx = component.argsort()[:-6:-1] #get index of top 5 words\n",
    "    top_words = [feature_names[idx]for idx in top_words_idx]\n",
    "    component_mapping[i]= top_words\n",
    "#print mapping\n",
    "for component, words in component_mapping.items():\n",
    "    print(f'Component{component}: {\", \".join(words)}')"
   ]
  },
  {
   "cell_type": "code",
   "execution_count": 61,
   "id": "2ac61614-02ae-495b-9098-e8a08c066e01",
   "metadata": {
    "scrolled": true
   },
   "outputs": [
    {
     "data": {
      "image/png": "[encoded data removed]",
      "text/plain": [
       "<Figure size 1000x600 with 1 Axes>"
      ]
     },
     "metadata": {},
     "output_type": "display_data"
    }
   ],
   "source": [
    "explained_variance_lsa = lsa.explained_variance_\n",
    "cumulative_explained_variance_lsa = np.cumsum(explained_variance_lsa)\n",
    "\n",
    "#plot the cumulative explained variance\n",
    "plt.figure(figsize=(10, 6))\n",
    "plt.plot(range(1, len(cumulative_explained_variance_lsa) + 1), cumulative_explained_variance_lsa, marker='o')\n",
    "plt.xlabel('Number of Components')\n",
    "plt.ylabel('Cumulative Explained Variance')\n",
    "plt.title('Cumulative Explained Variance Spectrum')\n",
    "plt.grid(True)\n",
    "plt.show()"
   ]
  },
  {
   "cell_type": "markdown",
   "id": "826b6413-09e2-4ad9-86b9-c049b345c6e0",
   "metadata": {},
   "source": [
    "LSA to reduce dimensionality: 300 components explain 12% of the total variance in data. "
   ]
  },
  {
   "cell_type": "markdown",
   "id": "02af7148-4009-48ba-86ff-b97423cb55e5",
   "metadata": {},
   "source": [
    "**Random Forest**\n",
    "\n",
    "<details>\n",
    "<summary>Default Parameters for RandomForestClassifier</summary>\n",
    "n_estimators: 100\n",
    "criterion: \"gini\"\n",
    "max_depth: None\n",
    "min_samples_split: 2\n",
    "min_samples_leaf: 1\n",
    "min_weight_fraction_leaf: 0.0\n",
    "max_features: \"auto\"\n",
    "max_leaf_nodes: None\n",
    "min_impurity_decrease: 0.0\n",
    "min_impurity_split: None\n",
    "bootstrap: True\n",
    "oob_score: False\n",
    "n_jobs: None\n",
    "random_state: None\n",
    "verbose: 0\n",
    "warm_start: False\n",
    "class_weight: None\n",
    "ccp_alpha: 0.0\n",
    "max_samples: None\n",
    "</details>"
   ]
  },
  {
   "cell_type": "code",
   "execution_count": 27,
   "id": "8ee66f06-969c-4ff9-9717-e72eca29d943",
   "metadata": {},
   "outputs": [],
   "source": [
    "rf_classifier = RandomForestClassifier(n_jobs= 3, random_state=42,class_weight='balanced')"
   ]
  },
  {
   "cell_type": "code",
   "execution_count": 28,
   "id": "e9c47948-bb21-46d4-95a3-48ed7845b2f9",
   "metadata": {},
   "outputs": [
    {
     "data": {
      "text/html": [
       "<style>#sk-container-id-1 {color: black;}#sk-container-id-1 pre{padding: 0;}#sk-container-id-1 div.sk-toggleable {background-color: white;}#sk-container-id-1 label.sk-toggleable__label {cursor: pointer;display: block;width: 100%;margin-bottom: 0;padding: 0.3em;box-sizing: border-box;text-align: center;}#sk-container-id-1 label.sk-toggleable__label-arrow:before {content: \"▸\";float: left;margin-right: 0.25em;color: #696969;}#sk-container-id-1 label.sk-toggleable__label-arrow:hover:before {color: black;}#sk-container-id-1 div.sk-estimator:hover label.sk-toggleable__label-arrow:before {color: black;}#sk-container-id-1 div.sk-toggleable__content {max-height: 0;max-width: 0;overflow: hidden;text-align: left;background-color: #f0f8ff;}#sk-container-id-1 div.sk-toggleable__content pre {margin: 0.2em;color: black;border-radius: 0.25em;background-color: #f0f8ff;}#sk-container-id-1 input.sk-toggleable__control:checked~div.sk-toggleable__content {max-height: 200px;max-width: 100%;overflow: auto;}#sk-container-id-1 input.sk-toggleable__control:checked~label.sk-toggleable__label-arrow:before {content: \"▾\";}#sk-container-id-1 div.sk-estimator input.sk-toggleable__control:checked~label.sk-toggleable__label {background-color: #d4ebff;}#sk-container-id-1 div.sk-label input.sk-toggleable__control:checked~label.sk-toggleable__label {background-color: #d4ebff;}#sk-container-id-1 input.sk-hidden--visually {border: 0;clip: rect(1px 1px 1px 1px);clip: rect(1px, 1px, 1px, 1px);height: 1px;margin: -1px;overflow: hidden;padding: 0;position: absolute;width: 1px;}#sk-container-id-1 div.sk-estimator {font-family: monospace;background-color: #f0f8ff;border: 1px dotted black;border-radius: 0.25em;box-sizing: border-box;margin-bottom: 0.5em;}#sk-container-id-1 div.sk-estimator:hover {background-color: #d4ebff;}#sk-container-id-1 div.sk-parallel-item::after {content: \"\";width: 100%;border-bottom: 1px solid gray;flex-grow: 1;}#sk-container-id-1 div.sk-label:hover label.sk-toggleable__label {background-color: #d4ebff;}#sk-container-id-1 div.sk-serial::before {content: \"\";position: absolute;border-left: 1px solid gray;box-sizing: border-box;top: 0;bottom: 0;left: 50%;z-index: 0;}#sk-container-id-1 div.sk-serial {display: flex;flex-direction: column;align-items: center;background-color: white;padding-right: 0.2em;padding-left: 0.2em;position: relative;}#sk-container-id-1 div.sk-item {position: relative;z-index: 1;}#sk-container-id-1 div.sk-parallel {display: flex;align-items: stretch;justify-content: center;background-color: white;position: relative;}#sk-container-id-1 div.sk-item::before, #sk-container-id-1 div.sk-parallel-item::before {content: \"\";position: absolute;border-left: 1px solid gray;box-sizing: border-box;top: 0;bottom: 0;left: 50%;z-index: -1;}#sk-container-id-1 div.sk-parallel-item {display: flex;flex-direction: column;z-index: 1;position: relative;background-color: white;}#sk-container-id-1 div.sk-parallel-item:first-child::after {align-self: flex-end;width: 50%;}#sk-container-id-1 div.sk-parallel-item:last-child::after {align-self: flex-start;width: 50%;}#sk-container-id-1 div.sk-parallel-item:only-child::after {width: 0;}#sk-container-id-1 div.sk-dashed-wrapped {border: 1px dashed gray;margin: 0 0.4em 0.5em 0.4em;box-sizing: border-box;padding-bottom: 0.4em;background-color: white;}#sk-container-id-1 div.sk-label label {font-family: monospace;font-weight: bold;display: inline-block;line-height: 1.2em;}#sk-container-id-1 div.sk-label-container {text-align: center;}#sk-container-id-1 div.sk-container {/* jupyter's `normalize.less` sets `[hidden] { display: none; }` but bootstrap.min.css set `[hidden] { display: none !important; }` so we also need the `!important` here to be able to override the default hidden behavior on the sphinx rendered scikit-learn.org. See: https://github.com/scikit-learn/scikit-learn/issues/21755 */display: inline-block !important;position: relative;}#sk-container-id-1 div.sk-text-repr-fallback {display: none;}</style><div id=\"sk-container-id-1\" class=\"sk-top-container\"><div class=\"sk-text-repr-fallback\"><pre>RandomForestClassifier(class_weight=&#x27;balanced&#x27;, n_jobs=3, random_state=42)</pre><b>In a Jupyter environment, please rerun this cell to show the HTML representation or trust the notebook. <br />On GitHub, the HTML representation is unable to render, please try loading this page with nbviewer.org.</b></div><div class=\"sk-container\" hidden><div class=\"sk-item\"><div class=\"sk-estimator sk-toggleable\"><input class=\"sk-toggleable__control sk-hidden--visually\" id=\"sk-estimator-id-1\" type=\"checkbox\" checked><label for=\"sk-estimator-id-1\" class=\"sk-toggleable__label sk-toggleable__label-arrow\">RandomForestClassifier</label><div class=\"sk-toggleable__content\"><pre>RandomForestClassifier(class_weight=&#x27;balanced&#x27;, n_jobs=3, random_state=42)</pre></div></div></div></div></div>"
      ],
      "text/plain": [
       "RandomForestClassifier(class_weight='balanced', n_jobs=3, random_state=42)"
      ]
     },
     "execution_count": 28,
     "metadata": {},
     "output_type": "execute_result"
    }
   ],
   "source": [
    "rf_classifier.fit(X_train_lsa, y_train)"
   ]
  },
  {
   "cell_type": "code",
   "execution_count": 29,
   "id": "88dfdeeb-b4a4-45f2-8bfe-0ddb0534dc01",
   "metadata": {},
   "outputs": [],
   "source": [
    "y_pred = rf_classifier.predict(X_test_lsa)"
   ]
  },
  {
   "cell_type": "code",
   "execution_count": 33,
   "id": "a33edb27-c76e-4f1a-ab30-1fca518072c3",
   "metadata": {},
   "outputs": [],
   "source": [
    "y_pred_train = rf_classifier.predict(X_train_lsa)"
   ]
  },
  {
   "cell_type": "code",
   "execution_count": 34,
   "id": "69f758ff-b46c-4fe3-867a-8c4cc8a7c87f",
   "metadata": {},
   "outputs": [
    {
     "name": "stdout",
     "output_type": "stream",
     "text": [
      "Training Set Metrics:\n",
      "Accuracy: 0.9934410824928762\n",
      "Precision: 0.9153859664529727\n",
      "Recall: 0.9793025047445462\n",
      "F1 Score: 0.9462661364998094\n"
     ]
    }
   ],
   "source": [
    "accuracy_train = accuracy_score(y_train, y_pred_train)\n",
    "precision_train = precision_score(y_train, y_pred_train)\n",
    "recall_train = recall_score(y_train, y_pred_train)\n",
    "f1_train = f1_score(y_train, y_pred_train)\n",
    "\n",
    "print(\"Training Set Metrics:\")\n",
    "print(f\"Accuracy: {accuracy_train}\")\n",
    "print(f\"Precision: {precision_train}\")\n",
    "print(f\"Recall: {recall_train}\")\n",
    "print(f\"F1 Score: {f1_train}\")"
   ]
  },
  {
   "cell_type": "code",
   "execution_count": 30,
   "id": "de08f8a6-b2c8-45b2-a692-512996ecbb7d",
   "metadata": {},
   "outputs": [
    {
     "name": "stdout",
     "output_type": "stream",
     "text": [
      "Accuracy: 0.9423551171393342\n",
      "Precision: 0.5172109443954104\n",
      "Recall: 0.10373517436714463\n",
      "F1 Score: 0.17281038041875554\n"
     ]
    }
   ],
   "source": [
    "accuracy = accuracy_score(y_test, y_pred)\n",
    "precision = precision_score(y_test, y_pred)\n",
    "recall = recall_score(y_test, y_pred)\n",
    "f1 = f1_score(y_test, y_pred)\n",
    "\n",
    "print(f\"Accuracy: {accuracy}\")\n",
    "print(f\"Precision: {precision}\")\n",
    "print(f\"Recall: {recall}\")\n",
    "print(f\"F1 Score: {f1}\")"
   ]
  },
  {
   "cell_type": "markdown",
   "id": "e116fe05-2af0-48e1-8d96-63c45d99a832",
   "metadata": {},
   "source": [
    "**Random Forest with 20% Sample of Data, Identifier: rf_sample**\n",
    "\n",
    "Random Forest will be done with a 20% sample of the data and optimized with grid search. \n",
    "- TF-IDF vectorization will be used and no max features set with n-grams (1,2), these vectorization parameters gave best results in baseline log.\n",
    "- LSA used to reduce dimensionality: n_compoments 100 "
   ]
  },
  {
   "cell_type": "code",
   "execution_count": 35,
   "id": "afb02e24-64d2-4155-b9a8-d6e66c51321a",
   "metadata": {},
   "outputs": [],
   "source": [
    "#take a sample from the train data set, take stratified sample to maintain distribution. \n",
    "sampled_train = train.groupby('binary_target', group_keys=False).apply(lambda x: x.sample(frac=0.2))"
   ]
  },
  {
   "cell_type": "code",
   "execution_count": 36,
   "id": "97fb340d-e6be-4131-90bd-af2ad51f2954",
   "metadata": {
    "scrolled": true
   },
   "outputs": [
    {
     "data": {
      "image/png": "[encoded data removed]",
      "text/plain": [
       "<Figure size 640x480 with 1 Axes>"
      ]
     },
     "metadata": {},
     "output_type": "display_data"
    },
    {
     "name": "stdout",
     "output_type": "stream",
     "text": [
      "The absolute class distribution is: {0: 339687, 1: 21288}\n",
      "Count for score 1: 21288\n",
      "Count for score 0: 339687\n",
      "\n",
      "The relative (%) class distribution is: \n",
      "binary_target\n",
      "0    94.102639\n",
      "1     5.897361\n",
      "Name: proportion, dtype: float64\n"
     ]
    }
   ],
   "source": [
    "#check distribution of binary_target in sample is same as overall dataset\n",
    "class_distribution = sampled_train['binary_target'].value_counts().to_dict()\n",
    "overall_count = sampled_train['binary_target'].value_counts(normalize=True)*100\n",
    "\n",
    "plt.bar(overall_count.index, overall_count.values)\n",
    "plt.title('Overall Distribution Binary Target sampled train')\n",
    "plt.xlabel('target')\n",
    "plt.ylabel('Percentage of target') \n",
    "\n",
    "plt.tight_layout()\n",
    "plt.show()\n",
    "print(f'The absolute class distribution is:', class_distribution)\n",
    "print(f'Count for score 1:', class_distribution[1])\n",
    "print(f'Count for score 0:', class_distribution[0])\n",
    "print('\\nThe relative (%) class distribution is:', f'\\n{overall_count}')"
   ]
  },
  {
   "cell_type": "code",
   "execution_count": 37,
   "id": "0048953f-0045-4f48-9699-52a7bc1a99b7",
   "metadata": {},
   "outputs": [],
   "source": [
    "X_train_sample = sampled_train['comment_text']\n",
    "y_train_sample = sampled_train['binary_target']"
   ]
  },
  {
   "cell_type": "code",
   "execution_count": 38,
   "id": "e898c2a2-148e-45e6-9289-a19a7e8a9836",
   "metadata": {},
   "outputs": [],
   "source": [
    "#TF-IDF vectorization, no max features\n",
    "tfidf_vectorizer1 = TfidfVectorizer(tokenizer= lambda x:my_tokenizer(x,**tokenizer_params_default),\n",
    "                                             min_df =10,\n",
    "                                             ngram_range=(1,2),\n",
    "                                            )"
   ]
  },
  {
   "cell_type": "code",
   "execution_count": 39,
   "id": "4797b264-594e-48a6-819f-2b634d271980",
   "metadata": {},
   "outputs": [
    {
     "name": "stderr",
     "output_type": "stream",
     "text": [
      "/Users/kamiasalango/anaconda3/envs/capstone_wavepower/lib/python3.8/site-packages/sklearn/feature_extraction/text.py:525: UserWarning: The parameter 'token_pattern' will not be used since 'tokenizer' is not None'\n",
      "  warnings.warn(\n"
     ]
    },
    {
     "name": "stdout",
     "output_type": "stream",
     "text": [
      "Vectorization took 31.84 seconds\n"
     ]
    }
   ],
   "source": [
    "#fit and transform X_train, use .fit_transform() method\n",
    "start_time = time.time()  #start timer\n",
    "\n",
    "X_train_transformed_1 = tfidf_vectorizer1.fit_transform(X_train_sample)\n",
    "\n",
    "end_time = time.time()  #end timer\n",
    "elapsed_time = end_time - start_time\n",
    "print(f\"Vectorization took {elapsed_time:.2f} seconds\") "
   ]
  },
  {
   "cell_type": "code",
   "execution_count": 40,
   "id": "4119022d-0e93-4c9c-aeec-dc50aad6ba25",
   "metadata": {},
   "outputs": [
    {
     "name": "stdout",
     "output_type": "stream",
     "text": [
      "Vectorization took 7.62 seconds\n"
     ]
    }
   ],
   "source": [
    "start_time = time.time()  #start timer\n",
    "\n",
    "X_test_transformed_1 = tfidf_vectorizer1.transform(X_test)\n",
    "\n",
    "end_time = time.time()  #end timer\n",
    "elapsed_time = end_time - start_time\n",
    "print(f\"Vectorization took {elapsed_time:.2f} seconds\") "
   ]
  },
  {
   "cell_type": "code",
   "execution_count": 42,
   "id": "d729b6f9-6291-4d1a-bd13-3cf6f07d6b6c",
   "metadata": {},
   "outputs": [
    {
     "data": {
      "text/plain": [
       "117600"
      ]
     },
     "execution_count": 42,
     "metadata": {},
     "output_type": "execute_result"
    }
   ],
   "source": [
    "X_train_transformed_1.shape[1]"
   ]
  },
  {
   "cell_type": "code",
   "execution_count": 49,
   "id": "8d4d003b-d7a5-4d25-b5ef-8d47b750408e",
   "metadata": {},
   "outputs": [],
   "source": [
    "##Use LSA to reduce dimensionality, n_component=100 reduce TF-IDF matrix by factor of 10\n",
    "lsa_1 = TruncatedSVD(n_components=100)\n",
    "X_train_lsa_1 = lsa_1.fit_transform(X_train_transformed_1)\n",
    "X_test_lsa_1 = lsa_1.transform(X_test_transformed_1)"
   ]
  },
  {
   "cell_type": "code",
   "execution_count": 55,
   "id": "3852e83a-87a0-43fe-bf96-5ade1d583189",
   "metadata": {
    "scrolled": true
   },
   "outputs": [
    {
     "data": {
      "image/png": "[encoded data removed]",
      "text/plain": [
       "<Figure size 1400x600 with 1 Axes>"
      ]
     },
     "metadata": {},
     "output_type": "display_data"
    }
   ],
   "source": [
    "explained_variance = lsa_1.explained_variance_\n",
    "\n",
    "plt.figure(figsize=(14, 6))\n",
    "sns.barplot(x=list(range(len(explained_variance))), y=explained_variance)\n",
    "plt.xlabel('Component')\n",
    "plt.ylabel('Explained Variance')\n",
    "plt.title('Explained Variance Spectrum')\n",
    "\n",
    "# Set x-axis ticks\n",
    "plt.xticks(ticks=range(len(explained_variance)), labels=range(1, len(explained_variance)+1), rotation=80)\n",
    "\n",
    "plt.show()"
   ]
  },
  {
   "cell_type": "code",
   "execution_count": 57,
   "id": "4d6ab10c-811e-466d-be31-917bb07243d7",
   "metadata": {},
   "outputs": [
    {
     "data": {
      "image/png": "[encoded data removed]",
      "text/plain": [
       "<Figure size 1000x600 with 1 Axes>"
      ]
     },
     "metadata": {},
     "output_type": "display_data"
    }
   ],
   "source": [
    "cumulative_explained_variance = np.cumsum(explained_variance)\n",
    "\n",
    "# Plot the cumulative explained variance\n",
    "plt.figure(figsize=(10, 6))\n",
    "plt.plot(range(1, len(cumulative_explained_variance) + 1), cumulative_explained_variance, marker='o')\n",
    "plt.xlabel('Number of Components')\n",
    "plt.ylabel('Cumulative Explained Variance')\n",
    "plt.title('Cumulative Explained Variance Spectrum')\n",
    "plt.grid(True)\n",
    "plt.show()"
   ]
  },
  {
   "cell_type": "code",
   "execution_count": 63,
   "id": "f268f424-76f0-416c-b14e-94ff240a2d89",
   "metadata": {},
   "outputs": [],
   "source": [
    "#random forest\n",
    "pipeline = Pipeline([\n",
    "    ('rf', RandomForestClassifier(class_weight='balanced',random_state=42, max_features='sqrt')),\n",
    "])"
   ]
  },
  {
   "cell_type": "code",
   "execution_count": 62,
   "id": "fa886b4e-4812-4417-b630-7dfc12fb83ff",
   "metadata": {},
   "outputs": [],
   "source": [
    "#param grid\n",
    "param_grid_rf = {\n",
    "    'rf__n_estimators': [25, 50, 100],\n",
    "    'rf__max_depth': [2, 5, 10],\n",
    "    'rf__min_samples_split': [2, 5, 10],\n",
    "    'rf__min_samples_leaf': [1, 2, 4],\n",
    "}"
   ]
  },
  {
   "cell_type": "code",
   "execution_count": 64,
   "id": "68834f9a-6526-425e-9e8c-84835410cf08",
   "metadata": {},
   "outputs": [
    {
     "name": "stdout",
     "output_type": "stream",
     "text": [
      "Best Parameters for rf_sample: {'rf__max_depth': 10, 'rf__min_samples_leaf': 2, 'rf__min_samples_split': 10, 'rf__n_estimators': 100}\n",
      "Best F1 Score Score for rf_sample: 0.20542546002441187\n",
      "Accuracy for rf_sample: 0.8016898677193711\n",
      "Elapsed Time for rf_sample: 9554.09103012085 seconds\n"
     ]
    }
   ],
   "source": [
    "scoring_metric = 'F1 Score'\n",
    "results_rf_sample= run_grid_search(X_train_lsa_1, y_train_sample, param_grid_rf, pipeline, \n",
    "                                 scoring_metric, 'rf_sample', n_grams='(1,2)', vectorization= 'TF-IDF', \n",
    "                                 tokenizer_params= 'default')"
   ]
  },
  {
   "cell_type": "code",
   "execution_count": 65,
   "id": "3e6781d4-0255-49df-b65a-5276c6508692",
   "metadata": {},
   "outputs": [],
   "source": [
    "#get best model and predict\n",
    "rf_sample_model = results_rf_sample.best_estimator_\n",
    "y_pred_rf_sample = rf_sample_model.predict(X_test_lsa_1)"
   ]
  },
  {
   "cell_type": "code",
   "execution_count": 66,
   "id": "131305ac-ee73-4185-919a-d4aed942e518",
   "metadata": {},
   "outputs": [
    {
     "name": "stdout",
     "output_type": "stream",
     "text": [
      "Metrics rf_sample\n",
      "Accuracy: 0.7851931771475544, Precision: 0.12750268580916105, Recall: 0.46220570012391576, F1 Score: 0.19986986642170934\n"
     ]
    }
   ],
   "source": [
    "#look at metrics\n",
    "accuracy_rf_sample = accuracy_score(y_test, y_pred_rf_sample)\n",
    "precision_rf_sample = precision_score(y_test, y_pred_rf_sample)\n",
    "recall_rf_sample = recall_score(y_test, y_pred_rf_sample)\n",
    "f1_rf_sample = f1_score(y_test, y_pred_rf_sample)\n",
    "\n",
    "print('Metrics rf_sample')\n",
    "print(f\"Accuracy: {accuracy_rf_sample}, Precision: {precision_rf_sample}, Recall: {recall_rf_sample}, F1 Score: {f1_rf_sample}\")"
   ]
  },
  {
   "cell_type": "markdown",
   "id": "adc517d3-f7fe-4040-9a8e-620c2b2daf35",
   "metadata": {},
   "source": [
    "# Results and Summary\n",
    "\n",
    "The results of random forest show lower scores than the best baseline logistic regression model. Parameters could be optimized further and LSA component number could also be adjusted. Random Forest could also be done without LSA. For the purpose of this analysis further optimization of the random forest model may be revisited. Moving forward DistilBERT will be evaluated for classification of toxicity using this data set. "
   ]
  },
  {
   "cell_type": "code",
   "execution_count": null,
   "id": "d5289c5b-36ef-4d33-8bee-7d0af0c7701d",
   "metadata": {},
   "outputs": [],
   "source": []
  }
 ],
 "metadata": {
  "kernelspec": {
   "display_name": "Python 3 (ipykernel)",
   "language": "python",
   "name": "python3"
  },
  "language_info": {
   "codemirror_mode": {
    "name": "ipython",
    "version": 3
   },
   "file_extension": ".py",
   "mimetype": "text/x-python",
   "name": "python",
   "nbconvert_exporter": "python",
   "pygments_lexer": "ipython3",
   "version": "3.8.18"
  }
 },
 "nbformat": 4,
 "nbformat_minor": 5
}
