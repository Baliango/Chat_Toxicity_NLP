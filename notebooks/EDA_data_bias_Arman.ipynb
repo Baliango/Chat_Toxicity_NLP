{
 "cells": [
  {
   "cell_type": "markdown",
   "id": "0f3a66ce-5b11-41ef-aa8e-f535488121ca",
   "metadata": {},
   "source": [
    "## Intro\n",
    "\n",
    "We will be performing EDA on the jigsaw unintended bias dataset.\n",
    "\n",
    "The data consists of 2 million comments from Civil Comments, which has since been taken down: **['read more about Civil Comments here'](https://medium.com/@aja_15265/saying-goodbye-to-civil-comments-41859d3a2b1d)**\n",
    "\n",
    "Background on the dataset can be found here: **['kaggle toxicity classification data'](https://www.kaggle.com/c/jigsaw-unintended-bias-in-toxicity-classification/data)**\n",
    "\n",
    "Some notible takeaeays from the competitions dataset:\n",
    "\n",
    "- For evaluation, test set examples with target >= 0.5 will be considered to be in the positive class (toxic).\n",
    "\n",
    "### Labelling Schema\n",
    "\n",
    "To obtain the toxicity labels, each comment was shown to up to 10 annotators. Annotators were asked to: 'Rate the toxicity of this comment'\n",
    "\n",
    "- Very Toxic (a very hateful, aggressive, or disrespectful comment that is very likely to make you leave a discussion or give up on sharing your perspective)\n",
    "- Toxic (a rude, disrespectful, or unreasonable comment that is somewhat likely to make you leave a discussion or give up on sharing your perspective)\n",
    "- Hard to Say\n",
    "- Not Toxic\n",
    "\n",
    "These ratings were then aggregated with the target value representing the fraction of annotations that annotations fell within the former two categories.\n",
    "\n",
    "### Annotators\n",
    "\n",
    "Toxicity and identity labeling was done in 2018 on the Figure Eight crowd rating platform, which has since been purchased by Appen. Annotators came from all over the world, and all were proficient in English.\n",
    "\n",
    "Raters were compensated 1.5 cents per judgment, a rate that was set based on two factors: what rates were competitive on the platform and targeting an hourly wage appropriate for raters' locales.\n",
    "\n",
    "Figure Eight offers raters the option to select from multiple tasks with different pay, so rates need to be competitive to attract enough raters. At a rate of 1.5 cents per judgment, enough raters participated to complete this annotation in a few weeks. Following task completion, raters were given a satisfaction survey where the average score for \"Pay\" was 3.8 out of 5, which aligned with Figure Eight's recommendation to target pay to a satisfaction score greater than 3.5.\n",
    "\n",
    "Hourly rates for workers depend on how fast judgements were completed. Most raters will have earned between 0.90/hour (at one comment per minute) to 5.40/hour (at 6 comments per minute), which aligns with typical hourly pay in the geographic regions where most raters are located.\n",
    "\n",
    "Since this dataset was annotated in 2018, more tools have become available to help set rates. Consequently, typical pay for data annotation is increasing globally.globally. Toxic"
   ]
  },
  {
   "cell_type": "code",
   "execution_count": 2,
   "id": "c6a5bf6c-7591-4fc1-8863-1ab8f1b31f43",
   "metadata": {},
   "outputs": [],
   "source": [
    "import pandas as pd\n",
    "import numpy as np\n",
    "import matplotlib.pyplot as plt"
   ]
  },
  {
   "cell_type": "code",
   "execution_count": 14,
   "id": "6b9a906e-ed6f-45a7-90aa-3beef59a46e9",
   "metadata": {},
   "outputs": [],
   "source": [
    "df = pd.read_csv('../data/kaggle_bias/all_data.csv')"
   ]
  },
  {
   "cell_type": "code",
   "execution_count": 7,
   "id": "28ce3e78-b094-4536-a293-86bac4d9d047",
   "metadata": {},
   "outputs": [
    {
     "data": {
      "text/html": [
       "<div>\n",
       "<style scoped>\n",
       "    .dataframe tbody tr th:only-of-type {\n",
       "        vertical-align: middle;\n",
       "    }\n",
       "\n",
       "    .dataframe tbody tr th {\n",
       "        vertical-align: top;\n",
       "    }\n",
       "\n",
       "    .dataframe thead th {\n",
       "        text-align: right;\n",
       "    }\n",
       "</style>\n",
       "<table border=\"1\" class=\"dataframe\">\n",
       "  <thead>\n",
       "    <tr style=\"text-align: right;\">\n",
       "      <th></th>\n",
       "      <th>id</th>\n",
       "      <th>comment_text</th>\n",
       "      <th>split</th>\n",
       "      <th>created_date</th>\n",
       "      <th>publication_id</th>\n",
       "      <th>parent_id</th>\n",
       "      <th>article_id</th>\n",
       "      <th>rating</th>\n",
       "      <th>funny</th>\n",
       "      <th>wow</th>\n",
       "      <th>...</th>\n",
       "      <th>white</th>\n",
       "      <th>asian</th>\n",
       "      <th>latino</th>\n",
       "      <th>other_race_or_ethnicity</th>\n",
       "      <th>physical_disability</th>\n",
       "      <th>intellectual_or_learning_disability</th>\n",
       "      <th>psychiatric_or_mental_illness</th>\n",
       "      <th>other_disability</th>\n",
       "      <th>identity_annotator_count</th>\n",
       "      <th>toxicity_annotator_count</th>\n",
       "    </tr>\n",
       "  </thead>\n",
       "  <tbody>\n",
       "    <tr>\n",
       "      <th>0</th>\n",
       "      <td>1083994</td>\n",
       "      <td>He got his money... now he lies in wait till a...</td>\n",
       "      <td>train</td>\n",
       "      <td>2017-03-06 15:21:53.675241+00</td>\n",
       "      <td>21</td>\n",
       "      <td>NaN</td>\n",
       "      <td>317120</td>\n",
       "      <td>approved</td>\n",
       "      <td>0</td>\n",
       "      <td>0</td>\n",
       "      <td>...</td>\n",
       "      <td>NaN</td>\n",
       "      <td>NaN</td>\n",
       "      <td>NaN</td>\n",
       "      <td>NaN</td>\n",
       "      <td>NaN</td>\n",
       "      <td>NaN</td>\n",
       "      <td>NaN</td>\n",
       "      <td>NaN</td>\n",
       "      <td>0</td>\n",
       "      <td>67</td>\n",
       "    </tr>\n",
       "    <tr>\n",
       "      <th>1</th>\n",
       "      <td>650904</td>\n",
       "      <td>Mad dog will surely put the liberals in mental...</td>\n",
       "      <td>train</td>\n",
       "      <td>2016-12-02 16:44:21.329535+00</td>\n",
       "      <td>21</td>\n",
       "      <td>NaN</td>\n",
       "      <td>154086</td>\n",
       "      <td>approved</td>\n",
       "      <td>0</td>\n",
       "      <td>0</td>\n",
       "      <td>...</td>\n",
       "      <td>NaN</td>\n",
       "      <td>NaN</td>\n",
       "      <td>NaN</td>\n",
       "      <td>NaN</td>\n",
       "      <td>NaN</td>\n",
       "      <td>NaN</td>\n",
       "      <td>NaN</td>\n",
       "      <td>NaN</td>\n",
       "      <td>0</td>\n",
       "      <td>76</td>\n",
       "    </tr>\n",
       "    <tr>\n",
       "      <th>2</th>\n",
       "      <td>5902188</td>\n",
       "      <td>And Trump continues his lifelong cowardice by ...</td>\n",
       "      <td>train</td>\n",
       "      <td>2017-09-05 19:05:32.341360+00</td>\n",
       "      <td>55</td>\n",
       "      <td>NaN</td>\n",
       "      <td>374342</td>\n",
       "      <td>approved</td>\n",
       "      <td>1</td>\n",
       "      <td>0</td>\n",
       "      <td>...</td>\n",
       "      <td>NaN</td>\n",
       "      <td>NaN</td>\n",
       "      <td>NaN</td>\n",
       "      <td>NaN</td>\n",
       "      <td>NaN</td>\n",
       "      <td>NaN</td>\n",
       "      <td>NaN</td>\n",
       "      <td>NaN</td>\n",
       "      <td>0</td>\n",
       "      <td>63</td>\n",
       "    </tr>\n",
       "    <tr>\n",
       "      <th>3</th>\n",
       "      <td>7084460</td>\n",
       "      <td>\"while arresting a man for resisting arrest\".\\...</td>\n",
       "      <td>test</td>\n",
       "      <td>2016-11-01 16:53:33.561631+00</td>\n",
       "      <td>13</td>\n",
       "      <td>NaN</td>\n",
       "      <td>149218</td>\n",
       "      <td>approved</td>\n",
       "      <td>0</td>\n",
       "      <td>0</td>\n",
       "      <td>...</td>\n",
       "      <td>NaN</td>\n",
       "      <td>NaN</td>\n",
       "      <td>NaN</td>\n",
       "      <td>NaN</td>\n",
       "      <td>NaN</td>\n",
       "      <td>NaN</td>\n",
       "      <td>NaN</td>\n",
       "      <td>NaN</td>\n",
       "      <td>0</td>\n",
       "      <td>76</td>\n",
       "    </tr>\n",
       "    <tr>\n",
       "      <th>4</th>\n",
       "      <td>5410943</td>\n",
       "      <td>Tucker and Paul are both total bad ass mofo's.</td>\n",
       "      <td>train</td>\n",
       "      <td>2017-06-14 05:08:21.997315+00</td>\n",
       "      <td>21</td>\n",
       "      <td>NaN</td>\n",
       "      <td>344096</td>\n",
       "      <td>approved</td>\n",
       "      <td>0</td>\n",
       "      <td>0</td>\n",
       "      <td>...</td>\n",
       "      <td>NaN</td>\n",
       "      <td>NaN</td>\n",
       "      <td>NaN</td>\n",
       "      <td>NaN</td>\n",
       "      <td>NaN</td>\n",
       "      <td>NaN</td>\n",
       "      <td>NaN</td>\n",
       "      <td>NaN</td>\n",
       "      <td>0</td>\n",
       "      <td>80</td>\n",
       "    </tr>\n",
       "    <tr>\n",
       "      <th>...</th>\n",
       "      <td>...</td>\n",
       "      <td>...</td>\n",
       "      <td>...</td>\n",
       "      <td>...</td>\n",
       "      <td>...</td>\n",
       "      <td>...</td>\n",
       "      <td>...</td>\n",
       "      <td>...</td>\n",
       "      <td>...</td>\n",
       "      <td>...</td>\n",
       "      <td>...</td>\n",
       "      <td>...</td>\n",
       "      <td>...</td>\n",
       "      <td>...</td>\n",
       "      <td>...</td>\n",
       "      <td>...</td>\n",
       "      <td>...</td>\n",
       "      <td>...</td>\n",
       "      <td>...</td>\n",
       "      <td>...</td>\n",
       "      <td>...</td>\n",
       "    </tr>\n",
       "    <tr>\n",
       "      <th>1999511</th>\n",
       "      <td>1018736</td>\n",
       "      <td>Another man shamming article. If white men did...</td>\n",
       "      <td>train</td>\n",
       "      <td>2017-02-20 07:20:49.964620+00</td>\n",
       "      <td>54</td>\n",
       "      <td>NaN</td>\n",
       "      <td>169202</td>\n",
       "      <td>approved</td>\n",
       "      <td>0</td>\n",
       "      <td>0</td>\n",
       "      <td>...</td>\n",
       "      <td>0.8</td>\n",
       "      <td>0.0</td>\n",
       "      <td>0.0</td>\n",
       "      <td>0.0</td>\n",
       "      <td>0.000000</td>\n",
       "      <td>0.0</td>\n",
       "      <td>0.0</td>\n",
       "      <td>0.00000</td>\n",
       "      <td>10</td>\n",
       "      <td>10</td>\n",
       "    </tr>\n",
       "    <tr>\n",
       "      <th>1999512</th>\n",
       "      <td>340016</td>\n",
       "      <td>\"no matter what is put in front of you regardi...</td>\n",
       "      <td>train</td>\n",
       "      <td>2016-06-06 06:43:04.780968+00</td>\n",
       "      <td>21</td>\n",
       "      <td>339965.0</td>\n",
       "      <td>137961</td>\n",
       "      <td>approved</td>\n",
       "      <td>0</td>\n",
       "      <td>0</td>\n",
       "      <td>...</td>\n",
       "      <td>0.0</td>\n",
       "      <td>0.0</td>\n",
       "      <td>0.0</td>\n",
       "      <td>0.0</td>\n",
       "      <td>0.000000</td>\n",
       "      <td>0.0</td>\n",
       "      <td>0.0</td>\n",
       "      <td>0.00000</td>\n",
       "      <td>10</td>\n",
       "      <td>10</td>\n",
       "    </tr>\n",
       "    <tr>\n",
       "      <th>1999513</th>\n",
       "      <td>919629</td>\n",
       "      <td>The Democrat party aided and abetted by it's M...</td>\n",
       "      <td>train</td>\n",
       "      <td>2017-01-30 02:44:29.168863+00</td>\n",
       "      <td>54</td>\n",
       "      <td>NaN</td>\n",
       "      <td>164845</td>\n",
       "      <td>rejected</td>\n",
       "      <td>0</td>\n",
       "      <td>1</td>\n",
       "      <td>...</td>\n",
       "      <td>0.0</td>\n",
       "      <td>0.0</td>\n",
       "      <td>0.0</td>\n",
       "      <td>0.0</td>\n",
       "      <td>0.000000</td>\n",
       "      <td>0.0</td>\n",
       "      <td>0.0</td>\n",
       "      <td>0.00000</td>\n",
       "      <td>11</td>\n",
       "      <td>10</td>\n",
       "    </tr>\n",
       "    <tr>\n",
       "      <th>1999514</th>\n",
       "      <td>5165492</td>\n",
       "      <td>I just don't find her a very good representati...</td>\n",
       "      <td>train</td>\n",
       "      <td>2017-04-22 18:42:02.442987+00</td>\n",
       "      <td>54</td>\n",
       "      <td>NaN</td>\n",
       "      <td>328877</td>\n",
       "      <td>approved</td>\n",
       "      <td>1</td>\n",
       "      <td>0</td>\n",
       "      <td>...</td>\n",
       "      <td>0.0</td>\n",
       "      <td>0.0</td>\n",
       "      <td>0.0</td>\n",
       "      <td>0.0</td>\n",
       "      <td>0.003717</td>\n",
       "      <td>0.0</td>\n",
       "      <td>0.0</td>\n",
       "      <td>0.00000</td>\n",
       "      <td>269</td>\n",
       "      <td>10</td>\n",
       "    </tr>\n",
       "    <tr>\n",
       "      <th>1999515</th>\n",
       "      <td>4984105</td>\n",
       "      <td>You know the Trump fanatics are trolling the G...</td>\n",
       "      <td>train</td>\n",
       "      <td>2017-03-10 00:55:35.369198+00</td>\n",
       "      <td>54</td>\n",
       "      <td>807615.0</td>\n",
       "      <td>156960</td>\n",
       "      <td>approved</td>\n",
       "      <td>1</td>\n",
       "      <td>0</td>\n",
       "      <td>...</td>\n",
       "      <td>0.0</td>\n",
       "      <td>0.0</td>\n",
       "      <td>0.0</td>\n",
       "      <td>0.0</td>\n",
       "      <td>0.000000</td>\n",
       "      <td>0.0</td>\n",
       "      <td>0.0</td>\n",
       "      <td>0.00064</td>\n",
       "      <td>1562</td>\n",
       "      <td>10</td>\n",
       "    </tr>\n",
       "  </tbody>\n",
       "</table>\n",
       "<p>1999516 rows × 46 columns</p>\n",
       "</div>"
      ],
      "text/plain": [
       "              id                                       comment_text  split  \\\n",
       "0        1083994  He got his money... now he lies in wait till a...  train   \n",
       "1         650904  Mad dog will surely put the liberals in mental...  train   \n",
       "2        5902188  And Trump continues his lifelong cowardice by ...  train   \n",
       "3        7084460  \"while arresting a man for resisting arrest\".\\...   test   \n",
       "4        5410943     Tucker and Paul are both total bad ass mofo's.  train   \n",
       "...          ...                                                ...    ...   \n",
       "1999511  1018736  Another man shamming article. If white men did...  train   \n",
       "1999512   340016  \"no matter what is put in front of you regardi...  train   \n",
       "1999513   919629  The Democrat party aided and abetted by it's M...  train   \n",
       "1999514  5165492  I just don't find her a very good representati...  train   \n",
       "1999515  4984105  You know the Trump fanatics are trolling the G...  train   \n",
       "\n",
       "                          created_date  publication_id  parent_id  article_id  \\\n",
       "0        2017-03-06 15:21:53.675241+00              21        NaN      317120   \n",
       "1        2016-12-02 16:44:21.329535+00              21        NaN      154086   \n",
       "2        2017-09-05 19:05:32.341360+00              55        NaN      374342   \n",
       "3        2016-11-01 16:53:33.561631+00              13        NaN      149218   \n",
       "4        2017-06-14 05:08:21.997315+00              21        NaN      344096   \n",
       "...                                ...             ...        ...         ...   \n",
       "1999511  2017-02-20 07:20:49.964620+00              54        NaN      169202   \n",
       "1999512  2016-06-06 06:43:04.780968+00              21   339965.0      137961   \n",
       "1999513  2017-01-30 02:44:29.168863+00              54        NaN      164845   \n",
       "1999514  2017-04-22 18:42:02.442987+00              54        NaN      328877   \n",
       "1999515  2017-03-10 00:55:35.369198+00              54   807615.0      156960   \n",
       "\n",
       "           rating  funny  wow  ...  white  asian  latino  \\\n",
       "0        approved      0    0  ...    NaN    NaN     NaN   \n",
       "1        approved      0    0  ...    NaN    NaN     NaN   \n",
       "2        approved      1    0  ...    NaN    NaN     NaN   \n",
       "3        approved      0    0  ...    NaN    NaN     NaN   \n",
       "4        approved      0    0  ...    NaN    NaN     NaN   \n",
       "...           ...    ...  ...  ...    ...    ...     ...   \n",
       "1999511  approved      0    0  ...    0.8    0.0     0.0   \n",
       "1999512  approved      0    0  ...    0.0    0.0     0.0   \n",
       "1999513  rejected      0    1  ...    0.0    0.0     0.0   \n",
       "1999514  approved      1    0  ...    0.0    0.0     0.0   \n",
       "1999515  approved      1    0  ...    0.0    0.0     0.0   \n",
       "\n",
       "         other_race_or_ethnicity  physical_disability  \\\n",
       "0                            NaN                  NaN   \n",
       "1                            NaN                  NaN   \n",
       "2                            NaN                  NaN   \n",
       "3                            NaN                  NaN   \n",
       "4                            NaN                  NaN   \n",
       "...                          ...                  ...   \n",
       "1999511                      0.0             0.000000   \n",
       "1999512                      0.0             0.000000   \n",
       "1999513                      0.0             0.000000   \n",
       "1999514                      0.0             0.003717   \n",
       "1999515                      0.0             0.000000   \n",
       "\n",
       "         intellectual_or_learning_disability  psychiatric_or_mental_illness  \\\n",
       "0                                        NaN                            NaN   \n",
       "1                                        NaN                            NaN   \n",
       "2                                        NaN                            NaN   \n",
       "3                                        NaN                            NaN   \n",
       "4                                        NaN                            NaN   \n",
       "...                                      ...                            ...   \n",
       "1999511                                  0.0                            0.0   \n",
       "1999512                                  0.0                            0.0   \n",
       "1999513                                  0.0                            0.0   \n",
       "1999514                                  0.0                            0.0   \n",
       "1999515                                  0.0                            0.0   \n",
       "\n",
       "         other_disability  identity_annotator_count  toxicity_annotator_count  \n",
       "0                     NaN                         0                        67  \n",
       "1                     NaN                         0                        76  \n",
       "2                     NaN                         0                        63  \n",
       "3                     NaN                         0                        76  \n",
       "4                     NaN                         0                        80  \n",
       "...                   ...                       ...                       ...  \n",
       "1999511           0.00000                        10                        10  \n",
       "1999512           0.00000                        10                        10  \n",
       "1999513           0.00000                        11                        10  \n",
       "1999514           0.00000                       269                        10  \n",
       "1999515           0.00064                      1562                        10  \n",
       "\n",
       "[1999516 rows x 46 columns]"
      ]
     },
     "execution_count": 7,
     "metadata": {},
     "output_type": "execute_result"
    }
   ],
   "source": [
    "df"
   ]
  },
  {
   "cell_type": "code",
   "execution_count": 8,
   "id": "f1fec6f0-eb09-4ff5-bb51-4c4c94d58d7a",
   "metadata": {},
   "outputs": [
    {
     "data": {
      "text/html": [
       "<div>\n",
       "<style scoped>\n",
       "    .dataframe tbody tr th:only-of-type {\n",
       "        vertical-align: middle;\n",
       "    }\n",
       "\n",
       "    .dataframe tbody tr th {\n",
       "        vertical-align: top;\n",
       "    }\n",
       "\n",
       "    .dataframe thead th {\n",
       "        text-align: right;\n",
       "    }\n",
       "</style>\n",
       "<table border=\"1\" class=\"dataframe\">\n",
       "  <thead>\n",
       "    <tr style=\"text-align: right;\">\n",
       "      <th></th>\n",
       "      <th>comment_text</th>\n",
       "      <th>toxicity</th>\n",
       "    </tr>\n",
       "  </thead>\n",
       "  <tbody>\n",
       "    <tr>\n",
       "      <th>0</th>\n",
       "      <td>He got his money... now he lies in wait till a...</td>\n",
       "      <td>0.373134</td>\n",
       "    </tr>\n",
       "    <tr>\n",
       "      <th>1</th>\n",
       "      <td>Mad dog will surely put the liberals in mental...</td>\n",
       "      <td>0.605263</td>\n",
       "    </tr>\n",
       "    <tr>\n",
       "      <th>2</th>\n",
       "      <td>And Trump continues his lifelong cowardice by ...</td>\n",
       "      <td>0.666667</td>\n",
       "    </tr>\n",
       "    <tr>\n",
       "      <th>3</th>\n",
       "      <td>\"while arresting a man for resisting arrest\".\\...</td>\n",
       "      <td>0.815789</td>\n",
       "    </tr>\n",
       "    <tr>\n",
       "      <th>4</th>\n",
       "      <td>Tucker and Paul are both total bad ass mofo's.</td>\n",
       "      <td>0.550000</td>\n",
       "    </tr>\n",
       "    <tr>\n",
       "      <th>...</th>\n",
       "      <td>...</td>\n",
       "      <td>...</td>\n",
       "    </tr>\n",
       "    <tr>\n",
       "      <th>1999511</th>\n",
       "      <td>Another man shamming article. If white men did...</td>\n",
       "      <td>0.400000</td>\n",
       "    </tr>\n",
       "    <tr>\n",
       "      <th>1999512</th>\n",
       "      <td>\"no matter what is put in front of you regardi...</td>\n",
       "      <td>0.400000</td>\n",
       "    </tr>\n",
       "    <tr>\n",
       "      <th>1999513</th>\n",
       "      <td>The Democrat party aided and abetted by it's M...</td>\n",
       "      <td>0.400000</td>\n",
       "    </tr>\n",
       "    <tr>\n",
       "      <th>1999514</th>\n",
       "      <td>I just don't find her a very good representati...</td>\n",
       "      <td>0.400000</td>\n",
       "    </tr>\n",
       "    <tr>\n",
       "      <th>1999515</th>\n",
       "      <td>You know the Trump fanatics are trolling the G...</td>\n",
       "      <td>0.400000</td>\n",
       "    </tr>\n",
       "  </tbody>\n",
       "</table>\n",
       "<p>1999516 rows × 2 columns</p>\n",
       "</div>"
      ],
      "text/plain": [
       "                                              comment_text  toxicity\n",
       "0        He got his money... now he lies in wait till a...  0.373134\n",
       "1        Mad dog will surely put the liberals in mental...  0.605263\n",
       "2        And Trump continues his lifelong cowardice by ...  0.666667\n",
       "3        \"while arresting a man for resisting arrest\".\\...  0.815789\n",
       "4           Tucker and Paul are both total bad ass mofo's.  0.550000\n",
       "...                                                    ...       ...\n",
       "1999511  Another man shamming article. If white men did...  0.400000\n",
       "1999512  \"no matter what is put in front of you regardi...  0.400000\n",
       "1999513  The Democrat party aided and abetted by it's M...  0.400000\n",
       "1999514  I just don't find her a very good representati...  0.400000\n",
       "1999515  You know the Trump fanatics are trolling the G...  0.400000\n",
       "\n",
       "[1999516 rows x 2 columns]"
      ]
     },
     "execution_count": 8,
     "metadata": {},
     "output_type": "execute_result"
    }
   ],
   "source": [
    "df[['comment_text', 'toxicity']]"
   ]
  },
  {
   "cell_type": "markdown",
   "id": "c3a6568e-9a74-42b0-af49-2b9a2e21d836",
   "metadata": {},
   "source": [
    "Our average comment length:"
   ]
  },
  {
   "cell_type": "code",
   "execution_count": 19,
   "id": "473c2b7a-f82f-4a68-b499-d7a1ed6cfed8",
   "metadata": {},
   "outputs": [
    {
     "data": {
      "text/plain": [
       "297.2538514397513"
      ]
     },
     "execution_count": 19,
     "metadata": {},
     "output_type": "execute_result"
    }
   ],
   "source": [
    "df['comment_text'].str.len().mean()"
   ]
  },
  {
   "cell_type": "code",
   "execution_count": 20,
   "id": "f51545af-845c-4cc6-8202-27ca2f6e414d",
   "metadata": {},
   "outputs": [
    {
     "name": "stdout",
     "output_type": "stream",
     "text": [
      "<class 'pandas.core.frame.DataFrame'>\n",
      "RangeIndex: 1999516 entries, 0 to 1999515\n",
      "Data columns (total 46 columns):\n",
      " #   Column                               Dtype  \n",
      "---  ------                               -----  \n",
      " 0   id                                   int64  \n",
      " 1   comment_text                         object \n",
      " 2   split                                object \n",
      " 3   created_date                         object \n",
      " 4   publication_id                       int64  \n",
      " 5   parent_id                            float64\n",
      " 6   article_id                           int64  \n",
      " 7   rating                               object \n",
      " 8   funny                                int64  \n",
      " 9   wow                                  int64  \n",
      " 10  sad                                  int64  \n",
      " 11  likes                                int64  \n",
      " 12  disagree                             int64  \n",
      " 13  toxicity                             float64\n",
      " 14  severe_toxicity                      float64\n",
      " 15  obscene                              float64\n",
      " 16  sexual_explicit                      float64\n",
      " 17  identity_attack                      float64\n",
      " 18  insult                               float64\n",
      " 19  threat                               float64\n",
      " 20  male                                 float64\n",
      " 21  female                               float64\n",
      " 22  transgender                          float64\n",
      " 23  other_gender                         float64\n",
      " 24  heterosexual                         float64\n",
      " 25  homosexual_gay_or_lesbian            float64\n",
      " 26  bisexual                             float64\n",
      " 27  other_sexual_orientation             float64\n",
      " 28  christian                            float64\n",
      " 29  jewish                               float64\n",
      " 30  muslim                               float64\n",
      " 31  hindu                                float64\n",
      " 32  buddhist                             float64\n",
      " 33  atheist                              float64\n",
      " 34  other_religion                       float64\n",
      " 35  black                                float64\n",
      " 36  white                                float64\n",
      " 37  asian                                float64\n",
      " 38  latino                               float64\n",
      " 39  other_race_or_ethnicity              float64\n",
      " 40  physical_disability                  float64\n",
      " 41  intellectual_or_learning_disability  float64\n",
      " 42  psychiatric_or_mental_illness        float64\n",
      " 43  other_disability                     float64\n",
      " 44  identity_annotator_count             int64  \n",
      " 45  toxicity_annotator_count             int64  \n",
      "dtypes: float64(32), int64(10), object(4)\n",
      "memory usage: 701.7+ MB\n"
     ]
    }
   ],
   "source": [
    "df.info()"
   ]
  },
  {
   "cell_type": "code",
   "execution_count": 6,
   "id": "f45d2695-7e92-4da8-9b1d-b1e8f77a8663",
   "metadata": {},
   "outputs": [
    {
     "data": {
      "text/plain": [
       "id                                           0\n",
       "comment_text                                 4\n",
       "split                                        0\n",
       "created_date                                 0\n",
       "publication_id                               0\n",
       "parent_id                               864807\n",
       "article_id                                   0\n",
       "rating                                       0\n",
       "funny                                        0\n",
       "wow                                          0\n",
       "sad                                          0\n",
       "likes                                        0\n",
       "disagree                                     0\n",
       "toxicity                                     0\n",
       "severe_toxicity                              0\n",
       "obscene                                      0\n",
       "sexual_explicit                              0\n",
       "identity_attack                              0\n",
       "insult                                       0\n",
       "threat                                       0\n",
       "male                                   1551516\n",
       "female                                 1551516\n",
       "transgender                            1551516\n",
       "other_gender                           1551516\n",
       "heterosexual                           1551516\n",
       "homosexual_gay_or_lesbian              1551516\n",
       "bisexual                               1551516\n",
       "other_sexual_orientation               1551516\n",
       "christian                              1551516\n",
       "jewish                                 1551516\n",
       "muslim                                 1551516\n",
       "hindu                                  1551516\n",
       "buddhist                               1551516\n",
       "atheist                                1551516\n",
       "other_religion                         1551516\n",
       "black                                  1551516\n",
       "white                                  1551516\n",
       "asian                                  1551516\n",
       "latino                                 1551516\n",
       "other_race_or_ethnicity                1551516\n",
       "physical_disability                    1551516\n",
       "intellectual_or_learning_disability    1551516\n",
       "psychiatric_or_mental_illness          1551516\n",
       "other_disability                       1551516\n",
       "identity_annotator_count                     0\n",
       "toxicity_annotator_count                     0\n",
       "dtype: int64"
      ]
     },
     "execution_count": 6,
     "metadata": {},
     "output_type": "execute_result"
    }
   ],
   "source": [
    "df.isnull().sum()"
   ]
  },
  {
   "cell_type": "markdown",
   "id": "9d4458fe-d90f-4bbd-a56a-b15cdd9406b0",
   "metadata": {},
   "source": [
    "### Understanding our initial metrics and targets"
   ]
  },
  {
   "cell_type": "code",
   "execution_count": 57,
   "id": "5dc7efff-5d5c-4677-93a5-2214e16a86f8",
   "metadata": {},
   "outputs": [],
   "source": [
    "metric_cols = ['funny', 'wow', 'sad', 'likes', 'disagree']\n",
    "toxic_cols = ['toxicity', 'severe_toxicity', 'obscene', 'sexual_explicit', 'identity_attack', 'insult', 'threat']"
   ]
  },
  {
   "cell_type": "code",
   "execution_count": 68,
   "id": "a19b4c75-a23b-4229-bcc8-a3822f745ca2",
   "metadata": {},
   "outputs": [
    {
     "data": {
      "text/html": [
       "<div>\n",
       "<style scoped>\n",
       "    .dataframe tbody tr th:only-of-type {\n",
       "        vertical-align: middle;\n",
       "    }\n",
       "\n",
       "    .dataframe tbody tr th {\n",
       "        vertical-align: top;\n",
       "    }\n",
       "\n",
       "    .dataframe thead th {\n",
       "        text-align: right;\n",
       "    }\n",
       "</style>\n",
       "<table border=\"1\" class=\"dataframe\">\n",
       "  <thead>\n",
       "    <tr style=\"text-align: right;\">\n",
       "      <th></th>\n",
       "      <th>funny</th>\n",
       "      <th>wow</th>\n",
       "      <th>sad</th>\n",
       "      <th>likes</th>\n",
       "      <th>disagree</th>\n",
       "    </tr>\n",
       "  </thead>\n",
       "  <tbody>\n",
       "    <tr>\n",
       "      <th>0</th>\n",
       "      <td>0</td>\n",
       "      <td>0</td>\n",
       "      <td>0</td>\n",
       "      <td>2</td>\n",
       "      <td>0</td>\n",
       "    </tr>\n",
       "    <tr>\n",
       "      <th>1</th>\n",
       "      <td>0</td>\n",
       "      <td>0</td>\n",
       "      <td>1</td>\n",
       "      <td>2</td>\n",
       "      <td>0</td>\n",
       "    </tr>\n",
       "    <tr>\n",
       "      <th>2</th>\n",
       "      <td>1</td>\n",
       "      <td>0</td>\n",
       "      <td>2</td>\n",
       "      <td>3</td>\n",
       "      <td>7</td>\n",
       "    </tr>\n",
       "    <tr>\n",
       "      <th>3</th>\n",
       "      <td>0</td>\n",
       "      <td>0</td>\n",
       "      <td>0</td>\n",
       "      <td>0</td>\n",
       "      <td>0</td>\n",
       "    </tr>\n",
       "    <tr>\n",
       "      <th>4</th>\n",
       "      <td>0</td>\n",
       "      <td>0</td>\n",
       "      <td>0</td>\n",
       "      <td>1</td>\n",
       "      <td>0</td>\n",
       "    </tr>\n",
       "    <tr>\n",
       "      <th>...</th>\n",
       "      <td>...</td>\n",
       "      <td>...</td>\n",
       "      <td>...</td>\n",
       "      <td>...</td>\n",
       "      <td>...</td>\n",
       "    </tr>\n",
       "    <tr>\n",
       "      <th>1999511</th>\n",
       "      <td>0</td>\n",
       "      <td>0</td>\n",
       "      <td>0</td>\n",
       "      <td>2</td>\n",
       "      <td>0</td>\n",
       "    </tr>\n",
       "    <tr>\n",
       "      <th>1999512</th>\n",
       "      <td>0</td>\n",
       "      <td>0</td>\n",
       "      <td>0</td>\n",
       "      <td>1</td>\n",
       "      <td>0</td>\n",
       "    </tr>\n",
       "    <tr>\n",
       "      <th>1999513</th>\n",
       "      <td>0</td>\n",
       "      <td>1</td>\n",
       "      <td>0</td>\n",
       "      <td>3</td>\n",
       "      <td>2</td>\n",
       "    </tr>\n",
       "    <tr>\n",
       "      <th>1999514</th>\n",
       "      <td>1</td>\n",
       "      <td>0</td>\n",
       "      <td>0</td>\n",
       "      <td>3</td>\n",
       "      <td>0</td>\n",
       "    </tr>\n",
       "    <tr>\n",
       "      <th>1999515</th>\n",
       "      <td>1</td>\n",
       "      <td>0</td>\n",
       "      <td>0</td>\n",
       "      <td>1</td>\n",
       "      <td>0</td>\n",
       "    </tr>\n",
       "  </tbody>\n",
       "</table>\n",
       "<p>1999516 rows × 5 columns</p>\n",
       "</div>"
      ],
      "text/plain": [
       "         funny  wow  sad  likes  disagree\n",
       "0            0    0    0      2         0\n",
       "1            0    0    1      2         0\n",
       "2            1    0    2      3         7\n",
       "3            0    0    0      0         0\n",
       "4            0    0    0      1         0\n",
       "...        ...  ...  ...    ...       ...\n",
       "1999511      0    0    0      2         0\n",
       "1999512      0    0    0      1         0\n",
       "1999513      0    1    0      3         2\n",
       "1999514      1    0    0      3         0\n",
       "1999515      1    0    0      1         0\n",
       "\n",
       "[1999516 rows x 5 columns]"
      ]
     },
     "execution_count": 68,
     "metadata": {},
     "output_type": "execute_result"
    }
   ],
   "source": [
    "df[metric_cols]"
   ]
  },
  {
   "cell_type": "markdown",
   "id": "0974ead3-5a85-489b-a427-7a7238b474e3",
   "metadata": {},
   "source": [
    "Metric columns seem to be user interactions with our comment, such as reactions.\n",
    "\n",
    "Will this inform any aspect of our modelling?"
   ]
  },
  {
   "cell_type": "code",
   "execution_count": 69,
   "id": "c0d98e40-3efa-4050-858c-2d2acb4364aa",
   "metadata": {},
   "outputs": [
    {
     "data": {
      "text/html": [
       "<div>\n",
       "<style scoped>\n",
       "    .dataframe tbody tr th:only-of-type {\n",
       "        vertical-align: middle;\n",
       "    }\n",
       "\n",
       "    .dataframe tbody tr th {\n",
       "        vertical-align: top;\n",
       "    }\n",
       "\n",
       "    .dataframe thead th {\n",
       "        text-align: right;\n",
       "    }\n",
       "</style>\n",
       "<table border=\"1\" class=\"dataframe\">\n",
       "  <thead>\n",
       "    <tr style=\"text-align: right;\">\n",
       "      <th></th>\n",
       "      <th>toxicity</th>\n",
       "      <th>severe_toxicity</th>\n",
       "      <th>obscene</th>\n",
       "      <th>sexual_explicit</th>\n",
       "      <th>identity_attack</th>\n",
       "      <th>insult</th>\n",
       "      <th>threat</th>\n",
       "    </tr>\n",
       "  </thead>\n",
       "  <tbody>\n",
       "    <tr>\n",
       "      <th>0</th>\n",
       "      <td>0.373134</td>\n",
       "      <td>0.044776</td>\n",
       "      <td>0.089552</td>\n",
       "      <td>0.014925</td>\n",
       "      <td>0.000000</td>\n",
       "      <td>0.343284</td>\n",
       "      <td>0.014925</td>\n",
       "    </tr>\n",
       "    <tr>\n",
       "      <th>1</th>\n",
       "      <td>0.605263</td>\n",
       "      <td>0.013158</td>\n",
       "      <td>0.065789</td>\n",
       "      <td>0.013158</td>\n",
       "      <td>0.092105</td>\n",
       "      <td>0.565789</td>\n",
       "      <td>0.065789</td>\n",
       "    </tr>\n",
       "    <tr>\n",
       "      <th>2</th>\n",
       "      <td>0.666667</td>\n",
       "      <td>0.015873</td>\n",
       "      <td>0.031746</td>\n",
       "      <td>0.000000</td>\n",
       "      <td>0.047619</td>\n",
       "      <td>0.666667</td>\n",
       "      <td>0.000000</td>\n",
       "    </tr>\n",
       "    <tr>\n",
       "      <th>3</th>\n",
       "      <td>0.815789</td>\n",
       "      <td>0.065789</td>\n",
       "      <td>0.552632</td>\n",
       "      <td>0.592105</td>\n",
       "      <td>0.000000</td>\n",
       "      <td>0.684211</td>\n",
       "      <td>0.105263</td>\n",
       "    </tr>\n",
       "    <tr>\n",
       "      <th>4</th>\n",
       "      <td>0.550000</td>\n",
       "      <td>0.037500</td>\n",
       "      <td>0.337500</td>\n",
       "      <td>0.275000</td>\n",
       "      <td>0.037500</td>\n",
       "      <td>0.487500</td>\n",
       "      <td>0.000000</td>\n",
       "    </tr>\n",
       "    <tr>\n",
       "      <th>...</th>\n",
       "      <td>...</td>\n",
       "      <td>...</td>\n",
       "      <td>...</td>\n",
       "      <td>...</td>\n",
       "      <td>...</td>\n",
       "      <td>...</td>\n",
       "      <td>...</td>\n",
       "    </tr>\n",
       "    <tr>\n",
       "      <th>1999511</th>\n",
       "      <td>0.400000</td>\n",
       "      <td>0.000000</td>\n",
       "      <td>0.000000</td>\n",
       "      <td>0.000000</td>\n",
       "      <td>0.200000</td>\n",
       "      <td>0.300000</td>\n",
       "      <td>0.000000</td>\n",
       "    </tr>\n",
       "    <tr>\n",
       "      <th>1999512</th>\n",
       "      <td>0.400000</td>\n",
       "      <td>0.000000</td>\n",
       "      <td>0.000000</td>\n",
       "      <td>0.000000</td>\n",
       "      <td>0.400000</td>\n",
       "      <td>0.000000</td>\n",
       "      <td>0.000000</td>\n",
       "    </tr>\n",
       "    <tr>\n",
       "      <th>1999513</th>\n",
       "      <td>0.400000</td>\n",
       "      <td>0.000000</td>\n",
       "      <td>0.200000</td>\n",
       "      <td>0.100000</td>\n",
       "      <td>0.300000</td>\n",
       "      <td>0.300000</td>\n",
       "      <td>0.000000</td>\n",
       "    </tr>\n",
       "    <tr>\n",
       "      <th>1999514</th>\n",
       "      <td>0.400000</td>\n",
       "      <td>0.000000</td>\n",
       "      <td>0.000000</td>\n",
       "      <td>0.000000</td>\n",
       "      <td>0.200000</td>\n",
       "      <td>0.100000</td>\n",
       "      <td>0.000000</td>\n",
       "    </tr>\n",
       "    <tr>\n",
       "      <th>1999515</th>\n",
       "      <td>0.400000</td>\n",
       "      <td>0.000000</td>\n",
       "      <td>0.000000</td>\n",
       "      <td>0.000000</td>\n",
       "      <td>0.200000</td>\n",
       "      <td>0.300000</td>\n",
       "      <td>0.200000</td>\n",
       "    </tr>\n",
       "  </tbody>\n",
       "</table>\n",
       "<p>1999516 rows × 7 columns</p>\n",
       "</div>"
      ],
      "text/plain": [
       "         toxicity  severe_toxicity   obscene  sexual_explicit  \\\n",
       "0        0.373134         0.044776  0.089552         0.014925   \n",
       "1        0.605263         0.013158  0.065789         0.013158   \n",
       "2        0.666667         0.015873  0.031746         0.000000   \n",
       "3        0.815789         0.065789  0.552632         0.592105   \n",
       "4        0.550000         0.037500  0.337500         0.275000   \n",
       "...           ...              ...       ...              ...   \n",
       "1999511  0.400000         0.000000  0.000000         0.000000   \n",
       "1999512  0.400000         0.000000  0.000000         0.000000   \n",
       "1999513  0.400000         0.000000  0.200000         0.100000   \n",
       "1999514  0.400000         0.000000  0.000000         0.000000   \n",
       "1999515  0.400000         0.000000  0.000000         0.000000   \n",
       "\n",
       "         identity_attack    insult    threat  \n",
       "0               0.000000  0.343284  0.014925  \n",
       "1               0.092105  0.565789  0.065789  \n",
       "2               0.047619  0.666667  0.000000  \n",
       "3               0.000000  0.684211  0.105263  \n",
       "4               0.037500  0.487500  0.000000  \n",
       "...                  ...       ...       ...  \n",
       "1999511         0.200000  0.300000  0.000000  \n",
       "1999512         0.400000  0.000000  0.000000  \n",
       "1999513         0.300000  0.300000  0.000000  \n",
       "1999514         0.200000  0.100000  0.000000  \n",
       "1999515         0.200000  0.300000  0.200000  \n",
       "\n",
       "[1999516 rows x 7 columns]"
      ]
     },
     "execution_count": 69,
     "metadata": {},
     "output_type": "execute_result"
    }
   ],
   "source": [
    "df[toxic_cols]"
   ]
  },
  {
   "cell_type": "markdown",
   "id": "bd51c562-3532-44f9-8983-aa29bb71189f",
   "metadata": {},
   "source": [
    "Our toxic columns are the main targets for our modelling. We want to identify toxicity, with the option for targeting specific brands of toxicity.\n",
    "                                                                                                       \n",
    "As it stands our toxicity values are floats\n",
    "\n",
    "Do we want to maintain floats to show magnitude\n",
    "\n",
    "Or begin with binaries for simplification"
   ]
  },
  {
   "cell_type": "markdown",
   "id": "4abd6b69-ce02-49f4-94f8-011c79afa72f",
   "metadata": {},
   "source": [
    "Let's get a sense of distribution within the metric and toxicity columns"
   ]
  },
  {
   "cell_type": "code",
   "execution_count": 85,
   "id": "6f32ecb6-a2e1-4403-9f8a-0a6186bb72cf",
   "metadata": {},
   "outputs": [
    {
     "data": {
      "image/png": "[encoded data removed]",
      "text/plain": [
       "<Figure size 1500x1000 with 8 Axes>"
      ]
     },
     "metadata": {},
     "output_type": "display_data"
    }
   ],
   "source": [
    "plot_num = 1\n",
    "\n",
    "plt.subplots(2,4, figsize=(15,10))\n",
    "\n",
    "for col in toxic_cols:\n",
    "    plt.subplot(2,4,plot_num)\n",
    "    plt.hist(df[col], color='skyblue', edgecolor='black')\n",
    "    plt.title(f'distribution of {col}')\n",
    "    plot_num +=1\n",
    "\n",
    "plt.tight_layout()\n",
    "plt.show()"
   ]
  },
  {
   "cell_type": "code",
   "execution_count": 94,
   "id": "5376e199-eba9-4ff0-9ea8-ebe05fcca193",
   "metadata": {},
   "outputs": [
    {
     "data": {
      "image/png": "[encoded data removed]",
      "text/plain": [
       "<Figure size 1500x1000 with 6 Axes>"
      ]
     },
     "metadata": {},
     "output_type": "display_data"
    }
   ],
   "source": [
    "plot_num = 1\n",
    "\n",
    "plt.subplots(2,3, figsize=(15,10))\n",
    "\n",
    "for col in metric_cols:\n",
    "    plt.subplot(2,3,plot_num)\n",
    "    plt.hist(df[col], bins=100, color='skyblue', edgecolor='black')\n",
    "    plt.title(f'distribution of {col}')\n",
    "    plt.xlim(0,20)\n",
    "    plot_num +=1\n",
    "\n",
    "plt.tight_layout()\n",
    "plt.show()"
   ]
  },
  {
   "cell_type": "code",
   "execution_count": null,
   "id": "f8e68fd6-3e78-440b-ae84-8eaa31943fa3",
   "metadata": {},
   "outputs": [],
   "source": []
  },
  {
   "cell_type": "code",
   "execution_count": null,
   "id": "969e02bb-dc2d-4b64-b241-71d11bedf72c",
   "metadata": {},
   "outputs": [],
   "source": []
  },
  {
   "cell_type": "code",
   "execution_count": null,
   "id": "e23529b9-fddd-4d80-b8df-528ca898648c",
   "metadata": {},
   "outputs": [],
   "source": []
  },
  {
   "cell_type": "markdown",
   "id": "f8971cb2-2d7c-4ac5-9160-f2f55f4099df",
   "metadata": {},
   "source": [
    "### Understanding tags for stretch goals\n",
    "\n",
    "Many null values, can these be set to 0?"
   ]
  },
  {
   "cell_type": "code",
   "execution_count": 24,
   "id": "e5ab527d-bc5f-4744-9105-81c0a5b1fe3f",
   "metadata": {},
   "outputs": [
    {
     "data": {
      "text/html": [
       "<div>\n",
       "<style scoped>\n",
       "    .dataframe tbody tr th:only-of-type {\n",
       "        vertical-align: middle;\n",
       "    }\n",
       "\n",
       "    .dataframe tbody tr th {\n",
       "        vertical-align: top;\n",
       "    }\n",
       "\n",
       "    .dataframe thead th {\n",
       "        text-align: right;\n",
       "    }\n",
       "</style>\n",
       "<table border=\"1\" class=\"dataframe\">\n",
       "  <thead>\n",
       "    <tr style=\"text-align: right;\">\n",
       "      <th></th>\n",
       "      <th>comment_text</th>\n",
       "      <th>female</th>\n",
       "    </tr>\n",
       "  </thead>\n",
       "  <tbody>\n",
       "    <tr>\n",
       "      <th>0</th>\n",
       "      <td>He got his money... now he lies in wait till a...</td>\n",
       "      <td>NaN</td>\n",
       "    </tr>\n",
       "    <tr>\n",
       "      <th>1</th>\n",
       "      <td>Mad dog will surely put the liberals in mental...</td>\n",
       "      <td>NaN</td>\n",
       "    </tr>\n",
       "    <tr>\n",
       "      <th>2</th>\n",
       "      <td>And Trump continues his lifelong cowardice by ...</td>\n",
       "      <td>NaN</td>\n",
       "    </tr>\n",
       "    <tr>\n",
       "      <th>3</th>\n",
       "      <td>\"while arresting a man for resisting arrest\".\\...</td>\n",
       "      <td>NaN</td>\n",
       "    </tr>\n",
       "    <tr>\n",
       "      <th>4</th>\n",
       "      <td>Tucker and Paul are both total bad ass mofo's.</td>\n",
       "      <td>NaN</td>\n",
       "    </tr>\n",
       "    <tr>\n",
       "      <th>...</th>\n",
       "      <td>...</td>\n",
       "      <td>...</td>\n",
       "    </tr>\n",
       "    <tr>\n",
       "      <th>1999511</th>\n",
       "      <td>Another man shamming article. If white men did...</td>\n",
       "      <td>0.000000</td>\n",
       "    </tr>\n",
       "    <tr>\n",
       "      <th>1999512</th>\n",
       "      <td>\"no matter what is put in front of you regardi...</td>\n",
       "      <td>0.000000</td>\n",
       "    </tr>\n",
       "    <tr>\n",
       "      <th>1999513</th>\n",
       "      <td>The Democrat party aided and abetted by it's M...</td>\n",
       "      <td>0.363636</td>\n",
       "    </tr>\n",
       "    <tr>\n",
       "      <th>1999514</th>\n",
       "      <td>I just don't find her a very good representati...</td>\n",
       "      <td>0.141264</td>\n",
       "    </tr>\n",
       "    <tr>\n",
       "      <th>1999515</th>\n",
       "      <td>You know the Trump fanatics are trolling the G...</td>\n",
       "      <td>0.000000</td>\n",
       "    </tr>\n",
       "  </tbody>\n",
       "</table>\n",
       "<p>1999516 rows × 2 columns</p>\n",
       "</div>"
      ],
      "text/plain": [
       "                                              comment_text    female\n",
       "0        He got his money... now he lies in wait till a...       NaN\n",
       "1        Mad dog will surely put the liberals in mental...       NaN\n",
       "2        And Trump continues his lifelong cowardice by ...       NaN\n",
       "3        \"while arresting a man for resisting arrest\".\\...       NaN\n",
       "4           Tucker and Paul are both total bad ass mofo's.       NaN\n",
       "...                                                    ...       ...\n",
       "1999511  Another man shamming article. If white men did...  0.000000\n",
       "1999512  \"no matter what is put in front of you regardi...  0.000000\n",
       "1999513  The Democrat party aided and abetted by it's M...  0.363636\n",
       "1999514  I just don't find her a very good representati...  0.141264\n",
       "1999515  You know the Trump fanatics are trolling the G...  0.000000\n",
       "\n",
       "[1999516 rows x 2 columns]"
      ]
     },
     "execution_count": 24,
     "metadata": {},
     "output_type": "execute_result"
    }
   ],
   "source": [
    "df[['comment_text','female']]"
   ]
  },
  {
   "cell_type": "code",
   "execution_count": 27,
   "id": "21946e42-eb72-47b3-9f69-d526cd9617f6",
   "metadata": {},
   "outputs": [
    {
     "data": {
      "text/plain": [
       "comment_text    Another man shamming article. If white men did...\n",
       "female                                                        0.0\n",
       "Name: 1999511, dtype: object"
      ]
     },
     "execution_count": 27,
     "metadata": {},
     "output_type": "execute_result"
    }
   ],
   "source": [
    "df.iloc[1999511][['comment_text', 'female']]"
   ]
  },
  {
   "cell_type": "code",
   "execution_count": 33,
   "id": "01875310-2553-4ea5-a9cf-e4951eb387b7",
   "metadata": {},
   "outputs": [
    {
     "data": {
      "text/plain": [
       "comment_text    Another man shamming article. If white men did...\n",
       "male                                                          0.7\n",
       "Name: 1999511, dtype: object"
      ]
     },
     "execution_count": 33,
     "metadata": {},
     "output_type": "execute_result"
    }
   ],
   "source": [
    "df.iloc[1999511][['comment_text', 'male']]"
   ]
  },
  {
   "cell_type": "code",
   "execution_count": 49,
   "id": "32797eca-3064-4f3b-9638-dc373aa1e736",
   "metadata": {},
   "outputs": [
    {
     "data": {
      "text/plain": [
       "'Another man shamming article. If white men did do the work there would be no Canada today.\\n\\n*\\n\\n\\n\\n\\n\\n\\n\\n\\nhttps://www.youtube.com/watch?v=4ZiBKdjJKgk'"
      ]
     },
     "execution_count": 49,
     "metadata": {},
     "output_type": "execute_result"
    }
   ],
   "source": [
    "df.iloc[1999511]['comment_text']"
   ]
  },
  {
   "cell_type": "code",
   "execution_count": 30,
   "id": "7e43b500-3d06-4b7a-93a7-74f047cb3aea",
   "metadata": {},
   "outputs": [
    {
     "data": {
      "text/plain": [
       "comment_text    The Democrat party aided and abetted by it's M...\n",
       "male                                                          0.0\n",
       "Name: 1999513, dtype: object"
      ]
     },
     "execution_count": 30,
     "metadata": {},
     "output_type": "execute_result"
    }
   ],
   "source": [
    "df.iloc[1999513][['comment_text', 'male']]"
   ]
  },
  {
   "cell_type": "code",
   "execution_count": 31,
   "id": "f4326f09-313b-4e5b-97b3-3f74b54878de",
   "metadata": {},
   "outputs": [
    {
     "data": {
      "text/plain": [
       "\"I just don't find her a very good representation of the transexual community. She just seems so self-absorbed & concerned with such superficial issues.\""
      ]
     },
     "execution_count": 31,
     "metadata": {},
     "output_type": "execute_result"
    }
   ],
   "source": [
    "df.iloc[1999514]['comment_text']"
   ]
  },
  {
   "cell_type": "code",
   "execution_count": 36,
   "id": "72c04bf6-9d01-46db-8bdf-7da7fa81cda7",
   "metadata": {},
   "outputs": [
    {
     "data": {
      "text/plain": [
       "\"He got his money... now he lies in wait till after the election in 2 yrs.... dirty politicians need to be afraid of Tar and feathers again... but they aren't and so the people get screwed.\""
      ]
     },
     "execution_count": 36,
     "metadata": {},
     "output_type": "execute_result"
    }
   ],
   "source": [
    "df.iloc[3]['comment_text']"
   ]
  },
  {
   "cell_type": "code",
   "execution_count": 37,
   "id": "ef1d05e2-8bd6-4513-9555-11245bc33d1c",
   "metadata": {},
   "outputs": [
    {
     "data": {
      "text/plain": [
       "nan"
      ]
     },
     "execution_count": 37,
     "metadata": {},
     "output_type": "execute_result"
    }
   ],
   "source": [
    "df.iloc[3]['male']"
   ]
  },
  {
   "cell_type": "code",
   "execution_count": 40,
   "id": "0d316d9f-b40b-4bb7-9bca-03ed3859d689",
   "metadata": {},
   "outputs": [
    {
     "data": {
      "text/plain": [
       "25"
      ]
     },
     "execution_count": 40,
     "metadata": {},
     "output_type": "execute_result"
    }
   ],
   "source": [
    "df.iloc[3].isnull().sum()"
   ]
  },
  {
   "cell_type": "code",
   "execution_count": 41,
   "id": "c4be7c9a-0568-4216-a09e-d7f5fd5dd6f0",
   "metadata": {},
   "outputs": [
    {
     "data": {
      "text/plain": [
       "1"
      ]
     },
     "execution_count": 41,
     "metadata": {},
     "output_type": "execute_result"
    }
   ],
   "source": [
    "df.iloc[1999513].isnull().sum()"
   ]
  },
  {
   "cell_type": "code",
   "execution_count": 46,
   "id": "5fda6902-03e1-45ba-b618-3fe5a310be5b",
   "metadata": {},
   "outputs": [
    {
     "data": {
      "text/plain": [
       "nan"
      ]
     },
     "execution_count": 46,
     "metadata": {},
     "output_type": "execute_result"
    }
   ],
   "source": [
    "df.iloc[1999513]['parent_id']"
   ]
  },
  {
   "cell_type": "code",
   "execution_count": 48,
   "id": "604e768a-cd1d-4de0-a070-c6c7019ff1f7",
   "metadata": {},
   "outputs": [
    {
     "data": {
      "text/plain": [
       "comment_text    Tucker and Paul are both total bad ass mofo's.\n",
       "Name: 4, dtype: object"
      ]
     },
     "execution_count": 48,
     "metadata": {},
     "output_type": "execute_result"
    }
   ],
   "source": [
    "df.iloc[4][['comment_text']]"
   ]
  },
  {
   "cell_type": "code",
   "execution_count": null,
   "id": "114fc2b7-5294-4638-be1b-2bbaa4ee0a18",
   "metadata": {},
   "outputs": [],
   "source": []
  },
  {
   "cell_type": "code",
   "execution_count": null,
   "id": "be9d8153",
   "metadata": {},
   "outputs": [],
   "source": []
  },
  {
   "cell_type": "code",
   "execution_count": 4,
   "id": "f704a922",
   "metadata": {},
   "outputs": [
    {
     "name": "stdout",
     "output_type": "stream",
     "text": [
      "<class 'pandas.core.frame.DataFrame'>\n",
      "RangeIndex: 1999516 entries, 0 to 1999515\n",
      "Data columns (total 46 columns):\n",
      " #   Column                               Dtype  \n",
      "---  ------                               -----  \n",
      " 0   id                                   int64  \n",
      " 1   comment_text                         object \n",
      " 2   split                                object \n",
      " 3   created_date                         object \n",
      " 4   publication_id                       int64  \n",
      " 5   parent_id                            float64\n",
      " 6   article_id                           int64  \n",
      " 7   rating                               object \n",
      " 8   funny                                int64  \n",
      " 9   wow                                  int64  \n",
      " 10  sad                                  int64  \n",
      " 11  likes                                int64  \n",
      " 12  disagree                             int64  \n",
      " 13  toxicity                             float64\n",
      " 14  severe_toxicity                      float64\n",
      " 15  obscene                              float64\n",
      " 16  sexual_explicit                      float64\n",
      " 17  identity_attack                      float64\n",
      " 18  insult                               float64\n",
      " 19  threat                               float64\n",
      " 20  male                                 float64\n",
      " 21  female                               float64\n",
      " 22  transgender                          float64\n",
      " 23  other_gender                         float64\n",
      " 24  heterosexual                         float64\n",
      " 25  homosexual_gay_or_lesbian            float64\n",
      " 26  bisexual                             float64\n",
      " 27  other_sexual_orientation             float64\n",
      " 28  christian                            float64\n",
      " 29  jewish                               float64\n",
      " 30  muslim                               float64\n",
      " 31  hindu                                float64\n",
      " 32  buddhist                             float64\n",
      " 33  atheist                              float64\n",
      " 34  other_religion                       float64\n",
      " 35  black                                float64\n",
      " 36  white                                float64\n",
      " 37  asian                                float64\n",
      " 38  latino                               float64\n",
      " 39  other_race_or_ethnicity              float64\n",
      " 40  physical_disability                  float64\n",
      " 41  intellectual_or_learning_disability  float64\n",
      " 42  psychiatric_or_mental_illness        float64\n",
      " 43  other_disability                     float64\n",
      " 44  identity_annotator_count             int64  \n",
      " 45  toxicity_annotator_count             int64  \n",
      "dtypes: float64(32), int64(10), object(4)\n",
      "memory usage: 701.7+ MB\n"
     ]
    }
   ],
   "source": [
    "df.info()"
   ]
  },
  {
   "cell_type": "code",
   "execution_count": 12,
   "id": "c4982e96",
   "metadata": {},
   "outputs": [
    {
     "data": {
      "text/html": [
       "<div>\n",
       "<style scoped>\n",
       "    .dataframe tbody tr th:only-of-type {\n",
       "        vertical-align: middle;\n",
       "    }\n",
       "\n",
       "    .dataframe tbody tr th {\n",
       "        vertical-align: top;\n",
       "    }\n",
       "\n",
       "    .dataframe thead th {\n",
       "        text-align: right;\n",
       "    }\n",
       "</style>\n",
       "<table border=\"1\" class=\"dataframe\">\n",
       "  <thead>\n",
       "    <tr style=\"text-align: right;\">\n",
       "      <th></th>\n",
       "      <th>id</th>\n",
       "      <th>comment_text</th>\n",
       "      <th>toxicity</th>\n",
       "    </tr>\n",
       "  </thead>\n",
       "  <tbody>\n",
       "    <tr>\n",
       "      <th>0</th>\n",
       "      <td>1083994</td>\n",
       "      <td>He got his money... now he lies in wait till a...</td>\n",
       "      <td>0.373134</td>\n",
       "    </tr>\n",
       "    <tr>\n",
       "      <th>1</th>\n",
       "      <td>650904</td>\n",
       "      <td>Mad dog will surely put the liberals in mental...</td>\n",
       "      <td>0.605263</td>\n",
       "    </tr>\n",
       "    <tr>\n",
       "      <th>2</th>\n",
       "      <td>5902188</td>\n",
       "      <td>And Trump continues his lifelong cowardice by ...</td>\n",
       "      <td>0.666667</td>\n",
       "    </tr>\n",
       "    <tr>\n",
       "      <th>3</th>\n",
       "      <td>7084460</td>\n",
       "      <td>\"while arresting a man for resisting arrest\".\\...</td>\n",
       "      <td>0.815789</td>\n",
       "    </tr>\n",
       "    <tr>\n",
       "      <th>4</th>\n",
       "      <td>5410943</td>\n",
       "      <td>Tucker and Paul are both total bad ass mofo's.</td>\n",
       "      <td>0.550000</td>\n",
       "    </tr>\n",
       "  </tbody>\n",
       "</table>\n",
       "</div>"
      ],
      "text/plain": [
       "        id                                       comment_text  toxicity\n",
       "0  1083994  He got his money... now he lies in wait till a...  0.373134\n",
       "1   650904  Mad dog will surely put the liberals in mental...  0.605263\n",
       "2  5902188  And Trump continues his lifelong cowardice by ...  0.666667\n",
       "3  7084460  \"while arresting a man for resisting arrest\".\\...  0.815789\n",
       "4  5410943     Tucker and Paul are both total bad ass mofo's.  0.550000"
      ]
     },
     "execution_count": 12,
     "metadata": {},
     "output_type": "execute_result"
    }
   ],
   "source": [
    "df[['id', 'comment_text', 'toxicity']].head()"
   ]
  },
  {
   "cell_type": "code",
   "execution_count": 8,
   "id": "8c12e985",
   "metadata": {},
   "outputs": [
    {
     "data": {
      "text/plain": [
       "comment_text    1971914\n",
       "toxicity           3063\n",
       "dtype: int64"
      ]
     },
     "execution_count": 8,
     "metadata": {},
     "output_type": "execute_result"
    }
   ],
   "source": [
    "df[['comment_text', 'toxicity']].nunique()"
   ]
  },
  {
   "cell_type": "code",
   "execution_count": 11,
   "id": "7ca8268b",
   "metadata": {},
   "outputs": [
    {
     "data": {
      "text/plain": [
       "'\"while arresting a man for resisting arrest\".\\n\\nIf you cop-suckers can\\'t see a problem with this, then go suck the barrel of a Glock.'"
      ]
     },
     "execution_count": 11,
     "metadata": {},
     "output_type": "execute_result"
    }
   ],
   "source": [
    "df['comment_text'].loc[3]"
   ]
  },
  {
   "cell_type": "code",
   "execution_count": 13,
   "id": "bcb8a91a",
   "metadata": {},
   "outputs": [
    {
     "data": {
      "text/html": [
       "<div>\n",
       "<style scoped>\n",
       "    .dataframe tbody tr th:only-of-type {\n",
       "        vertical-align: middle;\n",
       "    }\n",
       "\n",
       "    .dataframe tbody tr th {\n",
       "        vertical-align: top;\n",
       "    }\n",
       "\n",
       "    .dataframe thead th {\n",
       "        text-align: right;\n",
       "    }\n",
       "</style>\n",
       "<table border=\"1\" class=\"dataframe\">\n",
       "  <thead>\n",
       "    <tr style=\"text-align: right;\">\n",
       "      <th></th>\n",
       "      <th>id</th>\n",
       "      <th>comment_text</th>\n",
       "      <th>toxicity</th>\n",
       "      <th>toxicity_annotator_count</th>\n",
       "    </tr>\n",
       "  </thead>\n",
       "  <tbody>\n",
       "    <tr>\n",
       "      <th>0</th>\n",
       "      <td>1083994</td>\n",
       "      <td>He got his money... now he lies in wait till a...</td>\n",
       "      <td>0.373134</td>\n",
       "      <td>67</td>\n",
       "    </tr>\n",
       "    <tr>\n",
       "      <th>1</th>\n",
       "      <td>650904</td>\n",
       "      <td>Mad dog will surely put the liberals in mental...</td>\n",
       "      <td>0.605263</td>\n",
       "      <td>76</td>\n",
       "    </tr>\n",
       "    <tr>\n",
       "      <th>2</th>\n",
       "      <td>5902188</td>\n",
       "      <td>And Trump continues his lifelong cowardice by ...</td>\n",
       "      <td>0.666667</td>\n",
       "      <td>63</td>\n",
       "    </tr>\n",
       "    <tr>\n",
       "      <th>3</th>\n",
       "      <td>7084460</td>\n",
       "      <td>\"while arresting a man for resisting arrest\".\\...</td>\n",
       "      <td>0.815789</td>\n",
       "      <td>76</td>\n",
       "    </tr>\n",
       "    <tr>\n",
       "      <th>4</th>\n",
       "      <td>5410943</td>\n",
       "      <td>Tucker and Paul are both total bad ass mofo's.</td>\n",
       "      <td>0.550000</td>\n",
       "      <td>80</td>\n",
       "    </tr>\n",
       "  </tbody>\n",
       "</table>\n",
       "</div>"
      ],
      "text/plain": [
       "        id                                       comment_text  toxicity  \\\n",
       "0  1083994  He got his money... now he lies in wait till a...  0.373134   \n",
       "1   650904  Mad dog will surely put the liberals in mental...  0.605263   \n",
       "2  5902188  And Trump continues his lifelong cowardice by ...  0.666667   \n",
       "3  7084460  \"while arresting a man for resisting arrest\".\\...  0.815789   \n",
       "4  5410943     Tucker and Paul are both total bad ass mofo's.  0.550000   \n",
       "\n",
       "   toxicity_annotator_count  \n",
       "0                        67  \n",
       "1                        76  \n",
       "2                        63  \n",
       "3                        76  \n",
       "4                        80  "
      ]
     },
     "execution_count": 13,
     "metadata": {},
     "output_type": "execute_result"
    }
   ],
   "source": [
    "df[['id', 'comment_text', 'toxicity', 'toxicity_annotator_count']].head()"
   ]
  },
  {
   "cell_type": "code",
   "execution_count": 15,
   "id": "c842be8b",
   "metadata": {},
   "outputs": [
    {
     "data": {
      "text/plain": [
       "8.77571972417325"
      ]
     },
     "execution_count": 15,
     "metadata": {},
     "output_type": "execute_result"
    }
   ],
   "source": [
    "df['toxicity_annotator_count'].mean()"
   ]
  },
  {
   "cell_type": "code",
   "execution_count": 17,
   "id": "ae3c73e9",
   "metadata": {},
   "outputs": [
    {
     "data": {
      "text/plain": [
       "4.0"
      ]
     },
     "execution_count": 17,
     "metadata": {},
     "output_type": "execute_result"
    }
   ],
   "source": [
    "df['toxicity_annotator_count'].median()"
   ]
  },
  {
   "cell_type": "code",
   "execution_count": null,
   "id": "b83b48b2",
   "metadata": {},
   "outputs": [],
   "source": []
  },
  {
   "cell_type": "code",
   "execution_count": 5,
   "id": "eed5e599",
   "metadata": {},
   "outputs": [],
   "source": [
    "test = pd.read_csv('../data/kaggle_bias/test_public_expanded.csv')"
   ]
  },
  {
   "cell_type": "code",
   "execution_count": 12,
   "id": "fff40a23",
   "metadata": {},
   "outputs": [
    {
     "data": {
      "text/html": [
       "<div>\n",
       "<style scoped>\n",
       "    .dataframe tbody tr th:only-of-type {\n",
       "        vertical-align: middle;\n",
       "    }\n",
       "\n",
       "    .dataframe tbody tr th {\n",
       "        vertical-align: top;\n",
       "    }\n",
       "\n",
       "    .dataframe thead th {\n",
       "        text-align: right;\n",
       "    }\n",
       "</style>\n",
       "<table border=\"1\" class=\"dataframe\">\n",
       "  <thead>\n",
       "    <tr style=\"text-align: right;\">\n",
       "      <th></th>\n",
       "      <th>comment_text</th>\n",
       "      <th>toxicity</th>\n",
       "      <th>toxicity_annotator_count</th>\n",
       "    </tr>\n",
       "  </thead>\n",
       "  <tbody>\n",
       "    <tr>\n",
       "      <th>0</th>\n",
       "      <td>Jeff Sessions is another one of Trump's Orwell...</td>\n",
       "      <td>0.200000</td>\n",
       "      <td>5</td>\n",
       "    </tr>\n",
       "    <tr>\n",
       "      <th>1</th>\n",
       "      <td>I actually inspected the infrastructure on Gra...</td>\n",
       "      <td>0.000000</td>\n",
       "      <td>4</td>\n",
       "    </tr>\n",
       "    <tr>\n",
       "      <th>2</th>\n",
       "      <td>No it won't . That's just wishful thinking on ...</td>\n",
       "      <td>0.000000</td>\n",
       "      <td>4</td>\n",
       "    </tr>\n",
       "    <tr>\n",
       "      <th>3</th>\n",
       "      <td>Instead of wringing our hands and nibbling the...</td>\n",
       "      <td>0.000000</td>\n",
       "      <td>4</td>\n",
       "    </tr>\n",
       "    <tr>\n",
       "      <th>4</th>\n",
       "      <td>how many of you commenters have garbage piled ...</td>\n",
       "      <td>0.753846</td>\n",
       "      <td>65</td>\n",
       "    </tr>\n",
       "  </tbody>\n",
       "</table>\n",
       "</div>"
      ],
      "text/plain": [
       "                                        comment_text  toxicity  \\\n",
       "0  Jeff Sessions is another one of Trump's Orwell...  0.200000   \n",
       "1  I actually inspected the infrastructure on Gra...  0.000000   \n",
       "2  No it won't . That's just wishful thinking on ...  0.000000   \n",
       "3  Instead of wringing our hands and nibbling the...  0.000000   \n",
       "4  how many of you commenters have garbage piled ...  0.753846   \n",
       "\n",
       "   toxicity_annotator_count  \n",
       "0                         5  \n",
       "1                         4  \n",
       "2                         4  \n",
       "3                         4  \n",
       "4                        65  "
      ]
     },
     "execution_count": 12,
     "metadata": {},
     "output_type": "execute_result"
    }
   ],
   "source": [
    "test[['comment_text', 'toxicity', 'toxicity_annotator_count']].head()"
   ]
  },
  {
   "cell_type": "code",
   "execution_count": 16,
   "id": "662c68d7",
   "metadata": {},
   "outputs": [
    {
     "data": {
      "text/plain": [
       "8.648530620632963"
      ]
     },
     "execution_count": 16,
     "metadata": {},
     "output_type": "execute_result"
    }
   ],
   "source": [
    "test['toxicity_annotator_count'].mean()"
   ]
  },
  {
   "cell_type": "code",
   "execution_count": 18,
   "id": "74cc9f62",
   "metadata": {},
   "outputs": [
    {
     "data": {
      "text/plain": [
       "4.0"
      ]
     },
     "execution_count": 18,
     "metadata": {},
     "output_type": "execute_result"
    }
   ],
   "source": [
    "test['toxicity_annotator_count'].median()"
   ]
  },
  {
   "cell_type": "code",
   "execution_count": null,
   "id": "2039d6d4",
   "metadata": {},
   "outputs": [],
   "source": []
  }
 ],
 "metadata": {
  "kernelspec": {
   "display_name": "Python 3 (ipykernel)",
   "language": "python",
   "name": "python3"
  },
  "language_info": {
   "codemirror_mode": {
    "name": "ipython",
    "version": 3
   },
   "file_extension": ".py",
   "mimetype": "text/x-python",
   "name": "python",
   "nbconvert_exporter": "python",
   "pygments_lexer": "ipython3",
   "version": "3.11.5"
  }
 },
 "nbformat": 4,
 "nbformat_minor": 5
}
