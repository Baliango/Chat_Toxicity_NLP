{
 "cells": [
  {
   "cell_type": "code",
   "execution_count": 1,
   "id": "c8b7751b-2dc7-495e-b620-1cbbbd6328d9",
   "metadata": {},
   "outputs": [],
   "source": [
    "import pandas as pd \n",
    "    \n",
    "train = pd.read_csv('../data/kaggle_bias/train.csv')"
   ]
  },
  {
   "cell_type": "code",
   "execution_count": 2,
   "id": "3e73934c-7e16-4606-83d1-b230725901e3",
   "metadata": {},
   "outputs": [
    {
     "data": {
      "text/plain": [
       "True"
      ]
     },
     "execution_count": 2,
     "metadata": {},
     "output_type": "execute_result"
    }
   ],
   "source": [
    "import torch\n",
    "torch.cuda.is_available()"
   ]
  },
  {
   "cell_type": "code",
   "execution_count": 3,
   "id": "83b5b7c1-3168-4e06-b2d4-c6359f86dce0",
   "metadata": {},
   "outputs": [
    {
     "name": "stdout",
     "output_type": "stream",
     "text": [
      "Requirement already satisfied: datasets in c:\\users\\matth\\anaconda3\\lib\\site-packages (2.17.1)\n",
      "Requirement already satisfied: transformers in c:\\users\\matth\\anaconda3\\lib\\site-packages (4.37.2)\n",
      "Requirement already satisfied: huggingface_hub in c:\\users\\matth\\anaconda3\\lib\\site-packages (0.20.3)\n",
      "Requirement already satisfied: filelock in c:\\users\\matth\\anaconda3\\lib\\site-packages (from datasets) (3.13.1)\n",
      "Requirement already satisfied: numpy>=1.17 in c:\\users\\matth\\anaconda3\\lib\\site-packages (from datasets) (1.26.4)\n",
      "Requirement already satisfied: pyarrow>=12.0.0 in c:\\users\\matth\\anaconda3\\lib\\site-packages (from datasets) (14.0.2)\n",
      "Requirement already satisfied: pyarrow-hotfix in c:\\users\\matth\\anaconda3\\lib\\site-packages (from datasets) (0.6)\n",
      "Requirement already satisfied: dill<0.3.9,>=0.3.0 in c:\\users\\matth\\anaconda3\\lib\\site-packages (from datasets) (0.3.8)\n",
      "Requirement already satisfied: pandas in c:\\users\\matth\\anaconda3\\lib\\site-packages (from datasets) (2.1.4)\n",
      "Requirement already satisfied: requests>=2.19.0 in c:\\users\\matth\\anaconda3\\lib\\site-packages (from datasets) (2.31.0)\n",
      "Requirement already satisfied: tqdm>=4.62.1 in c:\\users\\matth\\anaconda3\\lib\\site-packages (from datasets) (4.65.0)\n",
      "Requirement already satisfied: xxhash in c:\\users\\matth\\anaconda3\\lib\\site-packages (from datasets) (3.4.1)\n",
      "Requirement already satisfied: multiprocess in c:\\users\\matth\\anaconda3\\lib\\site-packages (from datasets) (0.70.16)\n",
      "Requirement already satisfied: fsspec[http]<=2023.10.0,>=2023.1.0 in c:\\users\\matth\\anaconda3\\lib\\site-packages (from datasets) (2023.10.0)\n",
      "Requirement already satisfied: aiohttp in c:\\users\\matth\\anaconda3\\lib\\site-packages (from datasets) (3.9.3)\n",
      "Requirement already satisfied: packaging in c:\\users\\matth\\anaconda3\\lib\\site-packages (from datasets) (23.1)\n",
      "Requirement already satisfied: pyyaml>=5.1 in c:\\users\\matth\\anaconda3\\lib\\site-packages (from datasets) (6.0.1)\n",
      "Requirement already satisfied: regex!=2019.12.17 in c:\\users\\matth\\anaconda3\\lib\\site-packages (from transformers) (2023.10.3)\n",
      "Requirement already satisfied: tokenizers<0.19,>=0.14 in c:\\users\\matth\\anaconda3\\lib\\site-packages (from transformers) (0.15.1)\n",
      "Requirement already satisfied: safetensors>=0.4.1 in c:\\users\\matth\\anaconda3\\lib\\site-packages (from transformers) (0.4.2)\n",
      "Requirement already satisfied: typing-extensions>=3.7.4.3 in c:\\users\\matth\\anaconda3\\lib\\site-packages (from huggingface_hub) (4.9.0)\n",
      "Requirement already satisfied: aiosignal>=1.1.2 in c:\\users\\matth\\anaconda3\\lib\\site-packages (from aiohttp->datasets) (1.2.0)\n",
      "Requirement already satisfied: attrs>=17.3.0 in c:\\users\\matth\\anaconda3\\lib\\site-packages (from aiohttp->datasets) (23.1.0)\n",
      "Requirement already satisfied: frozenlist>=1.1.1 in c:\\users\\matth\\anaconda3\\lib\\site-packages (from aiohttp->datasets) (1.4.0)\n",
      "Requirement already satisfied: multidict<7.0,>=4.5 in c:\\users\\matth\\anaconda3\\lib\\site-packages (from aiohttp->datasets) (6.0.4)\n",
      "Requirement already satisfied: yarl<2.0,>=1.0 in c:\\users\\matth\\anaconda3\\lib\\site-packages (from aiohttp->datasets) (1.9.3)\n",
      "Requirement already satisfied: charset-normalizer<4,>=2 in c:\\users\\matth\\anaconda3\\lib\\site-packages (from requests>=2.19.0->datasets) (2.0.4)\n",
      "Requirement already satisfied: idna<4,>=2.5 in c:\\users\\matth\\anaconda3\\lib\\site-packages (from requests>=2.19.0->datasets) (3.4)\n",
      "Requirement already satisfied: urllib3<3,>=1.21.1 in c:\\users\\matth\\anaconda3\\lib\\site-packages (from requests>=2.19.0->datasets) (2.0.7)\n",
      "Requirement already satisfied: certifi>=2017.4.17 in c:\\users\\matth\\anaconda3\\lib\\site-packages (from requests>=2.19.0->datasets) (2024.2.2)\n",
      "Requirement already satisfied: colorama in c:\\users\\matth\\anaconda3\\lib\\site-packages (from tqdm>=4.62.1->datasets) (0.4.6)\n",
      "Requirement already satisfied: python-dateutil>=2.8.2 in c:\\users\\matth\\anaconda3\\lib\\site-packages (from pandas->datasets) (2.8.2)\n",
      "Requirement already satisfied: pytz>=2020.1 in c:\\users\\matth\\anaconda3\\lib\\site-packages (from pandas->datasets) (2023.3.post1)\n",
      "Requirement already satisfied: tzdata>=2022.1 in c:\\users\\matth\\anaconda3\\lib\\site-packages (from pandas->datasets) (2023.3)\n",
      "Requirement already satisfied: six>=1.5 in c:\\users\\matth\\anaconda3\\lib\\site-packages (from python-dateutil>=2.8.2->pandas->datasets) (1.16.0)\n"
     ]
    }
   ],
   "source": [
    "!pip install datasets transformers huggingface_hub\n"
   ]
  },
  {
   "cell_type": "code",
   "execution_count": 2,
   "id": "da7c44b3-373a-4189-96c0-99b7c6147c2f",
   "metadata": {},
   "outputs": [],
   "source": [
    "# adds binary column and gets rid of the null values in the data\n",
    "\n",
    "train = train.dropna(subset=['comment_text'])\n",
    "train.reset_index(drop=True, inplace=True)\n",
    "train['bi_target'] = (train['target'] >= 0.5).astype(int)"
   ]
  },
  {
   "cell_type": "code",
   "execution_count": 3,
   "id": "e090bf36-0d23-4e99-8902-ba36238dbb33",
   "metadata": {},
   "outputs": [],
   "source": [
    "#take a sample from the train data set, take stratified sample to maintain distribution. \n",
    "# train_sample = train.groupby('bi_target', group_keys=False).apply(lambda x: x.sample(frac=0.025, random_state=42))"
   ]
  },
  {
   "cell_type": "code",
   "execution_count": 4,
   "id": "4810a05e-3df1-4599-81f1-eafd710a0d8a",
   "metadata": {},
   "outputs": [
    {
     "data": {
      "image/png": "[encoded data removed]",
      "text/plain": [
       "<Figure size 640x480 with 1 Axes>"
      ]
     },
     "metadata": {},
     "output_type": "display_data"
    },
    {
     "name": "stdout",
     "output_type": "stream",
     "text": [
      "The absolute class distribution is: {0: 41513, 1: 3608}\n",
      "Count for score 1: 3608\n",
      "Count for score 0: 41513\n",
      "\n",
      "The relative (%) class distribution is: \n",
      "bi_target\n",
      "0    92.003723\n",
      "1     7.996277\n",
      "Name: proportion, dtype: float64\n"
     ]
    }
   ],
   "source": [
    "# import matplotlib.pyplot as plt\n",
    "\n",
    "# class_distribution = train_sample['bi_target'].value_counts().to_dict()\n",
    "# overall_count = train_sample['bi_target'].value_counts(normalize=True)*100\n",
    "\n",
    "# plt.bar(overall_count.index, overall_count.values)\n",
    "# plt.title('Overall Distribution Binary Target sampled train')\n",
    "# plt.xlabel('target')\n",
    "# plt.ylabel('Percentage of target') \n",
    "\n",
    "# plt.tight_layout()\n",
    "# plt.show()\n",
    "# print(f'The absolute class distribution is:', class_distribution)\n",
    "# print(f'Count for score 1:', class_distribution[1])\n",
    "# print(f'Count for score 0:', class_distribution[0])\n",
    "# print('\\nThe relative (%) class distribution is:', f'\\n{overall_count}')"
   ]
  },
  {
   "cell_type": "code",
   "execution_count": 7,
   "id": "fc454b25-1a72-42c6-828a-700e8111e63b",
   "metadata": {},
   "outputs": [
    {
     "data": {
      "image/png": "[encoded data removed]",
      "text/plain": [
       "<Figure size 640x480 with 1 Axes>"
      ]
     },
     "metadata": {},
     "output_type": "display_data"
    },
    {
     "name": "stdout",
     "output_type": "stream",
     "text": [
      "The absolute class distribution is: {0: 1660537, 1: 144334}\n",
      "Count for score 1: 144334\n",
      "Count for score 0: 1660537\n",
      "\n",
      "The relative (%) class distribution is: \n",
      "bi_target\n",
      "0    92.003085\n",
      "1     7.996915\n",
      "Name: proportion, dtype: float64\n"
     ]
    }
   ],
   "source": [
    "# import matplotlib.pyplot as plt\n",
    "\n",
    "# class_distribution = train['bi_target'].value_counts().to_dict()\n",
    "# overall_count = train['bi_target'].value_counts(normalize=True)*100\n",
    "\n",
    "# plt.bar(overall_count.index, overall_count.values)\n",
    "# plt.title('Overall Distribution Binary Target sampled train')\n",
    "# plt.xlabel('target')\n",
    "# plt.ylabel('Percentage of target') \n",
    "\n",
    "# plt.tight_layout()\n",
    "# plt.show()\n",
    "# print(f'The absolute class distribution is:', class_distribution)\n",
    "# print(f'Count for score 1:', class_distribution[1])\n",
    "# print(f'Count for score 0:', class_distribution[0])\n",
    "# print('\\nThe relative (%) class distribution is:', f'\\n{overall_count}')"
   ]
  },
  {
   "cell_type": "code",
   "execution_count": 3,
   "id": "25fb6147-e0b3-42ac-b713-df82dca7afcf",
   "metadata": {},
   "outputs": [],
   "source": [
    "from torch.utils.data import Dataset, DataLoader\n",
    "import torch\n",
    "from transformers import DistilBertTokenizer, DistilBertForSequenceClassification, AdamW\n",
    "from sklearn.model_selection import train_test_split\n",
    "from torch.cuda.amp import GradScaler, autocast\n",
    "from transformers import get_linear_schedule_with_warmup\n",
    "from tqdm.auto import tqdm\n",
    "import numpy as np\n",
    "\n",
    "class MyDataset(Dataset):\n",
    "    def __init__(self, dataframe, tokenizer):\n",
    "        self.dataframe = dataframe\n",
    "        self.tokenizer = tokenizer\n",
    "\n",
    "    def __len__(self):\n",
    "        return len(self.dataframe)\n",
    "\n",
    "    def __getitem__(self, idx):\n",
    "        text = self.dataframe.iloc[idx]['comment_text']\n",
    "        label = self.dataframe.iloc[idx]['bi_target']\n",
    "        return text, label\n",
    "\n",
    "\n",
    "\n",
    "\n",
    "\n",
    "# Collator did speed up the batch size issues, I kept finding articles for collate_fn though.  Not sure what the difference is between this and \n",
    "# hugging faces is one but they appear to do the same thing.\n",
    "def collate_fn(batch):\n",
    "    texts, labels = zip(*batch)\n",
    "    encodings = tokenizer(list(texts), padding=True, truncation=True, max_length=215, return_tensors=\"pt\")\n",
    "    labels = torch.tensor(labels, dtype=torch.long)\n",
    "    return encodings['input_ids'], encodings['attention_mask'], labels"
   ]
  },
  {
   "cell_type": "code",
   "execution_count": 4,
   "id": "047b8a5e-e36b-430c-8b14-d3fc7219ba6a",
   "metadata": {},
   "outputs": [],
   "source": [
    "# almost identical to before except for the loaders \n",
    "\n",
    "# tokenizer\n",
    "tokenizer = DistilBertTokenizer.from_pretrained('distilbert-base-uncased')\n",
    "\n",
    "# Split the dataset\n",
    "train_df, val_df = train_test_split(train, test_size=0.1)\n",
    "\n",
    "# Dataset\n",
    "train_dataset = MyDataset(train_df, tokenizer)\n",
    "val_dataset = MyDataset(val_df, tokenizer)\n",
    "\n",
    "# num of workers is supposed to speed up the bottleneck between CPU and GPU but I could not get it to run whatsoever.  Setting it to 0 worked fine though\n",
    "# only difference here is the addition of the collator and changing of the batch size\n",
    "train_loader = DataLoader(train_dataset, batch_size=128, shuffle=True, num_workers=0, collate_fn=collate_fn)\n",
    "val_loader = DataLoader(val_dataset, batch_size=128, num_workers=0, collate_fn=collate_fn)"
   ]
  },
  {
   "cell_type": "code",
   "execution_count": 5,
   "id": "d89a8787-a147-4f2a-87c0-30ea66888223",
   "metadata": {},
   "outputs": [
    {
     "name": "stderr",
     "output_type": "stream",
     "text": [
      "Some weights of DistilBertForSequenceClassification were not initialized from the model checkpoint at distilbert-base-uncased and are newly initialized: ['classifier.bias', 'classifier.weight', 'pre_classifier.bias', 'pre_classifier.weight']\n",
      "You should probably TRAIN this model on a down-stream task to be able to use it for predictions and inference.\n"
     ]
    },
    {
     "data": {
      "text/plain": [
       "DistilBertForSequenceClassification(\n",
       "  (distilbert): DistilBertModel(\n",
       "    (embeddings): Embeddings(\n",
       "      (word_embeddings): Embedding(30522, 768, padding_idx=0)\n",
       "      (position_embeddings): Embedding(512, 768)\n",
       "      (LayerNorm): LayerNorm((768,), eps=1e-12, elementwise_affine=True)\n",
       "      (dropout): Dropout(p=0.2, inplace=False)\n",
       "    )\n",
       "    (transformer): Transformer(\n",
       "      (layer): ModuleList(\n",
       "        (0-5): 6 x TransformerBlock(\n",
       "          (attention): MultiHeadSelfAttention(\n",
       "            (dropout): Dropout(p=0.2, inplace=False)\n",
       "            (q_lin): Linear(in_features=768, out_features=768, bias=True)\n",
       "            (k_lin): Linear(in_features=768, out_features=768, bias=True)\n",
       "            (v_lin): Linear(in_features=768, out_features=768, bias=True)\n",
       "            (out_lin): Linear(in_features=768, out_features=768, bias=True)\n",
       "          )\n",
       "          (sa_layer_norm): LayerNorm((768,), eps=1e-12, elementwise_affine=True)\n",
       "          (ffn): FFN(\n",
       "            (dropout): Dropout(p=0.2, inplace=False)\n",
       "            (lin1): Linear(in_features=768, out_features=3072, bias=True)\n",
       "            (lin2): Linear(in_features=3072, out_features=768, bias=True)\n",
       "            (activation): GELUActivation()\n",
       "          )\n",
       "          (output_layer_norm): LayerNorm((768,), eps=1e-12, elementwise_affine=True)\n",
       "        )\n",
       "      )\n",
       "    )\n",
       "  )\n",
       "  (pre_classifier): Linear(in_features=768, out_features=768, bias=True)\n",
       "  (classifier): Linear(in_features=768, out_features=2, bias=True)\n",
       "  (dropout): Dropout(p=0.2, inplace=False)\n",
       ")"
      ]
     },
     "execution_count": 5,
     "metadata": {},
     "output_type": "execute_result"
    }
   ],
   "source": [
    "from transformers import DistilBertForSequenceClassification, DistilBertConfig\n",
    "\n",
    "config = DistilBertConfig(\n",
    "    n_layers=6,  # Number of hidden layers\n",
    "    dim=768,  # Dimensionality of the encoder layers and the pooler layer\n",
    "    hidden_dim=3072,  # Dimensionality of the \"intermediate\" (i.e., feed-forward) layer in the Transformer encoder\n",
    "    n_heads=12,  # Number of attention heads for each attention layer in the Transformer encoder\n",
    "    dropout=0.2,  # Dropout probability for the dropout layers\n",
    "    attention_dropout=0.2,  # Dropout probability for the attention layers\n",
    "    num_labels=2\n",
    ")\n",
    "\n",
    "model = DistilBertForSequenceClassification.from_pretrained('distilbert-base-uncased', config=config)\n",
    "\n",
    "# makes the model run on the GPU instead of CPU\n",
    "model.cuda()"
   ]
  },
  {
   "cell_type": "code",
   "execution_count": 13,
   "id": "fbf11235-59f3-4290-960f-681f3c5a904e",
   "metadata": {},
   "outputs": [
    {
     "name": "stderr",
     "output_type": "stream",
     "text": [
      "C:\\Users\\matth\\anaconda3\\envs\\torchpower\\lib\\site-packages\\transformers\\optimization.py:429: FutureWarning: This implementation of AdamW is deprecated and will be removed in a future version. Use the PyTorch implementation torch.optim.AdamW instead, or set `no_deprecation_warning=True` to disable this warning\n",
      "  warnings.warn(\n"
     ]
    },
    {
     "data": {
      "application/vnd.jupyter.widget-view+json": {
       "model_id": "c3d021d895c448af9bb6d84d0470905b",
       "version_major": 2,
       "version_minor": 0
      },
      "text/plain": [
       "Epoch 1:   0%|          | 0/127 [00:00<?, ?it/s]"
      ]
     },
     "metadata": {},
     "output_type": "display_data"
    },
    {
     "data": {
      "application/vnd.jupyter.widget-view+json": {
       "model_id": "bed6d62a327148da89fc20197d04c7f3",
       "version_major": 2,
       "version_minor": 0
      },
      "text/plain": [
       "Epoch 2:   0%|          | 0/127 [00:00<?, ?it/s]"
      ]
     },
     "metadata": {},
     "output_type": "display_data"
    },
    {
     "data": {
      "application/vnd.jupyter.widget-view+json": {
       "model_id": "8d59645fe40240a18a097348e75adc64",
       "version_major": 2,
       "version_minor": 0
      },
      "text/plain": [
       "Epoch 3:   0%|          | 0/127 [00:00<?, ?it/s]"
      ]
     },
     "metadata": {},
     "output_type": "display_data"
    }
   ],
   "source": [
    "# alternative weighted trainer\n",
    "\n",
    "\n",
    "\n",
    "\n",
    "\n",
    "\n",
    "\n",
    "\n",
    "# from transformers import AdamW\n",
    "# from tqdm.auto import tqdm\n",
    "# from torch.optim.lr_scheduler import StepLR\n",
    "\n",
    "# # class weight for 5% target class\n",
    "# class_weights = [1, 1.01]\n",
    "\n",
    "# # convert class weight to tensor\n",
    "# class_weights_tensor = torch.tensor(class_weights, dtype=torch.float).cuda()\n",
    "\n",
    "\n",
    "# # AdamW optimizer is apparently really good for DistilBERT?  Will write more in docs\n",
    "# optimizer = AdamW(model.parameters(), lr=5e-5)\n",
    "\n",
    "# # Define the scheduler\n",
    "# scheduler = StepLR(optimizer, step_size=1, gamma=0.1)\n",
    "\n",
    "# # Training loop\n",
    "# model.train()\n",
    "# for epoch in range(3):  \n",
    "#     scheduler.step()\n",
    "#     progress_bar = tqdm(train_loader, desc=f\"Epoch {epoch+1}\")\n",
    "#     for input_ids, attention_mask, labels in progress_bar:\n",
    "#         # Move the training to the GPU\n",
    "#         input_ids = input_ids.cuda()\n",
    "#         attention_mask = attention_mask.cuda()\n",
    "#         labels = labels.cuda()\n",
    "\n",
    "#         # Set gradients to zero for training\n",
    "#         model.zero_grad()\n",
    "        \n",
    "#         outputs = model(input_ids=input_ids, attention_mask=attention_mask, labels=labels)\n",
    "        \n",
    "#         loss_fct = torch.nn.CrossEntropyLoss(weight=class_weights_tensor)\n",
    "#         loss = loss_fct(outputs.logits, labels)\n",
    "\n",
    "#         # loss = outputs.loss\n",
    "        \n",
    "#         loss.backward()\n",
    "#         optimizer.step()\n",
    "        \n",
    "#         progress_bar.set_postfix({'loss': loss.item()})"
   ]
  },
  {
   "cell_type": "code",
   "execution_count": 7,
   "id": "f13fe8fe-744e-4c8c-bfeb-1aca9ce6ee14",
   "metadata": {},
   "outputs": [
    {
     "name": "stderr",
     "output_type": "stream",
     "text": [
      "C:\\Users\\matth\\anaconda3\\envs\\torchpower\\lib\\site-packages\\transformers\\optimization.py:429: FutureWarning: This implementation of AdamW is deprecated and will be removed in a future version. Use the PyTorch implementation torch.optim.AdamW instead, or set `no_deprecation_warning=True` to disable this warning\n",
      "  warnings.warn(\n"
     ]
    },
    {
     "data": {
      "application/vnd.jupyter.widget-view+json": {
       "model_id": "ed8f4327bf3445bfa5641924fda14feb",
       "version_major": 2,
       "version_minor": 0
      },
      "text/plain": [
       "Epoch 1:   0%|          | 0/12691 [00:00<?, ?it/s]"
      ]
     },
     "metadata": {},
     "output_type": "display_data"
    },
    {
     "data": {
      "application/vnd.jupyter.widget-view+json": {
       "model_id": "92bd4709fa904ccda36ea46262cfdac9",
       "version_major": 2,
       "version_minor": 0
      },
      "text/plain": [
       "Epoch 2:   0%|          | 0/12691 [00:00<?, ?it/s]"
      ]
     },
     "metadata": {},
     "output_type": "display_data"
    },
    {
     "data": {
      "application/vnd.jupyter.widget-view+json": {
       "model_id": "22b30a8d8261422ab1c59e88ad9b79fa",
       "version_major": 2,
       "version_minor": 0
      },
      "text/plain": [
       "Epoch 3:   0%|          | 0/12691 [00:00<?, ?it/s]"
      ]
     },
     "metadata": {},
     "output_type": "display_data"
    }
   ],
   "source": [
    "# my final trainer\n",
    "\n",
    "\n",
    "\n",
    "\n",
    "# Optimizer\n",
    "optimizer = AdamW(model.parameters(), lr=7.5e-5)\n",
    "\n",
    "# GradScaler for mixed precision training\n",
    "scaler = GradScaler()\n",
    "\n",
    "# Scheduler\n",
    "epochs = 3\n",
    "total_steps = len(train_loader) * epochs\n",
    "scheduler = get_linear_schedule_with_warmup(optimizer, num_warmup_steps=0, num_training_steps=total_steps)\n",
    "\n",
    "#scheduler = StepLR(optimizer, step_size=1, gamma=0.1)\n",
    "\n",
    "\n",
    "# Training loop\n",
    "model.train()\n",
    "for epoch in range(epochs):  \n",
    "    progress_bar = tqdm(train_loader, desc=f\"Epoch {epoch+1}\")\n",
    "    for batch in progress_bar:\n",
    "        input_ids, attention_mask, labels = [b.cuda() for b in batch]\n",
    "\n",
    "        # Set gradients to zero for training\n",
    "        model.zero_grad()\n",
    "        \n",
    "        # Mixed precision\n",
    "        with autocast():\n",
    "            outputs = model(input_ids=input_ids, attention_mask=attention_mask, labels=labels)\n",
    "            loss = outputs.loss\n",
    "\n",
    "        # Backward pass\n",
    "        scaler.scale(loss).backward()\n",
    "        scaler.step(optimizer)\n",
    "        scaler.update()\n",
    "        scheduler.step()\n",
    "        model.zero_grad()\n",
    "\n",
    "        progress_bar.set_postfix({'loss': loss.item()})\n",
    "\n",
    "        # Clear some memory\n",
    "        del input_ids\n",
    "        del attention_mask\n",
    "        del labels\n",
    "        torch.cuda.empty_cache()"
   ]
  },
  {
   "cell_type": "code",
   "execution_count": 8,
   "id": "5a26048b-1480-40c9-99ab-2b5c55e9302a",
   "metadata": {},
   "outputs": [
    {
     "name": "stdout",
     "output_type": "stream",
     "text": [
      "Accuracy: 0.9538639687957094\n",
      "Precision: 0.7169382063701747\n",
      "Recall: 0.6860734602149028\n",
      "F1 Score: 0.7011663376996232\n"
     ]
    }
   ],
   "source": [
    "import numpy as np\n",
    "from sklearn.metrics import accuracy_score, precision_recall_fscore_support\n",
    "\n",
    "\n",
    "model.eval()  # Transformers built in model evaluation kit \n",
    "true_labels = []\n",
    "pred_labels = []\n",
    "\n",
    "with torch.no_grad():  # Disable gradient calculation\n",
    "    for input_ids, attention_mask, labels in val_loader:\n",
    "        # Move tensors to the GPU\n",
    "        input_ids = input_ids.cuda()\n",
    "        attention_mask = attention_mask.cuda()\n",
    "        labels = labels.cuda()\n",
    "        \n",
    "        # Forward pass, get logit predictions\n",
    "        outputs = model(input_ids=input_ids, attention_mask=attention_mask)\n",
    "        \n",
    "        # Move logits and labels to CPU\n",
    "        logits = outputs.logits.detach().cpu().numpy()\n",
    "        label_ids = labels.to('cpu').numpy()\n",
    "        \n",
    "        # Store predictions and true labels\n",
    "        true_labels.append(label_ids)\n",
    "        pred_labels.append(logits.argmax(axis=1))\n",
    "\n",
    "# Calculate our accuracy metrics\n",
    "true_labels = np.concatenate(true_labels)\n",
    "pred_labels = np.concatenate(pred_labels)\n",
    "\n",
    "\n",
    "accuracy = accuracy_score(true_labels, pred_labels)\n",
    "precision, recall, f1, _ = precision_recall_fscore_support(true_labels, pred_labels, average='binary')\n",
    "\n",
    "print(f'Accuracy: {accuracy}')\n",
    "print(f'Precision: {precision}')\n",
    "print(f'Recall: {recall}')\n",
    "print(f'F1 Score: {f1}')"
   ]
  },
  {
   "cell_type": "markdown",
   "id": "69ad05e0-4256-4edb-b175-98f3b9dcfb06",
   "metadata": {},
   "source": [
    "2.5% of data, batch size 64, no optimization\n",
    "\n",
    "- Accuracy: 0.9399512519388433\r\n",
    "- \n",
    "Precision: 0.6460176991150443\n",
    "- \r\n",
    "Recall: 0.591891891891891\n",
    "- 8\r\n",
    "F1 Score: 0.6177715091678421"
   ]
  },
  {
   "cell_type": "markdown",
   "id": "73d63c98-bee8-475c-87cc-a064ee642f0e",
   "metadata": {},
   "source": [
    "2.5% of data, batch size 64, potential optimization?  I'm not sure if it worked\n",
    "\n",
    "- Accuracy: 0.9412807445158431,\r",
    "- \n",
    "Precision: 0.635258358662613,9\n",
    "- \r\n",
    "Recall: 0.59039548022598,8\n",
    "- 8\r\n",
    "F1 Score: 0.6120058565153,733"
   ]
  },
  {
   "cell_type": "markdown",
   "id": "510bb59b-e2c2-4066-a8f4-3523ca438081",
   "metadata": {},
   "source": [
    "2.5% of data, batch size 215, no optimization, Arman's learning rate \n",
    "\n",
    "- Accuracy: 0.946155550631509\r",
    "- \n",
    "Precision: 0.6735905044510386\n",
    "- \r\n",
    "Recall: 0.630555555555555\n",
    "- 5\r\n",
    "F1 Score: 0.6513629842180775"
   ]
  },
  {
   "cell_type": "markdown",
   "id": "f9085309-15be-4964-908e-1702d848e138",
   "metadata": {},
   "source": [
    "2.5%, 128 batch size, undersampling with arman's learning rate \n",
    "\n",
    "- Accuracy: 0.9268698060941828\r",
    "- \n",
    "Precision: 0.5317622950819673\n",
    "- \r\n",
    "Recall: 0.718836565096952\n",
    "- 9\r\n",
    "F1 Score: 0.6113074204946997"
   ]
  },
  {
   "cell_type": "markdown",
   "id": "b13e5e41-2912-490c-b076-4abf8f557176",
   "metadata": {},
   "source": [
    "2.5% 128 batch, arman code \n",
    "\n",
    "- Accuracy: 0.9172299168975069\r",
    "- \n",
    "Precision: 0.48854262144821264\n",
    "- \r\n",
    "Recall: 0.738227146814404\n",
    "- 4\r\n",
    "F1 Score: 0.5879757308328736"
   ]
  },
  {
   "cell_type": "code",
   "execution_count": 9,
   "id": "408ee332-41e4-42f7-b879-675dfe55a14e",
   "metadata": {},
   "outputs": [
    {
     "data": {
      "text/plain": [
       "('../data/toxicibert_tokenizer_final\\\\tokenizer_config.json',\n",
       " '../data/toxicibert_tokenizer_final\\\\special_tokens_map.json',\n",
       " '../data/toxicibert_tokenizer_final\\\\vocab.txt',\n",
       " '../data/toxicibert_tokenizer_final\\\\added_tokens.json')"
      ]
     },
     "execution_count": 9,
     "metadata": {},
     "output_type": "execute_result"
    }
   ],
   "source": [
    "# from transformers import DistilBertModel\n",
    "\n",
    "\n",
    "# # Save the model\n",
    "# model.save_pretrained('../data/models/toxicibert_final')\n",
    "\n",
    "# # Save the tokenizer\n",
    "# tokenizer.save_pretrained('../data/models/toxicibert_tokenizer_final')\n"
   ]
  },
  {
   "cell_type": "markdown",
   "id": "c7435514-075f-4a4a-a147-1967e2fdd874",
   "metadata": {},
   "source": [
    "100% of data, undersampled.  128 batch size \n",
    "\n",
    "- Accuracy: 0.8921147112273392\r",
    "- \n",
    "Precision: 0.42045275155495215\n",
    "- \r\n",
    "Recall: 0.922677198087715\n",
    "- 6\r\n",
    "F1 Score: 0.5776688500412094"
   ]
  },
  {
   "cell_type": "code",
   "execution_count": 13,
   "id": "9c0107d5-9e3a-47ac-bcf9-daf1c1225733",
   "metadata": {},
   "outputs": [
    {
     "name": "stdout",
     "output_type": "stream",
     "text": [
      "Threshold: 0.4\n",
      "Accuracy: 0.9502515402686051\n",
      "Precision: 0.6681800741782836\n",
      "Recall: 0.7338296228667743\n",
      "F1 Score: 0.6994678180540215\n",
      "///////////////////////\n",
      "Threshold: 0.5\n",
      "Accuracy: 0.9538639687957094\n",
      "Precision: 0.7169382063701747\n",
      "Recall: 0.6860734602149028\n",
      "F1 Score: 0.7011663376996232\n",
      "///////////////////////\n",
      "Threshold: 0.6\n",
      "Accuracy: 0.9558086964230309\n",
      "Precision: 0.7721386981837143\n",
      "Recall: 0.6239904487674697\n",
      "F1 Score: 0.6902043035811389\n",
      "///////////////////////\n",
      "Threshold: 0.7\n",
      "Accuracy: 0.955293426709809\n",
      "Precision: 0.8115532215713998\n",
      "Recall: 0.5643654751035887\n",
      "F1 Score: 0.6657553539621391\n",
      "///////////////////////\n",
      "Threshold: 0.8\n",
      "Accuracy: 0.9543016710252206\n",
      "Precision: 0.859215733301355\n",
      "Recall: 0.5031954491186179\n",
      "F1 Score: 0.6346886349543803\n",
      "///////////////////////\n",
      "Threshold: 0.9\n",
      "Accuracy: 0.9505064048579407\n",
      "Precision: 0.9077774362127267\n",
      "Recall: 0.4147763185616967\n",
      "F1 Score: 0.5693902145095203\n",
      "///////////////////////\n"
     ]
    }
   ],
   "source": [
    "# alternative evaluation with different threshhold options\n",
    "\n",
    "import numpy as np\n",
    "from sklearn.metrics import accuracy_score, precision_recall_fscore_support\n",
    "\n",
    "model.eval()  # Transformers built-in model evaluation kit \n",
    "true_labels = np.array([])\n",
    "all_pred_labels = []  # Store predictions for each threshold\n",
    "\n",
    "# Define a list of threshold values to iterate over\n",
    "thresholds = [0.4, 0.5, 0.6, 0.7, 0.8, 0.9]\n",
    "\n",
    "for threshold in thresholds:\n",
    "    true_labels = np.array([])\n",
    "    pred_labels = np.array([])\n",
    "\n",
    "    with torch.no_grad():  # Disable gradient calculation\n",
    "        for input_ids, attention_mask, labels in val_loader:\n",
    "            # Move tensors to the GPU\n",
    "            input_ids = input_ids.cuda()\n",
    "            attention_mask = attention_mask.cuda()\n",
    "            labels = labels.cuda()\n",
    "\n",
    "            # Forward pass, get logit predictions\n",
    "            outputs = model(input_ids=input_ids, attention_mask=attention_mask)\n",
    "\n",
    "            # Apply threshold to logits\n",
    "            logits = outputs.logits.detach().cpu().numpy()\n",
    "            pred_probs = torch.softmax(torch.tensor(logits), dim=1)\n",
    "            pred_labels_thresholded = (pred_probs[:, 1] > threshold).numpy()  # Assuming binary classification\n",
    "\n",
    "            # Move labels to CPU\n",
    "            label_ids = labels.to('cpu').numpy()\n",
    "\n",
    "            # Store predictions and true labels\n",
    "            true_labels = np.concatenate((true_labels, label_ids))\n",
    "            pred_labels = np.concatenate((pred_labels, pred_labels_thresholded))\n",
    "\n",
    "    all_pred_labels.append(pred_labels)\n",
    "\n",
    "# Convert list of prediction arrays to numpy array\n",
    "allpred_labels = np.array(all_pred_labels)\n",
    "\n",
    "# Calculate metrics for each threshold\n",
    "for i, threshold in enumerate(thresholds):\n",
    "    pred_labels = all_pred_labels[i]\n",
    "    accuracy = accuracy_score(true_labels, pred_labels)\n",
    "    precision, recall, f1, _  = precision_recall_fscore_support(true_labels, pred_labels, average='binary')\n",
    "\n",
    "    print(f'Threshold: {threshold}')\n",
    "    print(f'Accuracy: {accuracy}')\n",
    "    print(f'Precision: {precision}')\n",
    "    print(f'Recall: {recall}')\n",
    "    print(f'F1 Score: {f1}')\n",
    "    print('///////////////////////')"
   ]
  },
  {
   "cell_type": "markdown",
   "id": "97e7c621-5d98-44d5-a5a7-b727520e2d77",
   "metadata": {},
   "source": [
    "## Older code, optimized for batch sizes of 16"
   ]
  },
  {
   "cell_type": "code",
   "execution_count": 35,
   "id": "c8071d1d-016b-49b3-9d24-647ea7ffe667",
   "metadata": {},
   "outputs": [],
   "source": [
    "from torch.utils.data import Dataset, DataLoader\n",
    "import torch\n",
    "\n",
    "class MyDataset(Dataset):\n",
    "    def __init__(self, dataframe, tokenizer):\n",
    "        self.dataframe = dataframe\n",
    "        self.tokenizer = tokenizer\n",
    "\n",
    "    def __len__(self):\n",
    "        return len(self.dataframe)\n",
    "\n",
    "    def __getitem__(self, idx):\n",
    "        text = self.dataframe.iloc[idx]['comment_text']\n",
    "        label = self.dataframe.iloc[idx]['bi_target']\n",
    "        inputs = self.tokenizer(text, padding='max_length', truncation=True, max_length=215, return_tensors=\"pt\")\n",
    "        \n",
    "        input_ids = inputs['input_ids'].squeeze()\n",
    "        attention_mask = inputs['attention_mask'].squeeze()\n",
    "        \n",
    "        return input_ids, attention_mask, torch.tensor(label, dtype=torch.long)"
   ]
  },
  {
   "cell_type": "code",
   "execution_count": null,
   "id": "07f93366-d27d-4af4-8773-0e0fc464a75e",
   "metadata": {},
   "outputs": [],
   "source": [
    "from transformers import DistilBertTokenizer\n",
    "from sklearn.model_selection import train_test_split\n",
    "\n",
    "tokenizer = DistilBertTokenizer.from_pretrained('distilbert-base-uncased')\n",
    "\n",
    "train_df, val_df = train_test_split(train_sample, test_size=0.1)\n",
    "\n",
    "train_dataset = MyDataset(train_df, tokenizer)\n",
    "val_dataset = MyDataset(val_df, tokenizer)\n",
    "\n",
    "train_loader = DataLoader(train_dataset, batch_size=64, shuffle=True,num_workers=0, prefetch_factor=2)\n",
    "val_loader = DataLoader(val_dataset, batch_size=64,num_workers=4, prefetch_factor=2)"
   ]
  },
  {
   "cell_type": "code",
   "execution_count": 37,
   "id": "83c1e539-8874-4e43-8916-6ffb57554c92",
   "metadata": {},
   "outputs": [
    {
     "name": "stderr",
     "output_type": "stream",
     "text": [
      "Some weights of DistilBertForSequenceClassification were not initialized from the model checkpoint at distilbert-base-uncased and are newly initialized: ['classifier.bias', 'classifier.weight', 'pre_classifier.bias', 'pre_classifier.weight']\n",
      "You should probably TRAIN this model on a down-stream task to be able to use it for predictions and inference.\n"
     ]
    },
    {
     "data": {
      "text/plain": [
       "DistilBertForSequenceClassification(\n",
       "  (distilbert): DistilBertModel(\n",
       "    (embeddings): Embeddings(\n",
       "      (word_embeddings): Embedding(30522, 768, padding_idx=0)\n",
       "      (position_embeddings): Embedding(512, 768)\n",
       "      (LayerNorm): LayerNorm((768,), eps=1e-12, elementwise_affine=True)\n",
       "      (dropout): Dropout(p=0.1, inplace=False)\n",
       "    )\n",
       "    (transformer): Transformer(\n",
       "      (layer): ModuleList(\n",
       "        (0-5): 6 x TransformerBlock(\n",
       "          (attention): MultiHeadSelfAttention(\n",
       "            (dropout): Dropout(p=0.1, inplace=False)\n",
       "            (q_lin): Linear(in_features=768, out_features=768, bias=True)\n",
       "            (k_lin): Linear(in_features=768, out_features=768, bias=True)\n",
       "            (v_lin): Linear(in_features=768, out_features=768, bias=True)\n",
       "            (out_lin): Linear(in_features=768, out_features=768, bias=True)\n",
       "          )\n",
       "          (sa_layer_norm): LayerNorm((768,), eps=1e-12, elementwise_affine=True)\n",
       "          (ffn): FFN(\n",
       "            (dropout): Dropout(p=0.1, inplace=False)\n",
       "            (lin1): Linear(in_features=768, out_features=3072, bias=True)\n",
       "            (lin2): Linear(in_features=3072, out_features=768, bias=True)\n",
       "            (activation): GELUActivation()\n",
       "          )\n",
       "          (output_layer_norm): LayerNorm((768,), eps=1e-12, elementwise_affine=True)\n",
       "        )\n",
       "      )\n",
       "    )\n",
       "  )\n",
       "  (pre_classifier): Linear(in_features=768, out_features=768, bias=True)\n",
       "  (classifier): Linear(in_features=768, out_features=2, bias=True)\n",
       "  (dropout): Dropout(p=0.2, inplace=False)\n",
       ")"
      ]
     },
     "execution_count": 37,
     "metadata": {},
     "output_type": "execute_result"
    }
   ],
   "source": [
    "from transformers import DistilBertForSequenceClassification\n",
    "\n",
    "model = DistilBertForSequenceClassification.from_pretrained('distilbert-base-uncased', num_labels=2)\n",
    "\n",
    "# makes the model run on the GPU instead of CPU\n",
    "model.cuda()"
   ]
  },
  {
   "cell_type": "code",
   "execution_count": null,
   "id": "7077e0e0-fa01-4d65-b2f1-47aabdd7a6e2",
   "metadata": {},
   "outputs": [],
   "source": []
  },
  {
   "cell_type": "code",
   "execution_count": 11,
   "id": "3758d813-99a7-4a75-aae3-4a9901e0c098",
   "metadata": {},
   "outputs": [],
   "source": [
    "# from sklearn.utils.class_weight import compute_class_weight\n",
    "# from torch import nn\n",
    "\n",
    "# # Calculate class weights\n",
    "# class_weights = compute_class_weight('balanced', classes=np.unique(train_labels), y=train_labels)\n",
    "# class_weights = torch.tensor(class_weights, dtype=torch.float).cuda()\n",
    "\n",
    "# # Include class weights in loss function\n",
    "# loss_fn = nn.CrossEntropyLoss(weight=class_weights)\n",
    "\n",
    "# # Then use loss_fn(outputs, labels) in the training loop instead of outputs.loss\n"
   ]
  },
  {
   "cell_type": "code",
   "execution_count": null,
   "id": "1b93b0fe-a632-4c2b-895d-3535cac53561",
   "metadata": {},
   "outputs": [
    {
     "name": "stderr",
     "output_type": "stream",
     "text": [
      "C:\\Users\\matth\\anaconda3\\envs\\torchpower\\lib\\site-packages\\transformers\\optimization.py:429: FutureWarning: This implementation of AdamW is deprecated and will be removed in a future version. Use the PyTorch implementation torch.optim.AdamW instead, or set `no_deprecation_warning=True` to disable this warning\n",
      "  warnings.warn(\n"
     ]
    }
   ],
   "source": [
    "from transformers import AdamW\n",
    "from tqdm.auto import tqdm\n",
    "\n",
    "# AdamW optimizer is apparently really good for DistilBERT?  Will write more in docs\n",
    "optimizer = AdamW(model.parameters(), lr=5e-5)\n",
    "\n",
    "# Training loop\n",
    "model.train()\n",
    "for epoch in range(3):  \n",
    "    progress_bar = tqdm(train_loader, desc=f\"Epoch {epoch+1}\")\n",
    "    for input_ids, attention_mask, labels in progress_bar:\n",
    "        # Move the training to the GPU\n",
    "        input_ids = input_ids.cuda()\n",
    "        attention_mask = attention_mask.cuda()\n",
    "        labels = labels.cuda()\n",
    "\n",
    "        # Set gradients to zero for training\n",
    "        model.zero_grad()\n",
    "        \n",
    "        outputs = model(input_ids=input_ids, attention_mask=attention_mask, labels=labels)\n",
    "        loss = outputs.loss\n",
    "        loss.backward()\n",
    "        optimizer.step()\n",
    "        \n",
    "        progress_bar.set_postfix({'loss': loss.item()})"
   ]
  },
  {
   "cell_type": "code",
   "execution_count": null,
   "id": "219fd942-cedc-4cc5-898c-655f51c732b7",
   "metadata": {},
   "outputs": [],
   "source": [
    "from transformers import AdamW\n",
    "from tqdm.auto import tqdm\n",
    "from torch.optim.lr_scheduler import StepLR\n",
    "\n",
    "#class weight for 5% target class\n",
    "class_weights = [1, 1.75]\n",
    "\n",
    "#convert class weight to tensor\n",
    "class_weights_tensor = torch.tensor(class_weights, dtype=torch.float).cuda()\n",
    "\n",
    "\n",
    "#AdamW optimizer is apparently really good for DistilBERT?  Will write more in docs\n",
    "optimizer = AdamW(model.parameters(), lr=7.5e-5)\n",
    "\n",
    "#Define the scheduler\n",
    "scheduler = StepLR(optimizer, step_size=1, gamma=0.1)\n",
    "\n",
    "#Training loop\n",
    "model.train()\n",
    "for epoch in range(3):\n",
    "    scheduler.step()\n",
    "    progress_bar = tqdm(train_loader, desc=f\"Epoch {epoch+1}\")\n",
    "    for input_ids, attention_mask, labels in progress_bar:\n",
    "        # Move the training to the GPU\n",
    "        input_ids = input_ids.cuda()\n",
    "        attention_mask = attention_mask.cuda()\n",
    "        labels = labels.cuda()\n",
    "\n",
    "        # Set gradients to zero for training\n",
    "        model.zero_grad()\n",
    "\n",
    "        outputs = model(input_ids=input_ids, attention_mask=attention_mask, labels=labels)\n",
    "\n",
    "        loss_fct = torch.nn.CrossEntropyLoss(weight=class_weights_tensor)\n",
    "        loss = loss_fct(outputs.logits, labels)\n",
    "\n",
    "        # loss = outputs.loss\n",
    "\n",
    "        loss.backward()\n",
    "        optimizer.step()\n",
    "\n",
    "        progress_bar.set_postfix({'loss': loss.item()})"
   ]
  },
  {
   "cell_type": "code",
   "execution_count": 6,
   "id": "5ffb982b-eadc-477c-a519-aebfff97842d",
   "metadata": {},
   "outputs": [
    {
     "name": "stdout",
     "output_type": "stream",
     "text": [
      "Accuracy: 0.9385041551246538\n",
      "Precision: 0.6462585034013606\n",
      "Recall: 0.6168831168831169\n",
      "F1 Score: 0.6312292358803986\n"
     ]
    }
   ],
   "source": [
    "import numpy as np\n",
    "from sklearn.metrics import accuracy_score, precision_recall_fscore_support\n",
    "\n",
    "\n",
    "model.eval()  # Transformers built in model evaluation kit \n",
    "true_labels = []\n",
    "pred_labels = []\n",
    "\n",
    "with torch.no_grad():  # Disable gradient calculation\n",
    "    for input_ids, attention_mask, labels in val_loader:\n",
    "        # Move tensors to the GPU\n",
    "        input_ids = input_ids.cuda()\n",
    "        attention_mask = attention_mask.cuda()\n",
    "        labels = labels.cuda()\n",
    "        \n",
    "        # Forward pass, get logit predictions\n",
    "        outputs = model(input_ids=input_ids, attention_mask=attention_mask)\n",
    "        \n",
    "        # Move logits and labels to CPU\n",
    "        logits = outputs.logits.detach().cpu().numpy()\n",
    "        label_ids = labels.to('cpu').numpy()\n",
    "        \n",
    "        # Store predictions and true labels\n",
    "        true_labels.append(label_ids)\n",
    "        pred_labels.append(logits.argmax(axis=1))\n",
    "\n",
    "# Calculate our accuracy metrics\n",
    "true_labels = np.concatenate(true_labels)\n",
    "pred_labels = np.concatenate(pred_labels)\n",
    "\n",
    "\n",
    "accuracy = accuracy_score(true_labels, pred_labels)\n",
    "precision, recall, f1, _ = precision_recall_fscore_support(true_labels, pred_labels, average='binary')\n",
    "\n",
    "print(f'Accuracy: {accuracy}')\n",
    "print(f'Precision: {precision}')\n",
    "print(f'Recall: {recall}')\n",
    "print(f'F1 Score: {f1}')"
   ]
  },
  {
   "cell_type": "code",
   "execution_count": 14,
   "id": "93cffe10-06cd-4404-bdb8-4f2ce7172029",
   "metadata": {},
   "outputs": [
    {
     "name": "stdout",
     "output_type": "stream",
     "text": [
      "Accuracy: 0.9469499695273976\n",
      "Precision: 0.6651677620200622\n",
      "Recall: 0.6700348432055749\n",
      "F1 Score: 0.6675924318694672\n"
     ]
    }
   ],
   "source": [
    "import numpy as np\n",
    "from sklearn.metrics import accuracy_score, precision_recall_fscore_support\n",
    "\n",
    "\n",
    "model.eval()  # Transformers built in model evaluation kit \n",
    "true_labels = []\n",
    "pred_labels = []\n",
    "\n",
    "with torch.no_grad():  # Disable gradient calculation\n",
    "    for input_ids, attention_mask, labels in val_loader:\n",
    "        # Move tensors to the GPU\n",
    "        input_ids = input_ids.cuda()\n",
    "        attention_mask = attention_mask.cuda()\n",
    "        labels = labels.cuda()\n",
    "        \n",
    "        # Forward pass, get logit predictions\n",
    "        outputs = model(input_ids=input_ids, attention_mask=attention_mask)\n",
    "        \n",
    "        # Move logits and labels to CPU\n",
    "        logits = outputs.logits.detach().cpu().numpy()\n",
    "        label_ids = labels.to('cpu').numpy()\n",
    "        \n",
    "        # Store predictions and true labels\n",
    "        true_labels.append(label_ids)\n",
    "        pred_labels.append(logits.argmax(axis=1))\n",
    "\n",
    "# Calculate our accuracy metrics\n",
    "true_labels = np.concatenate(true_labels)\n",
    "pred_labels = np.concatenate(pred_labels)\n",
    "\n",
    "\n",
    "accuracy = accuracy_score(true_labels, pred_labels)\n",
    "precision, recall, f1, _ = precision_recall_fscore_support(true_labels, pred_labels, average='binary')\n",
    "\n",
    "print(f'Accuracy: {accuracy}')\n",
    "print(f'Precision: {precision}')\n",
    "print(f'Recall: {recall}')\n",
    "print(f'F1 Score: {f1}')"
   ]
  }
 ],
 "metadata": {
  "kernelspec": {
   "display_name": "torchpower",
   "language": "python",
   "name": "torchpower"
  },
  "language_info": {
   "codemirror_mode": {
    "name": "ipython",
    "version": 3
   },
   "file_extension": ".py",
   "mimetype": "text/x-python",
   "name": "python",
   "nbconvert_exporter": "python",
   "pygments_lexer": "ipython3",
   "version": "3.8.18"
  }
 },
 "nbformat": 4,
 "nbformat_minor": 5
}
