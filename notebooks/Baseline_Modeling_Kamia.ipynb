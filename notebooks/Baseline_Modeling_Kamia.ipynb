{
 "cells": [
  {
   "cell_type": "markdown",
   "id": "e3941679-8d33-4744-9611-0d43ae60dcc3",
   "metadata": {},
   "source": [
    "# Baseline Modelling, Kaggle Bias Data Set"
   ]
  },
  {
   "cell_type": "markdown",
   "id": "76b712a5-9c05-4cab-babc-a2bc990ada7f",
   "metadata": {},
   "source": [
    "To begin baseline model will be developed only using text features. Other features may be incorporated to identify toxicity in further iterations. "
   ]
  },
  {
   "cell_type": "code",
   "execution_count": 47,
   "id": "ce9780c8-a9b6-42ad-998b-c5372f0f9596",
   "metadata": {},
   "outputs": [],
   "source": [
    "import pandas as pd\n",
    "import matplotlib.pyplot as plt\n",
    "import numpy as np\n",
    "from sklearn.feature_extraction.text import CountVectorizer\n"
   ]
  },
  {
   "cell_type": "code",
   "execution_count": 2,
   "id": "07c4f026-ea1d-4730-9e4f-ea1a169ed1e1",
   "metadata": {},
   "outputs": [],
   "source": [
    "train = pd.read_csv('../data/kaggle_bias/train.csv')"
   ]
  },
  {
   "cell_type": "code",
   "execution_count": 3,
   "id": "43178bb1-b490-4218-88a8-793619356980",
   "metadata": {},
   "outputs": [],
   "source": [
    "test = pd.read_csv('../data/kaggle_bias/test_public_expanded.csv')"
   ]
  },
  {
   "cell_type": "code",
   "execution_count": 4,
   "id": "6c4c6215-62e0-4a68-a462-8eb60ff20693",
   "metadata": {},
   "outputs": [
    {
     "data": {
      "text/plain": [
       "(1804874, 45)"
      ]
     },
     "execution_count": 4,
     "metadata": {},
     "output_type": "execute_result"
    }
   ],
   "source": [
    "train.shape"
   ]
  },
  {
   "cell_type": "code",
   "execution_count": 5,
   "id": "71b15b7a-c77b-429a-94cf-55f56874a826",
   "metadata": {},
   "outputs": [
    {
     "data": {
      "text/plain": [
       "(97320, 45)"
      ]
     },
     "execution_count": 5,
     "metadata": {},
     "output_type": "execute_result"
    }
   ],
   "source": [
    "test.shape"
   ]
  },
  {
   "cell_type": "code",
   "execution_count": 6,
   "id": "21e06a54-9c66-45c6-b9fb-58c9aad16809",
   "metadata": {},
   "outputs": [
    {
     "name": "stdout",
     "output_type": "stream",
     "text": [
      "<class 'pandas.core.frame.DataFrame'>\n",
      "RangeIndex: 1804874 entries, 0 to 1804873\n",
      "Data columns (total 45 columns):\n",
      " #   Column                               Dtype  \n",
      "---  ------                               -----  \n",
      " 0   id                                   int64  \n",
      " 1   target                               float64\n",
      " 2   comment_text                         object \n",
      " 3   severe_toxicity                      float64\n",
      " 4   obscene                              float64\n",
      " 5   identity_attack                      float64\n",
      " 6   insult                               float64\n",
      " 7   threat                               float64\n",
      " 8   asian                                float64\n",
      " 9   atheist                              float64\n",
      " 10  bisexual                             float64\n",
      " 11  black                                float64\n",
      " 12  buddhist                             float64\n",
      " 13  christian                            float64\n",
      " 14  female                               float64\n",
      " 15  heterosexual                         float64\n",
      " 16  hindu                                float64\n",
      " 17  homosexual_gay_or_lesbian            float64\n",
      " 18  intellectual_or_learning_disability  float64\n",
      " 19  jewish                               float64\n",
      " 20  latino                               float64\n",
      " 21  male                                 float64\n",
      " 22  muslim                               float64\n",
      " 23  other_disability                     float64\n",
      " 24  other_gender                         float64\n",
      " 25  other_race_or_ethnicity              float64\n",
      " 26  other_religion                       float64\n",
      " 27  other_sexual_orientation             float64\n",
      " 28  physical_disability                  float64\n",
      " 29  psychiatric_or_mental_illness        float64\n",
      " 30  transgender                          float64\n",
      " 31  white                                float64\n",
      " 32  created_date                         object \n",
      " 33  publication_id                       int64  \n",
      " 34  parent_id                            float64\n",
      " 35  article_id                           int64  \n",
      " 36  rating                               object \n",
      " 37  funny                                int64  \n",
      " 38  wow                                  int64  \n",
      " 39  sad                                  int64  \n",
      " 40  likes                                int64  \n",
      " 41  disagree                             int64  \n",
      " 42  sexual_explicit                      float64\n",
      " 43  identity_annotator_count             int64  \n",
      " 44  toxicity_annotator_count             int64  \n",
      "dtypes: float64(32), int64(10), object(3)\n",
      "memory usage: 619.7+ MB\n"
     ]
    }
   ],
   "source": [
    "train.info()"
   ]
  },
  {
   "cell_type": "code",
   "execution_count": 7,
   "id": "db7312ee-40b1-495f-b192-5c2ab818f3da",
   "metadata": {},
   "outputs": [
    {
     "name": "stdout",
     "output_type": "stream",
     "text": [
      "<class 'pandas.core.frame.DataFrame'>\n",
      "RangeIndex: 97320 entries, 0 to 97319\n",
      "Data columns (total 45 columns):\n",
      " #   Column                               Non-Null Count  Dtype  \n",
      "---  ------                               --------------  -----  \n",
      " 0   id                                   97320 non-null  int64  \n",
      " 1   comment_text                         97320 non-null  object \n",
      " 2   created_date                         97320 non-null  object \n",
      " 3   publication_id                       97320 non-null  int64  \n",
      " 4   parent_id                            54354 non-null  float64\n",
      " 5   article_id                           97320 non-null  int64  \n",
      " 6   rating                               97320 non-null  object \n",
      " 7   funny                                97320 non-null  int64  \n",
      " 8   wow                                  97320 non-null  int64  \n",
      " 9   sad                                  97320 non-null  int64  \n",
      " 10  likes                                97320 non-null  int64  \n",
      " 11  disagree                             97320 non-null  int64  \n",
      " 12  toxicity                             97320 non-null  float64\n",
      " 13  severe_toxicity                      97320 non-null  float64\n",
      " 14  obscene                              97320 non-null  float64\n",
      " 15  sexual_explicit                      97320 non-null  float64\n",
      " 16  identity_attack                      97320 non-null  float64\n",
      " 17  insult                               97320 non-null  float64\n",
      " 18  threat                               97320 non-null  float64\n",
      " 19  identity_annotator_count             97320 non-null  int64  \n",
      " 20  toxicity_annotator_count             97320 non-null  int64  \n",
      " 21  male                                 21293 non-null  float64\n",
      " 22  female                               21293 non-null  float64\n",
      " 23  transgender                          21293 non-null  float64\n",
      " 24  other_gender                         21293 non-null  float64\n",
      " 25  heterosexual                         21293 non-null  float64\n",
      " 26  homosexual_gay_or_lesbian            21293 non-null  float64\n",
      " 27  bisexual                             21293 non-null  float64\n",
      " 28  other_sexual_orientation             21293 non-null  float64\n",
      " 29  christian                            21293 non-null  float64\n",
      " 30  jewish                               21293 non-null  float64\n",
      " 31  muslim                               21293 non-null  float64\n",
      " 32  hindu                                21293 non-null  float64\n",
      " 33  buddhist                             21293 non-null  float64\n",
      " 34  atheist                              21293 non-null  float64\n",
      " 35  other_religion                       21293 non-null  float64\n",
      " 36  black                                21293 non-null  float64\n",
      " 37  white                                21293 non-null  float64\n",
      " 38  asian                                21293 non-null  float64\n",
      " 39  latino                               21293 non-null  float64\n",
      " 40  other_race_or_ethnicity              21293 non-null  float64\n",
      " 41  physical_disability                  21293 non-null  float64\n",
      " 42  intellectual_or_learning_disability  21293 non-null  float64\n",
      " 43  psychiatric_or_mental_illness        21293 non-null  float64\n",
      " 44  other_disability                     21293 non-null  float64\n",
      "dtypes: float64(32), int64(10), object(3)\n",
      "memory usage: 33.4+ MB\n"
     ]
    }
   ],
   "source": [
    "test.info()"
   ]
  },
  {
   "cell_type": "code",
   "execution_count": 8,
   "id": "c1b41818-248b-4ff9-a36c-bc5e50fcf19c",
   "metadata": {},
   "outputs": [
    {
     "data": {
      "text/plain": [
       "id                                           0\n",
       "target                                       0\n",
       "comment_text                                 3\n",
       "severe_toxicity                              0\n",
       "obscene                                      0\n",
       "identity_attack                              0\n",
       "insult                                       0\n",
       "threat                                       0\n",
       "asian                                  1399744\n",
       "atheist                                1399744\n",
       "bisexual                               1399744\n",
       "black                                  1399744\n",
       "buddhist                               1399744\n",
       "christian                              1399744\n",
       "female                                 1399744\n",
       "heterosexual                           1399744\n",
       "hindu                                  1399744\n",
       "homosexual_gay_or_lesbian              1399744\n",
       "intellectual_or_learning_disability    1399744\n",
       "jewish                                 1399744\n",
       "latino                                 1399744\n",
       "male                                   1399744\n",
       "muslim                                 1399744\n",
       "other_disability                       1399744\n",
       "other_gender                           1399744\n",
       "other_race_or_ethnicity                1399744\n",
       "other_religion                         1399744\n",
       "other_sexual_orientation               1399744\n",
       "physical_disability                    1399744\n",
       "psychiatric_or_mental_illness          1399744\n",
       "transgender                            1399744\n",
       "white                                  1399744\n",
       "created_date                                 0\n",
       "publication_id                               0\n",
       "parent_id                               778646\n",
       "article_id                                   0\n",
       "rating                                       0\n",
       "funny                                        0\n",
       "wow                                          0\n",
       "sad                                          0\n",
       "likes                                        0\n",
       "disagree                                     0\n",
       "sexual_explicit                              0\n",
       "identity_annotator_count                     0\n",
       "toxicity_annotator_count                     0\n",
       "dtype: int64"
      ]
     },
     "execution_count": 8,
     "metadata": {},
     "output_type": "execute_result"
    }
   ],
   "source": [
    "train.isnull().sum()"
   ]
  },
  {
   "cell_type": "code",
   "execution_count": 9,
   "id": "f4a83b5a-19eb-4214-81e1-b593a274eb7e",
   "metadata": {
    "scrolled": true
   },
   "outputs": [
    {
     "data": {
      "text/plain": [
       "id                                         0\n",
       "comment_text                               0\n",
       "created_date                               0\n",
       "publication_id                             0\n",
       "parent_id                              42966\n",
       "article_id                                 0\n",
       "rating                                     0\n",
       "funny                                      0\n",
       "wow                                        0\n",
       "sad                                        0\n",
       "likes                                      0\n",
       "disagree                                   0\n",
       "toxicity                                   0\n",
       "severe_toxicity                            0\n",
       "obscene                                    0\n",
       "sexual_explicit                            0\n",
       "identity_attack                            0\n",
       "insult                                     0\n",
       "threat                                     0\n",
       "identity_annotator_count                   0\n",
       "toxicity_annotator_count                   0\n",
       "male                                   76027\n",
       "female                                 76027\n",
       "transgender                            76027\n",
       "other_gender                           76027\n",
       "heterosexual                           76027\n",
       "homosexual_gay_or_lesbian              76027\n",
       "bisexual                               76027\n",
       "other_sexual_orientation               76027\n",
       "christian                              76027\n",
       "jewish                                 76027\n",
       "muslim                                 76027\n",
       "hindu                                  76027\n",
       "buddhist                               76027\n",
       "atheist                                76027\n",
       "other_religion                         76027\n",
       "black                                  76027\n",
       "white                                  76027\n",
       "asian                                  76027\n",
       "latino                                 76027\n",
       "other_race_or_ethnicity                76027\n",
       "physical_disability                    76027\n",
       "intellectual_or_learning_disability    76027\n",
       "psychiatric_or_mental_illness          76027\n",
       "other_disability                       76027\n",
       "dtype: int64"
      ]
     },
     "execution_count": 9,
     "metadata": {},
     "output_type": "execute_result"
    }
   ],
   "source": [
    "test.isnull().sum()"
   ]
  },
  {
   "cell_type": "code",
   "execution_count": 10,
   "id": "f8ddc334-a661-455d-a725-12d1ffde11a5",
   "metadata": {},
   "outputs": [],
   "source": [
    "#nulls in text\n",
    "test.dropna(subset=['comment_text'], inplace=True)\n",
    "train.dropna(subset=['comment_text'], inplace=True)"
   ]
  },
  {
   "cell_type": "markdown",
   "id": "1b864a01-4b42-4ef3-a11c-beb7280ba5d9",
   "metadata": {},
   "source": [
    "### Distribution of Target Variable"
   ]
  },
  {
   "cell_type": "code",
   "execution_count": 11,
   "id": "bd8f7ead-d7ff-42b2-a9ea-629abb022a56",
   "metadata": {},
   "outputs": [
    {
     "data": {
      "text/plain": [
       "target\n",
       "0.000000    1264761\n",
       "0.166667     138501\n",
       "0.200000     107492\n",
       "0.300000      59098\n",
       "0.400000      50013\n",
       "             ...   \n",
       "0.026684          1\n",
       "0.924561          1\n",
       "0.007458          1\n",
       "0.145161          1\n",
       "0.870088          1\n",
       "Name: count, Length: 2913, dtype: int64"
      ]
     },
     "execution_count": 11,
     "metadata": {},
     "output_type": "execute_result"
    }
   ],
   "source": [
    "train['target'].value_counts()"
   ]
  },
  {
   "cell_type": "code",
   "execution_count": 12,
   "id": "c07eb55f-97a7-460c-886c-0220a7a8de4a",
   "metadata": {},
   "outputs": [
    {
     "data": {
      "text/plain": [
       "toxicity\n",
       "0.000000    68725\n",
       "0.166667     7375\n",
       "0.200000     5720\n",
       "0.300000     3071\n",
       "0.400000     2674\n",
       "            ...  \n",
       "0.305556        1\n",
       "0.372549        1\n",
       "0.881579        1\n",
       "0.711538        1\n",
       "0.835319        1\n",
       "Name: count, Length: 1091, dtype: int64"
      ]
     },
     "execution_count": 12,
     "metadata": {},
     "output_type": "execute_result"
    }
   ],
   "source": [
    "test['toxicity'].value_counts()"
   ]
  },
  {
   "cell_type": "code",
   "execution_count": 13,
   "id": "a56f47df-0c4b-4ba5-a090-1c5071bb7127",
   "metadata": {},
   "outputs": [
    {
     "name": "stdout",
     "output_type": "stream",
     "text": [
      "Percentage of 'target' greater than 0 in train set: 29.92513038327947\n",
      "Percentage of 'toxicity' greater than 0 in test set: 29.38244965063707\n"
     ]
    }
   ],
   "source": [
    "#Find proportions of y > 0 in train and test,.mean() applied to boolean val will give proportion of True vals\n",
    "train_percent_tox = (train['target']>0).mean()*100\n",
    "test_percent_tox = (test['toxicity']>0).mean()*100\n",
    "\n",
    "print(\"Percentage of 'target' greater than 0 in train set:\", train_percent_tox)\n",
    "print(\"Percentage of 'toxicity' greater than 0 in test set:\", test_percent_tox)"
   ]
  },
  {
   "cell_type": "code",
   "execution_count": 14,
   "id": "3f628043-6f97-4015-b690-3ec31b3e4588",
   "metadata": {},
   "outputs": [
    {
     "data": {
      "image/png": "[encoded data removed]",
      "text/plain": [
       "<Figure size 640x480 with 1 Axes>"
      ]
     },
     "metadata": {},
     "output_type": "display_data"
    }
   ],
   "source": [
    "class_distribution = train['target'].value_counts().to_dict()\n",
    "overall_count = train['target'].value_counts(normalize=True)*100\n",
    "\n",
    "plt.bar(overall_count.index, overall_count.values)\n",
    "plt.title('Overall Distribution Target Train')\n",
    "plt.xlabel('target')\n",
    "plt.ylabel('Percentage of target') \n",
    "plt.xlim(0, max(overall_count.index))\n",
    "\n",
    "plt.show()"
   ]
  },
  {
   "cell_type": "markdown",
   "id": "d16103c9-3554-4545-a307-ebbfe905724a",
   "metadata": {},
   "source": [
    "There is a imbalance of comments labeled as toxic, and comments with a 0 value for toxicity. About 70% of the data is where y <= 0.4. This may possibly be addressed with weighted matrix, or methods of resampling. "
   ]
  },
  {
   "cell_type": "code",
   "execution_count": 15,
   "id": "4fa8dc0c-b27c-4902-858f-37eb8e35dce8",
   "metadata": {},
   "outputs": [
    {
     "data": {
      "text/plain": [
       "0.10301746429481355"
      ]
     },
     "execution_count": 15,
     "metadata": {},
     "output_type": "execute_result"
    }
   ],
   "source": [
    "train['target'].mean()"
   ]
  },
  {
   "cell_type": "code",
   "execution_count": 16,
   "id": "0f83a9f5-5a5b-4e9b-aeb1-0d4ab92a2e57",
   "metadata": {},
   "outputs": [
    {
     "data": {
      "text/plain": [
       "0.10130833537642256"
      ]
     },
     "execution_count": 16,
     "metadata": {},
     "output_type": "execute_result"
    }
   ],
   "source": [
    "test['toxicity'].mean()"
   ]
  },
  {
   "cell_type": "code",
   "execution_count": 17,
   "id": "c152796f-8645-4395-96a3-2f68cadc4eeb",
   "metadata": {},
   "outputs": [],
   "source": [
    "#create binary column for baseline logistic regression: \n",
    "train['binary_target'] = (train['target']>0.5).astype(int)\n",
    "test['binary_target'] = (test['toxicity']>0.5).astype(int)"
   ]
  },
  {
   "cell_type": "code",
   "execution_count": 18,
   "id": "53765466-d4b0-4f24-8f9e-5970678b4275",
   "metadata": {
    "scrolled": true
   },
   "outputs": [
    {
     "data": {
      "image/png": "[encoded data removed]",
      "text/plain": [
       "<Figure size 640x480 with 1 Axes>"
      ]
     },
     "metadata": {},
     "output_type": "display_data"
    },
    {
     "name": "stdout",
     "output_type": "stream",
     "text": [
      "The absolute class distribution is: {0: 1698433, 1: 106438}\n",
      "Count for score 1: 106438\n",
      "Count for score 0: 1698433\n",
      "\n",
      "The relative (%) class distribution is: \n",
      "binary_target\n",
      "0    94.102736\n",
      "1     5.897264\n",
      "Name: proportion, dtype: float64\n"
     ]
    }
   ],
   "source": [
    "#distribution of target in train and test sets: \n",
    "class_distribution = train['binary_target'].value_counts().to_dict()\n",
    "overall_count = train['binary_target'].value_counts(normalize=True)*100\n",
    "\n",
    "plt.bar(overall_count.index, overall_count.values)\n",
    "plt.title('Overall Distribution Binary Target Train')\n",
    "plt.xlabel('target')\n",
    "plt.ylabel('Percentage of target') \n",
    "\n",
    "plt.tight_layout()\n",
    "plt.show()\n",
    "print(f'The absolute class distribution is:', class_distribution)\n",
    "print(f'Count for score 1:', class_distribution[1])\n",
    "print(f'Count for score 0:', class_distribution[0])\n",
    "print('\\nThe relative (%) class distribution is:', f'\\n{overall_count}')"
   ]
  },
  {
   "cell_type": "code",
   "execution_count": 19,
   "id": "faef9939-f9c7-4cd5-b848-6a4f6cd1844f",
   "metadata": {},
   "outputs": [
    {
     "data": {
      "image/png": "[encoded data removed]",
      "text/plain": [
       "<Figure size 640x480 with 1 Axes>"
      ]
     },
     "metadata": {},
     "output_type": "display_data"
    },
    {
     "name": "stdout",
     "output_type": "stream",
     "text": [
      "The absolute class distribution is: {0: 91671, 1: 5649}\n",
      "Count for score 1: 5649\n",
      "Count for score 0: 91671\n",
      "\n",
      "The relative (%) class distribution is: \n",
      "binary_target\n",
      "0    94.195438\n",
      "1     5.804562\n",
      "Name: proportion, dtype: float64\n"
     ]
    }
   ],
   "source": [
    "class_distribution = test['binary_target'].value_counts().to_dict()\n",
    "overall_count = test['binary_target'].value_counts(normalize=True)*100\n",
    "\n",
    "plt.bar(overall_count.index, overall_count.values)\n",
    "plt.title('Overall Distribution Binary Target Test')\n",
    "plt.xlabel('target')\n",
    "plt.ylabel('Percentage of target') \n",
    "\n",
    "plt.tight_layout()\n",
    "plt.show()\n",
    "print(f'The absolute class distribution is:', class_distribution)\n",
    "print(f'Count for score 1:', class_distribution[1])\n",
    "print(f'Count for score 0:', class_distribution[0])\n",
    "print('\\nThe relative (%) class distribution is:', f'\\n{overall_count}')"
   ]
  },
  {
   "cell_type": "markdown",
   "id": "aa0d527b-7a7d-4ea2-9004-5ac2999845ba",
   "metadata": {},
   "source": [
    "## Vectorization of Text"
   ]
  },
  {
   "cell_type": "code",
   "execution_count": 20,
   "id": "73b752ab-ed4a-4cda-ba89-8c331c4f57c4",
   "metadata": {},
   "outputs": [],
   "source": [
    "from nltk.stem import PorterStemmer\n",
    "from nltk.corpus import stopwords\n",
    "import string\n",
    "import time"
   ]
  },
  {
   "cell_type": "markdown",
   "id": "c734d68e-c701-4df7-8374-472ad5f3588d",
   "metadata": {},
   "source": [
    "**Define tokenizer as function**"
   ]
  },
  {
   "cell_type": "code",
   "execution_count": 29,
   "id": "01c5d7f2-58a9-49c5-9863-1ae86b000923",
   "metadata": {},
   "outputs": [],
   "source": [
    "def my_tokenizer(document, lemmatization=False, stemming=False, custom_stopwords=None, include_stopwords=None):\n",
    "    '''\n",
    "    Function for use in CountVectorizer that tokenizes the document\n",
    "    '''\n",
    "    # initialize stop words set within function, changes to stop words stay within function.\n",
    "    stop_words = set(stopwords.words('english'))\n",
    "\n",
    "    # remove punctuation and split on spaces, remove /n\n",
    "    translator = str.maketrans(\"\", \"\", string.punctuation)\n",
    "    document = document.translate(translator).replace('\\n', ' ')\n",
    "    tokenized_document = document.lower().split()\n",
    "\n",
    "    # handle custom stopwords\n",
    "    #use .discard() to remove certain words from stop words list\n",
    "    if custom_stopwords is not None:\n",
    "        # remove custom stop words from stop_words set\n",
    "        for word_to_remove in custom_stopwords:\n",
    "            stop_words.discard(word_to_remove)\n",
    "            \n",
    "    # include certain words if specified\n",
    "    # use .update() to add a word to the stop words list\n",
    "    if include_stopwords is not None:\n",
    "        stop_words.update(include_stopwords)\n",
    "\n",
    "    # remove stopwords before stemming or lemmatization\n",
    "    tokenized_document = [word for word in tokenized_document if word not in stop_words]\n",
    "\n",
    "    if stemming:\n",
    "        stemmed_tokens_list = [PorterStemmer().stem(word) for word in tokenized_document]\n",
    "        return stemmed_tokens_list\n",
    "\n",
    "    if lemmatization:\n",
    "        lemmatized_tokens_list = [WordNetLemmatizer().lemmatize(word) for word in tokenized_document]\n",
    "        return lemmatized_tokens_list\n",
    "        \n",
    "    return tokenized_document\n"
   ]
  },
  {
   "cell_type": "markdown",
   "id": "3123d5cc-8931-48b0-96b5-d9118fda4d38",
   "metadata": {},
   "source": [
    "**Baseline Vectorization** \n",
    "\n",
    "To begin no stemming or lemmatization will be performed, stop words will be removed as well as punctuation. A sample of the train set will be used for computational efficiency. The sample will be a random 20% sample with same distribution as original data set. \n",
    "- Min_df = 10 (features must appear a min of 10 times)\n",
    "- Max_features = 3000 (top 3000 features by term frequency)"
   ]
  },
  {
   "cell_type": "code",
   "execution_count": 22,
   "id": "f5e98ad2-bcc5-4993-9fe6-6dfe3114cc18",
   "metadata": {},
   "outputs": [],
   "source": [
    "#take a sample from the train data set, take stratified sample to maintain distribution. \n",
    "sampled_train = train.groupby('target', group_keys=False).apply(lambda x: x.sample(frac=0.2))\n"
   ]
  },
  {
   "cell_type": "code",
   "execution_count": 23,
   "id": "bc1490c7-a765-4047-976b-ff93ccf88bd2",
   "metadata": {},
   "outputs": [
    {
     "data": {
      "text/html": [
       "<div>\n",
       "<style scoped>\n",
       "    .dataframe tbody tr th:only-of-type {\n",
       "        vertical-align: middle;\n",
       "    }\n",
       "\n",
       "    .dataframe tbody tr th {\n",
       "        vertical-align: top;\n",
       "    }\n",
       "\n",
       "    .dataframe thead th {\n",
       "        text-align: right;\n",
       "    }\n",
       "</style>\n",
       "<table border=\"1\" class=\"dataframe\">\n",
       "  <thead>\n",
       "    <tr style=\"text-align: right;\">\n",
       "      <th></th>\n",
       "      <th>id</th>\n",
       "      <th>target</th>\n",
       "      <th>comment_text</th>\n",
       "      <th>severe_toxicity</th>\n",
       "      <th>obscene</th>\n",
       "      <th>identity_attack</th>\n",
       "      <th>insult</th>\n",
       "      <th>threat</th>\n",
       "      <th>asian</th>\n",
       "      <th>atheist</th>\n",
       "      <th>...</th>\n",
       "      <th>rating</th>\n",
       "      <th>funny</th>\n",
       "      <th>wow</th>\n",
       "      <th>sad</th>\n",
       "      <th>likes</th>\n",
       "      <th>disagree</th>\n",
       "      <th>sexual_explicit</th>\n",
       "      <th>identity_annotator_count</th>\n",
       "      <th>toxicity_annotator_count</th>\n",
       "      <th>binary_target</th>\n",
       "    </tr>\n",
       "  </thead>\n",
       "  <tbody>\n",
       "    <tr>\n",
       "      <th>1429172</th>\n",
       "      <td>5866039</td>\n",
       "      <td>0.0</td>\n",
       "      <td>Bellevue is lucky to have a candidate like Ste...</td>\n",
       "      <td>0.0</td>\n",
       "      <td>0.0</td>\n",
       "      <td>0.0</td>\n",
       "      <td>0.0</td>\n",
       "      <td>0.0</td>\n",
       "      <td>NaN</td>\n",
       "      <td>NaN</td>\n",
       "      <td>...</td>\n",
       "      <td>approved</td>\n",
       "      <td>0</td>\n",
       "      <td>0</td>\n",
       "      <td>0</td>\n",
       "      <td>2</td>\n",
       "      <td>0</td>\n",
       "      <td>0.0</td>\n",
       "      <td>0</td>\n",
       "      <td>4</td>\n",
       "      <td>0</td>\n",
       "    </tr>\n",
       "    <tr>\n",
       "      <th>151655</th>\n",
       "      <td>427638</td>\n",
       "      <td>0.0</td>\n",
       "      <td>And where do you extract your news from, roldrik?</td>\n",
       "      <td>0.0</td>\n",
       "      <td>0.0</td>\n",
       "      <td>0.0</td>\n",
       "      <td>0.0</td>\n",
       "      <td>0.0</td>\n",
       "      <td>NaN</td>\n",
       "      <td>NaN</td>\n",
       "      <td>...</td>\n",
       "      <td>approved</td>\n",
       "      <td>0</td>\n",
       "      <td>0</td>\n",
       "      <td>0</td>\n",
       "      <td>0</td>\n",
       "      <td>0</td>\n",
       "      <td>0.0</td>\n",
       "      <td>0</td>\n",
       "      <td>4</td>\n",
       "      <td>0</td>\n",
       "    </tr>\n",
       "  </tbody>\n",
       "</table>\n",
       "<p>2 rows × 46 columns</p>\n",
       "</div>"
      ],
      "text/plain": [
       "              id  target                                       comment_text  \\\n",
       "1429172  5866039     0.0  Bellevue is lucky to have a candidate like Ste...   \n",
       "151655    427638     0.0  And where do you extract your news from, roldrik?   \n",
       "\n",
       "         severe_toxicity  obscene  identity_attack  insult  threat  asian  \\\n",
       "1429172              0.0      0.0              0.0     0.0     0.0    NaN   \n",
       "151655               0.0      0.0              0.0     0.0     0.0    NaN   \n",
       "\n",
       "         atheist  ...    rating  funny  wow  sad  likes  disagree  \\\n",
       "1429172      NaN  ...  approved      0    0    0      2         0   \n",
       "151655       NaN  ...  approved      0    0    0      0         0   \n",
       "\n",
       "         sexual_explicit  identity_annotator_count  toxicity_annotator_count  \\\n",
       "1429172              0.0                         0                         4   \n",
       "151655               0.0                         0                         4   \n",
       "\n",
       "         binary_target  \n",
       "1429172              0  \n",
       "151655               0  \n",
       "\n",
       "[2 rows x 46 columns]"
      ]
     },
     "execution_count": 23,
     "metadata": {},
     "output_type": "execute_result"
    }
   ],
   "source": [
    "sampled_train.head(2)"
   ]
  },
  {
   "cell_type": "code",
   "execution_count": 24,
   "id": "48033ffa-b735-462e-8575-7a4b85342dd1",
   "metadata": {},
   "outputs": [],
   "source": [
    "#put tokenizer params into dictionary \n",
    "tokenizer_params_default= {'lemmatization':False,\n",
    "                           'stemming':False,\n",
    "                           'custom_stopwords':None,\n",
    "                           'include_stopwords':None}"
   ]
  },
  {
   "cell_type": "code",
   "execution_count": 25,
   "id": "e92be638-5fe5-48c4-a717-2d01534b9b9a",
   "metadata": {},
   "outputs": [
    {
     "name": "stdout",
     "output_type": "stream",
     "text": [
      "object\n",
      "object\n"
     ]
    }
   ],
   "source": [
    "#check data type of comment text\n",
    "print(train['comment_text'].dtype)\n",
    "print(test['comment_text'].dtype)"
   ]
  },
  {
   "cell_type": "code",
   "execution_count": 26,
   "id": "a02de253-b08f-44be-9faf-f9f0250b899c",
   "metadata": {},
   "outputs": [],
   "source": [
    "#Define X_train and X_test for vectorization\n",
    "X_train = sampled_train['comment_text']\n",
    "X_test = test['comment_text']"
   ]
  },
  {
   "cell_type": "code",
   "execution_count": 85,
   "id": "4c729f12-73e4-4371-b3a9-22feb70c7f1e",
   "metadata": {},
   "outputs": [],
   "source": [
    "#instantiate count vectorizer\n",
    "vectorize_text = CountVectorizer(tokenizer= lambda x:my_tokenizer(x,**tokenizer_params_default),\n",
    "                                             max_features =3000,\n",
    "                                             min_df =10\n",
    "                                            )"
   ]
  },
  {
   "cell_type": "code",
   "execution_count": 86,
   "id": "acbe280f-cb21-4c3a-a4f5-0bb5ea72af74",
   "metadata": {},
   "outputs": [
    {
     "name": "stdout",
     "output_type": "stream",
     "text": [
      "Vectorization took 20.68 seconds\n"
     ]
    }
   ],
   "source": [
    "#fit and transform X_train, use .fit_transform() method\n",
    "start_time = time.time()  #start timer\n",
    "\n",
    "X_train_transformed = vectorize_text.fit_transform(X_train)\n",
    "\n",
    "end_time = time.time()  #end timer\n",
    "elapsed_time = end_time - start_time\n",
    "print(f\"Vectorization took {elapsed_time:.2f} seconds\") \n"
   ]
  },
  {
   "cell_type": "code",
   "execution_count": 87,
   "id": "16b71d12-7aff-4fc3-a1ce-782c1aa5c0ec",
   "metadata": {},
   "outputs": [
    {
     "name": "stdout",
     "output_type": "stream",
     "text": [
      "Vectorization took 5.23 seconds\n"
     ]
    }
   ],
   "source": [
    "start_time = time.time()  #start timer\n",
    "\n",
    "X_test_transformed = vectorize_text.transform(X_test)\n",
    "\n",
    "end_time = time.time()  #end timer\n",
    "elapsed_time = end_time - start_time\n",
    "print(f\"Vectorization took {elapsed_time:.2f} seconds\") \n"
   ]
  },
  {
   "cell_type": "markdown",
   "id": "8724426f-f14a-473d-9aea-4828a9b70cad",
   "metadata": {},
   "source": [
    "As Vectorization of this sample size and max features took 20 Seconds Vectorization will be done in a pipeline with different amounts of max features to optimize Linear and Logistic Regression for first iteration. A second iteration may be done on a larger sample size of data depending on computational time. "
   ]
  },
  {
   "cell_type": "markdown",
   "id": "6d3aeda1-5aa5-4f8e-a3a6-ef0860957577",
   "metadata": {},
   "source": [
    "## Logistic and Linear Regression (Baseline Models)"
   ]
  },
  {
   "cell_type": "code",
   "execution_count": 109,
   "id": "ab21dd47-5660-4026-ac5b-f3e351778fc5",
   "metadata": {},
   "outputs": [],
   "source": [
    "from sklearn.decomposition import TruncatedSVD\n",
    "from sklearn.linear_model import LinearRegression\n",
    "from sklearn.metrics import mean_squared_error\n",
    "from sklearn.metrics import mean_absolute_error\n",
    "from sklearn.metrics import r2_score\n"
   ]
  },
  {
   "cell_type": "code",
   "execution_count": 134,
   "id": "47e12f53-3134-47ae-a40f-6ffac85c6653",
   "metadata": {},
   "outputs": [],
   "source": [
    "results_ln_list =[]"
   ]
  },
  {
   "cell_type": "markdown",
   "id": "2b167a43-4f07-4387-a31f-dfff80200cd7",
   "metadata": {},
   "source": [
    "**X_train, X_test, y_train, y_test**"
   ]
  },
  {
   "cell_type": "code",
   "execution_count": 82,
   "id": "5f4e227d-4358-4d58-bc0d-e9bb8f8a7dad",
   "metadata": {},
   "outputs": [],
   "source": [
    "#X_train, X_test defined above in vectorizer\n",
    "#define y_train and y_test\n",
    "y_train = sampled_train['target']\n",
    "y_test= test['toxicity']\n",
    "\n",
    "y_train_log = sampled_train['binary_target']\n",
    "y_test_log = test['binary_target']"
   ]
  },
  {
   "cell_type": "markdown",
   "id": "aa34e8a1-f617-446f-b56b-fb5a3773b617",
   "metadata": {},
   "source": [
    "### Linear Regression"
   ]
  },
  {
   "cell_type": "code",
   "execution_count": 101,
   "id": "5d40e391-b270-4131-93b1-30385f6f5b08",
   "metadata": {},
   "outputs": [],
   "source": [
    "#Use LSA to reduce dimensionality\n",
    "lsa = TruncatedSVD(n_components=300)\n",
    "X_train_lsa = lsa.fit_transform(X_train_transformed)\n",
    "X_test_lsa = lsa.transform(X_test_transformed)"
   ]
  },
  {
   "cell_type": "code",
   "execution_count": 102,
   "id": "5527b0c1-0d7a-43fd-a201-45f24b58f24d",
   "metadata": {},
   "outputs": [
    {
     "name": "stdout",
     "output_type": "stream",
     "text": [
      "Component0: people, would, one, like, dont\n",
      "Component1: would, trump, us, president, one\n",
      "Component2: trump, people, president, us, obama\n",
      "Component3: would, people, trump, president, white\n",
      "Component4: us, tax, government, people, state\n",
      "Component5: one, us, people, would, many\n",
      "Component6: tax, one, trump, state, money\n",
      "Component7: dont, get, think, know, want\n",
      "Component8: dont, tax, one, us, income\n",
      "Component9: get, one, us, would, like\n",
      "Component10: state, government, oil, right, alaska\n",
      "Component11: time, years, state, oil, dont\n",
      "Component12: time, right, tax, good, think\n",
      "Component13: think, good, state, tax, oil\n",
      "Component14: right, know, tax, even, many\n",
      "Component15: years, good, know, even, year\n",
      "Component16: good, many, know, money, make\n",
      "Component17: know, even, money, think, much\n",
      "Component18: know, government, good, years, get\n",
      "Component19: right, money, know, many, years\n",
      "Component20: oil, canada, gas, alaska, see\n",
      "Component21: even, money, right, good, many\n",
      "Component22: need, care, canada, health, know\n",
      "Component23: see, care, much, health, insurance\n",
      "Component24: canada, money, state, canadian, much\n",
      "Component25: much, make, could, dont, better\n",
      "Component26: could, well, care, health, canada\n",
      "Component27: make, see, need, know, state\n",
      "Component28: want, canada, care, going, know\n",
      "Component29: women, want, church, also, money\n",
      "Component30: well, even, party, going, im\n",
      "Component31: way, women, pay, well, trump\n",
      "Component32: want, could, go, state, much\n",
      "Component33: going, im, go, say, said\n",
      "Component34: public, also, new, year, city\n",
      "Component35: go, back, women, year, make\n",
      "Component36: going, women, also, year, new\n",
      "Component37: going, law, also, said, president\n",
      "Component38: going, public, im, women, law\n",
      "Component39: also, im, go, sure, money\n",
      "Component40: law, year, every, im, president\n",
      "Component41: pay, never, work, law, taxes\n",
      "Component42: say, pay, party, vote, canada\n",
      "Component43: new, work, pay, say, world\n",
      "Component44: never, new, church, law, canada\n",
      "Component45: work, said, say, take, tax\n",
      "Component46: said, women, news, new, white\n",
      "Component47: really, work, news, take, media\n",
      "Component48: said, church, world, god, catholic\n",
      "Component49: take, back, white, party, may\n",
      "Component50: news, work, thats, media, fake\n",
      "Component51: news, president, church, back, say\n",
      "Component52: first, back, thats, still, two\n",
      "Component53: back, white, party, every, country\n",
      "Component54: first, white, go, going, black\n",
      "Component55: thats, church, white, new, every\n",
      "Component56: still, may, president, white, nothing\n",
      "Component57: every, city, may, day, president\n",
      "Component58: nothing, change, white, year, president\n",
      "Component59: nothing, country, first, better, still\n",
      "Component60: city, country, party, church, first\n",
      "Component61: country, may, another, year, better\n",
      "Component62: party, every, may, president, thats\n",
      "Component63: better, city, cant, news, church\n",
      "Component64: change, climate, country, first, cant\n",
      "Component65: school, cant, use, kids, high\n",
      "Component66: cant, doesnt, believe, someone, year\n",
      "Component67: may, real, cant, life, news\n",
      "Component68: another, life, change, city, climate\n",
      "Component69: use, life, god, news, year\n",
      "Component70: cant, may, another, use, system\n",
      "Component71: doesnt, city, system, rail, school\n",
      "Component72: problem, another, doesnt, real, use\n",
      "Component73: problem, system, real, free, another\n",
      "Component74: free, doesnt, believe, another, million\n",
      "Component75: article, real, use, read, doesnt\n",
      "Component76: business, free, great, doesnt, long\n",
      "Component77: believe, use, business, city, school\n",
      "Component78: system, business, believe, two, alaska\n",
      "Component79: war, support, states, believe, american\n",
      "Component80: system, life, point, left, fact\n",
      "Component81: business, someone, support, person, world\n",
      "Component82: problem, great, thing, something, actually\n",
      "Component83: something, real, didnt, someone, thing\n",
      "Component84: didnt, business, article, read, system\n",
      "Component85: point, made, great, party, news\n",
      "Component86: two, long, life, thing, actually\n",
      "Component87: thing, something, canadian, mr, oil\n",
      "Component88: long, mr, day, support, made\n",
      "Component89: thing, support, alaska, didnt, free\n",
      "Component90: states, thing, made, alaska, mr\n",
      "Component91: thing, long, police, point, last\n",
      "Component92: point, must, left, thing, something\n",
      "Component93: day, point, actually, states, maybe\n",
      "Component94: day, made, thing, support, article\n",
      "Component95: actually, 2, support, things, 1\n",
      "Component96: keep, fact, god, must, youre\n",
      "Component97: keep, made, actually, thing, police\n",
      "Component98: since, war, day, last, alaska\n",
      "Component99: things, day, yes, thing, fact\n",
      "Component100: taxes, things, look, made, income\n",
      "Component101: look, youre, life, american, maybe\n",
      "Component102: someone, actually, god, thing, person\n",
      "Component103: must, look, alaska, come, yes\n",
      "Component104: since, mr, support, news, must\n",
      "Component105: must, something, mr, actually, come\n",
      "Component106: god, something, police, man, maybe\n",
      "Component107: look, things, god, mr, anything\n",
      "Component108: maybe, youre, political, mr, come\n",
      "Component109: youre, jobs, police, god, canadian\n",
      "Component110: yes, someone, fact, liberals, liberal\n",
      "Component111: war, fact, last, far, maybe\n",
      "Component112: must, political, taxes, got, two\n",
      "Component113: political, yes, without, youre, power\n",
      "Component114: without, anything, look, youre, great\n",
      "Component115: yes, since, maybe, look, political\n",
      "Component116: come, always, without, police, million\n",
      "Component117: come, far, anything, anyone, less\n",
      "Component118: person, come, anything, canadian, got\n",
      "Component119: last, without, canadian, got, far\n",
      "Component120: person, political, since, keep, left\n",
      "Component121: media, big, anything, person, far\n",
      "Component122: media, big, got, come, job\n",
      "Component123: maybe, american, anything, man, left\n",
      "Component124: big, obama, news, since, little\n",
      "Component125: give, bad, enough, man, jobs\n",
      "Component126: sure, million, give, little, find\n",
      "Component127: bad, anything, anyone, comment, big\n",
      "Component128: bad, sure, give, god, far\n",
      "Component129: sure, man, read, bad, little\n",
      "Component130: less, sure, without, bad, little\n",
      "Component131: give, power, rights, obama, little\n",
      "Component132: american, give, power, enough, stop\n",
      "Component133: might, little, article, help, got\n",
      "Component134: give, power, read, ever, police\n",
      "Component135: part, bad, rights, far, family\n",
      "Component136: enough, give, wrong, man, maybe\n",
      "Component137: gun, give, enough, million, city\n",
      "Component138: anyone, insurance, give, everyone, man\n",
      "Component139: far, anything, family, obama, insurance\n",
      "Component140: little, police, wrong, million, income\n",
      "Component141: part, little, stop, put, anything\n",
      "Component142: put, american, wrong, income, less\n",
      "Component143: part, less, ever, enough, best\n",
      "Component144: power, million, comment, comments, man\n",
      "Component145: put, income, million, read, anything\n",
      "Component146: income, help, done, read, stop\n",
      "Component147: ever, stop, income, wrong, little\n",
      "Component148: might, anyone, income, always, far\n",
      "Component149: wrong, might, part, done, obama\n",
      "Component150: help, ever, might, jobs, wrong\n",
      "Component151: find, less, stop, part, wrong\n",
      "Component152: lot, wrong, ever, gun, canadian\n",
      "Component153: help, done, enough, rights, sure\n",
      "Component154: rights, lot, hes, rail, income\n",
      "Component155: done, used, isnt, trudeau, stop\n",
      "Component156: china, rail, agree, gun, best\n",
      "Component157: federal, used, house, around, hes\n",
      "Component158: ever, federal, china, done, less\n",
      "Component159: agree, stop, best, around, done\n",
      "Component160: etc, hes, election, next, insurance\n",
      "Component161: agree, issue, isnt, others, ever\n",
      "Component162: hes, agree, clinton, hillary, needs\n",
      "Component163: used, agree, hes, case, family\n",
      "Component164: agree, used, isnt, federal, rights\n",
      "Component165: job, etc, lot, stop, american\n",
      "Component166: around, others, job, federal, china\n",
      "Component167: old, needs, issue, live, everyone\n",
      "Component168: around, children, rights, agree, home\n",
      "Component169: old, agree, etc, around, help\n",
      "Component170: old, others, needs, cost, home\n",
      "Component171: family, needs, around, jobs, rights\n",
      "Component172: needs, already, liberal, everyone, let\n",
      "Component173: trudeau, case, around, job, needs\n",
      "Component174: already, home, kids, rail, others\n",
      "Component175: let, home, game, already, kids\n",
      "Component176: cost, jobs, kids, everyone, issue\n",
      "Component177: court, away, case, others, everyone\n",
      "Component178: rail, jobs, house, health, insurance\n",
      "Component179: everyone, story, home, different, else\n",
      "Component180: away, story, everyone, least, per\n",
      "Component181: least, live, game, team, story\n",
      "Component182: home, let, kids, america, case\n",
      "Component183: story, democrats, republicans, true, needs\n",
      "Component184: least, america, story, needs, federal\n",
      "Component185: least, comment, yet, water, home\n",
      "Component186: comment, story, true, kids, next\n",
      "Component187: yet, comment, poor, class, kids\n",
      "Component188: water, america, per, live, trudeau\n",
      "Component189: kids, poor, story, water, american\n",
      "Component190: comments, water, liberal, post, course\n",
      "Component191: kids, different, least, history, house\n",
      "Component192: yet, next, place, military, comments\n",
      "Component193: place, seems, water, makes, history\n",
      "Component194: question, next, course, post, seems\n",
      "Component195: different, history, place, yet, comment\n",
      "Component196: times, post, tell, please, getting\n",
      "Component197: liberal, different, question, story, end\n",
      "Component198: military, different, seems, true, hawaii\n",
      "Component199: post, military, course, makes, liberals\n",
      "Component200: question, military, hawaii, place, america\n",
      "Component201: course, times, true, liberal, market\n",
      "Component202: seems, liberal, end, history, post\n",
      "Component203: course, getting, liberals, different, next\n",
      "Component204: getting, history, end, hawaii, military\n",
      "Component205: hawaii, history, per, story, illegal\n",
      "Component206: end, true, post, getting, water\n",
      "Component207: matter, black, countries, course, house\n",
      "Component208: hawaii, end, times, love, tell\n",
      "Component209: high, hope, poor, matter, history\n",
      "Component210: hope, post, lets, understand, love\n",
      "Component211: times, making, love, ive, getting\n",
      "Component212: making, understand, end, water, course\n",
      "Component213: understand, military, per, history, private\n",
      "Component214: love, mean, making, means, seems\n",
      "Component215: hope, land, bill, countries, care\n",
      "Component216: trying, hawaii, hope, making, hate\n",
      "Component217: trying, court, love, water, private\n",
      "Component218: court, health, trying, times, next\n",
      "Component219: mean, bill, times, means, evidence\n",
      "Component220: military, run, please, mean, hope\n",
      "Component221: private, billion, illegal, poor, guy\n",
      "Component222: countries, name, understand, guy, making\n",
      "Component223: poor, private, run, understand, try\n",
      "Component224: bill, tell, guy, truth, case\n",
      "Component225: mean, countries, truth, tell, hawaii\n",
      "Component226: reason, run, facts, mean, try\n",
      "Component227: gas, case, countries, plan, line\n",
      "Component228: guy, gas, plan, either, canadians\n",
      "Component229: name, call, try, either, facts\n",
      "Component230: guy, run, paid, try, social\n",
      "Component231: reason, tell, name, plan, private\n",
      "Component232: canadians, reason, private, americans, saying\n",
      "Component233: either, russia, try, ive, bill\n",
      "Component234: plan, name, run, probably, wont\n",
      "Component235: hard, run, bill, private, gas\n",
      "Component236: try, probably, wont, hate, national\n",
      "Component237: run, matter, saying, times, guy\n",
      "Component238: plan, hate, crime, hard, guy\n",
      "Component239: saying, either, says, wont, trumps\n",
      "Component240: national, ive, hate, run, crime\n",
      "Component241: name, matter, hard, countries, evidence\n",
      "Component242: wont, paid, hard, mean, hate\n",
      "Component243: men, crime, means, hate, lets\n",
      "Component244: start, lets, wont, matter, trumps\n",
      "Component245: saying, men, perhaps, rather, feel\n",
      "Component246: trumps, feel, americans, republican, laws\n",
      "Component247: call, plan, called, countries, men\n",
      "Component248: north, korea, rate, truth, wont\n",
      "Component249: local, truth, republican, men, national\n",
      "Component250: call, control, rather, called, wont\n",
      "Component251: saying, feel, men, hard, line\n",
      "Component252: show, instead, tell, trumps, opinion\n",
      "Component253: paid, thought, means, control, americans\n",
      "Component254: based, laws, evidence, bc, republican\n",
      "Component255: instead, americans, wont, social, thought\n",
      "Component256: billion, lets, ive, market, north\n",
      "Component257: based, democrats, thought, americans, trumps\n",
      "Component258: thought, perhaps, human, local, matter\n",
      "Component259: lets, local, russia, saying, car\n",
      "Component260: thought, feel, means, idea, start\n",
      "Component261: laws, men, truth, simply, show\n",
      "Component262: truth, feel, rather, school, economy\n",
      "Component263: says, today, show, land, feel\n",
      "Component264: today, feel, lets, citizens, education\n",
      "Component265: local, says, north, instead, living\n",
      "Component266: show, control, human, laws, hard\n",
      "Component267: control, office, thought, rather, costs\n",
      "Component268: rather, line, evidence, crime, laws\n",
      "Component269: control, simply, today, trumps, number\n",
      "Component270: education, opinion, called, start, bc\n",
      "Component271: line, human, illegal, rate, call\n",
      "Component272: idea, billion, social, land, call\n",
      "Component273: deal, simply, policy, number, foreign\n",
      "Component274: days, issues, idea, costs, evidence\n",
      "Component275: majority, catholic, means, though, bc\n",
      "Component276: called, simply, theyre, majority, oh\n",
      "Component277: costs, jesus, today, local, americans\n",
      "Component278: based, today, billion, kind, control\n",
      "Component279: property, called, facts, trade, using\n",
      "Component280: group, facts, small, idea, though\n",
      "Component281: idea, homeless, number, saying, lost\n",
      "Component282: hard, act, cannot, called, majority\n",
      "Component283: policy, become, small, oh, community\n",
      "Component284: property, past, cannot, 3, industry\n",
      "Component285: community, opinion, likely, using, evidence\n",
      "Component286: else, number, oh, everything, hate\n",
      "Component287: policy, else, catholic, majority, order\n",
      "Component288: office, small, days, opinion, become\n",
      "Component289: act, folks, likely, lost, cannot\n",
      "Component290: given, cannot, young, citizens, theres\n",
      "Component291: likely, bc, lost, donald, personal\n",
      "Component292: citizens, however, lost, buy, become\n",
      "Component293: past, living, based, issues, likely\n",
      "Component294: likely, issues, service, clinton, citizens\n",
      "Component295: 1, information, cannot, gets, side\n",
      "Component296: theres, days, cannot, guess, local\n",
      "Component297: hillary, paying, small, however, racist\n",
      "Component298: folks, though, costs, service, donald\n",
      "Component299: remember, using, rest, lives, everything\n"
     ]
    }
   ],
   "source": [
    "#get feature names out\n",
    "feature_names = vectorize_text.get_feature_names_out()\n",
    "\n",
    "#create mapping of feature names\n",
    "component_mapping = {}\n",
    "for i, component in enumerate(lsa.components_):\n",
    "    top_words_idx = component.argsort()[:-6:-1] #get index of top 5 words\n",
    "    top_words = [feature_names[idx]for idx in top_words_idx]\n",
    "    component_mapping[i]= top_words\n",
    "#print mapping\n",
    "for component, words in component_mapping.items():\n",
    "    print(f'Component{component}: {\", \".join(words)}')"
   ]
  },
  {
   "cell_type": "code",
   "execution_count": 97,
   "id": "81cf3d45-2977-4f7a-b693-0d945de99741",
   "metadata": {},
   "outputs": [
    {
     "data": {
      "text/html": [
       "<style>#sk-container-id-1 {color: black;}#sk-container-id-1 pre{padding: 0;}#sk-container-id-1 div.sk-toggleable {background-color: white;}#sk-container-id-1 label.sk-toggleable__label {cursor: pointer;display: block;width: 100%;margin-bottom: 0;padding: 0.3em;box-sizing: border-box;text-align: center;}#sk-container-id-1 label.sk-toggleable__label-arrow:before {content: \"▸\";float: left;margin-right: 0.25em;color: #696969;}#sk-container-id-1 label.sk-toggleable__label-arrow:hover:before {color: black;}#sk-container-id-1 div.sk-estimator:hover label.sk-toggleable__label-arrow:before {color: black;}#sk-container-id-1 div.sk-toggleable__content {max-height: 0;max-width: 0;overflow: hidden;text-align: left;background-color: #f0f8ff;}#sk-container-id-1 div.sk-toggleable__content pre {margin: 0.2em;color: black;border-radius: 0.25em;background-color: #f0f8ff;}#sk-container-id-1 input.sk-toggleable__control:checked~div.sk-toggleable__content {max-height: 200px;max-width: 100%;overflow: auto;}#sk-container-id-1 input.sk-toggleable__control:checked~label.sk-toggleable__label-arrow:before {content: \"▾\";}#sk-container-id-1 div.sk-estimator input.sk-toggleable__control:checked~label.sk-toggleable__label {background-color: #d4ebff;}#sk-container-id-1 div.sk-label input.sk-toggleable__control:checked~label.sk-toggleable__label {background-color: #d4ebff;}#sk-container-id-1 input.sk-hidden--visually {border: 0;clip: rect(1px 1px 1px 1px);clip: rect(1px, 1px, 1px, 1px);height: 1px;margin: -1px;overflow: hidden;padding: 0;position: absolute;width: 1px;}#sk-container-id-1 div.sk-estimator {font-family: monospace;background-color: #f0f8ff;border: 1px dotted black;border-radius: 0.25em;box-sizing: border-box;margin-bottom: 0.5em;}#sk-container-id-1 div.sk-estimator:hover {background-color: #d4ebff;}#sk-container-id-1 div.sk-parallel-item::after {content: \"\";width: 100%;border-bottom: 1px solid gray;flex-grow: 1;}#sk-container-id-1 div.sk-label:hover label.sk-toggleable__label {background-color: #d4ebff;}#sk-container-id-1 div.sk-serial::before {content: \"\";position: absolute;border-left: 1px solid gray;box-sizing: border-box;top: 0;bottom: 0;left: 50%;z-index: 0;}#sk-container-id-1 div.sk-serial {display: flex;flex-direction: column;align-items: center;background-color: white;padding-right: 0.2em;padding-left: 0.2em;position: relative;}#sk-container-id-1 div.sk-item {position: relative;z-index: 1;}#sk-container-id-1 div.sk-parallel {display: flex;align-items: stretch;justify-content: center;background-color: white;position: relative;}#sk-container-id-1 div.sk-item::before, #sk-container-id-1 div.sk-parallel-item::before {content: \"\";position: absolute;border-left: 1px solid gray;box-sizing: border-box;top: 0;bottom: 0;left: 50%;z-index: -1;}#sk-container-id-1 div.sk-parallel-item {display: flex;flex-direction: column;z-index: 1;position: relative;background-color: white;}#sk-container-id-1 div.sk-parallel-item:first-child::after {align-self: flex-end;width: 50%;}#sk-container-id-1 div.sk-parallel-item:last-child::after {align-self: flex-start;width: 50%;}#sk-container-id-1 div.sk-parallel-item:only-child::after {width: 0;}#sk-container-id-1 div.sk-dashed-wrapped {border: 1px dashed gray;margin: 0 0.4em 0.5em 0.4em;box-sizing: border-box;padding-bottom: 0.4em;background-color: white;}#sk-container-id-1 div.sk-label label {font-family: monospace;font-weight: bold;display: inline-block;line-height: 1.2em;}#sk-container-id-1 div.sk-label-container {text-align: center;}#sk-container-id-1 div.sk-container {/* jupyter's `normalize.less` sets `[hidden] { display: none; }` but bootstrap.min.css set `[hidden] { display: none !important; }` so we also need the `!important` here to be able to override the default hidden behavior on the sphinx rendered scikit-learn.org. See: https://github.com/scikit-learn/scikit-learn/issues/21755 */display: inline-block !important;position: relative;}#sk-container-id-1 div.sk-text-repr-fallback {display: none;}</style><div id=\"sk-container-id-1\" class=\"sk-top-container\"><div class=\"sk-text-repr-fallback\"><pre>LinearRegression()</pre><b>In a Jupyter environment, please rerun this cell to show the HTML representation or trust the notebook. <br />On GitHub, the HTML representation is unable to render, please try loading this page with nbviewer.org.</b></div><div class=\"sk-container\" hidden><div class=\"sk-item\"><div class=\"sk-estimator sk-toggleable\"><input class=\"sk-toggleable__control sk-hidden--visually\" id=\"sk-estimator-id-1\" type=\"checkbox\" checked><label for=\"sk-estimator-id-1\" class=\"sk-toggleable__label sk-toggleable__label-arrow\">LinearRegression</label><div class=\"sk-toggleable__content\"><pre>LinearRegression()</pre></div></div></div></div></div>"
      ],
      "text/plain": [
       "LinearRegression()"
      ]
     },
     "execution_count": 97,
     "metadata": {},
     "output_type": "execute_result"
    }
   ],
   "source": [
    "#Linear Regression\n",
    "lr_model = LinearRegression()\n",
    "lr_model.fit(X_train_lsa, y_train)"
   ]
  },
  {
   "cell_type": "code",
   "execution_count": 104,
   "id": "9300f70a-9f5f-4c31-83e3-464bccd5779b",
   "metadata": {},
   "outputs": [],
   "source": [
    "y_pred = lr_model.predict(X_test_lsa)"
   ]
  },
  {
   "cell_type": "code",
   "execution_count": 110,
   "id": "9017706e-ca41-44a4-914d-5e8f2f02e4f9",
   "metadata": {},
   "outputs": [
    {
     "name": "stdout",
     "output_type": "stream",
     "text": [
      "Mean Squared Error: 0.03676540641737104\n",
      "Mean Absolute Error: 0.13655003356345996\n",
      "R-squared: 0.04488625083672848\n"
     ]
    }
   ],
   "source": [
    "mse = mean_squared_error(y_test, y_pred)\n",
    "print(f\"Mean Squared Error: {mse}\")\n",
    "mae = mean_absolute_error(y_test, y_pred)\n",
    "print(f'Mean Absolute Error: {mae}')\n",
    "r_squared = r2_score(y_test, y_pred)\n",
    "print(f'R-squared: {r_squared}')"
   ]
  },
  {
   "cell_type": "code",
   "execution_count": 135,
   "id": "5e27add2-003f-45f1-a8a8-e4a0f5fb9a2c",
   "metadata": {},
   "outputs": [],
   "source": [
    "#store results: \n",
    "result_linreg1 ={\n",
    "    'Identifier': 'lin_reg1',\n",
    "    'Vectorization': 'CountVectorizer',\n",
    "    'n_grams' : 'None',\n",
    "    'lemmatization':False,\n",
    "    'stemming':False,\n",
    "    'custom_stopwords':None,\n",
    "    'include_stopwords':None,\n",
    "    'MSE': mse,\n",
    "    'MAD': mae,\n",
    "    'R_squared': r_squared\n",
    "}\n",
    "results_ln_list.append(result_linreg1)"
   ]
  },
  {
   "cell_type": "code",
   "execution_count": 106,
   "id": "a041e6f2-ad41-4e29-b9d9-facf245b8286",
   "metadata": {},
   "outputs": [
    {
     "data": {
      "image/png": "[encoded data removed]",
      "text/plain": [
       "<Figure size 1000x600 with 1 Axes>"
      ]
     },
     "metadata": {},
     "output_type": "display_data"
    }
   ],
   "source": [
    "# Plotting the predictions against the actual values\n",
    "plt.figure(figsize=(10, 6))\n",
    "plt.scatter(y_test, y_pred, color='blue')\n",
    "plt.plot([y_test.min(), y_test.max()], [y_test.min(), y_test.max()], 'k--', lw=4)\n",
    "plt.xlabel('Actual')\n",
    "plt.ylabel('Predicted')\n",
    "plt.title('Actual vs Predicted')\n",
    "plt.show()"
   ]
  },
  {
   "cell_type": "markdown",
   "id": "b7d0aa18-b787-424f-b396-468e3c3905b7",
   "metadata": {},
   "source": [
    "In looking at plot of predictions vs. actual values it appears that the predicted values are not close to actual values as they points are not lying along the diagonal. Linear Regression shows a low R squared value and possible interpretation is that the model is not capturing relationships between text and toxicity rating (fraction of annotators that labeled comment as toxic). The use of n-grams as seen in notebook; Preprocessing_and_Tokenization_Arman did improve the mse by 0.01 and this may be explored further. The overall poor performance of linear regression model could be due to non liear relationships between the text and toxicity. Other ways of tokenization and vectorization may be explored, as well as the use of other models that are more adept at capturing non linear patterns. "
   ]
  },
  {
   "cell_type": "markdown",
   "id": "b2e50546-4cb7-4fbd-b69d-4dfd418f1f69",
   "metadata": {},
   "source": [
    "### Logistic Regression"
   ]
  },
  {
   "cell_type": "code",
   "execution_count": 141,
   "id": "2d7fa22f-1138-4854-9ff4-56d4b75146c8",
   "metadata": {},
   "outputs": [],
   "source": [
    "from sklearn.pipeline import Pipeline\n",
    "from sklearn.linear_model import LogisticRegression\n",
    "from sklearn.model_selection import GridSearchCV\n",
    "from sklearn.metrics import make_scorer, f1_score\n",
    "from sklearn.metrics import accuracy_score, precision_score, recall_score\n"
   ]
  },
  {
   "cell_type": "markdown",
   "id": "ea4d12f6-bc3c-4119-a153-982054c54bc0",
   "metadata": {},
   "source": [
    "Logistic Regression will be done using: \n",
    "- solver:\n",
    "- sample size: same sample as linear regression\n",
    "- Target: binary_target\n",
    "\n",
    "The Logistic Regression will be evaluated based on F1 score an balance of precision and Recall,\n",
    "a perfect F1 score is 1. \n",
    "- Precision: This is the proportion of correctly predicted positive observations (true positives) out of all positive predictions (true positives + false positives). A higher precision indicates fewer false positives.\n",
    "- Recall: This is the proportion of correctly predicted positive observations (true positives) out of all actual positives (true positives + false negatives). A higher recall indicates fewer false negatives.\n",
    "\n",
    "Different tokenization and vectorization techniques may be explored. The Logistic Regression will serve as a basline model and provide insight into the feature relationship with toxicity. "
   ]
  },
  {
   "cell_type": "code",
   "execution_count": 136,
   "id": "009f802f-3605-4009-9650-07fde8968765",
   "metadata": {},
   "outputs": [],
   "source": [
    "results_list =[]"
   ]
  },
  {
   "cell_type": "code",
   "execution_count": 138,
   "id": "235c1f28-bded-4905-abda-79ef18915197",
   "metadata": {},
   "outputs": [],
   "source": [
    "#Use function for grid search\n",
    "def run_grid_search(X_train, y_train, param_grid, pipeline, scoring_metric, identifier,\n",
    "                   n_grams='None', vectorization= 'None', tokenizer_params= 'default'):\n",
    "    \"\"\"\n",
    "    Run a grid search with the specified parameters.\n",
    "\n",
    "    Parameters:\n",
    "    - X_train: Training features\n",
    "    - y_train: Training labels\n",
    "    - param_grid: Parameter grid for the grid search\n",
    "    - pipeline: pipeline object\n",
    "    - scoring_metric: Scikit-learn scoring metric\n",
    "    - identifier: Identifier for iteration of Gridsearch'\n",
    "    - n_grams: N-gram range used for vectorization (default=None)\n",
    "    - vectorization: Vectorization technique used (default=None)\n",
    "    - tokenizer_params: Additional parameters used in the tokenizer (default=None)\n",
    "\n",
    "\n",
    "    Returns:\n",
    "    - grid_search: Fitted GridSearchCV object \n",
    "    -resluts of cross validation in terms of best params, best score (validation set)\n",
    "    - time it took to run GridSearch\n",
    "    \"\"\"\n",
    "    #initiate timer module\n",
    "    start_time = time.time()\n",
    "   \n",
    "    # Set up the scoring metric\n",
    "    scoring =make_scorer(f1_score)\n",
    "\n",
    "    # Instantiate GridSearchCV with 5-fold cross-validation, n_jobs=3, and specified scoring metric\n",
    "    grid_search = GridSearchCV(pipeline, param_grid, cv=5, scoring=scoring, n_jobs=3)\n",
    "\n",
    "    # Fit and run grid search\n",
    "    grid_search.fit(X_train, y_train)\n",
    "\n",
    "    #end timer\n",
    "    end_time = time.time()\n",
    "    elapsed_time = end_time - start_time\n",
    "    \n",
    "     # Store the results (hyperparameters and scores)\n",
    "    results_list.append({\n",
    "        'identifier': identifier,\n",
    "        'best_params': grid_search.best_params_,\n",
    "        'best_score': grid_search.best_score_,\n",
    "        'elapsed_time': elapsed_time,\n",
    "        'n_grams': n_grams,\n",
    "        'vectorization': vectorization,\n",
    "        'tokenizer_params': tokenizer_params\n",
    "    })\n",
    "    \n",
    "    # Print the best parameters with the identifier\n",
    "    print(f\"Best Parameters for {identifier}: {grid_search.best_params_}\")\n",
    "\n",
    "    # Print the best score on the validation sets, \n",
    "    #.best_score_ is attribute of GridSearch CV that accesses best validation score(score specified in GS)\n",
    "    print(f\"Best {scoring_metric} Score for {identifier}: {grid_search.best_score_}\")\n",
    "    # Print the elapsed time\n",
    "    print(f\"Elapsed Time for {identifier}: {elapsed_time} seconds\")\n",
    "\n",
    "    return grid_search"
   ]
  },
  {
   "cell_type": "code",
   "execution_count": 142,
   "id": "418763c0-a035-4655-b1ec-dd66d8e546f0",
   "metadata": {},
   "outputs": [],
   "source": [
    "def evaluate_model(model, X_test, y_test):\n",
    "    # Predict\n",
    "    y_pred = model.predict(X_test)\n",
    "    \n",
    "    # Calculate metrics\n",
    "    accuracy = accuracy_score(y_test, y_pred)\n",
    "    precision = precision_score(y_test, y_pred)\n",
    "    recall = recall_score(y_test, y_pred)\n",
    "    f1 = f1_score(y_test, y_pred)\n",
    "    \n",
    "    # Print the metrics\n",
    "    print(f'Accuracy: {accuracy}')\n",
    "    print(f'Precision: {precision}')\n",
    "    print(f'Recall: {recall}')\n",
    "    print(f'F1 Score: {f1}')\n",
    "    \n",
    "    # Return the metrics\n",
    "    return accuracy, precision, recall, f1"
   ]
  },
  {
   "cell_type": "code",
   "execution_count": 151,
   "id": "9006338f-77d2-4bc9-b177-ec43d4226fc3",
   "metadata": {},
   "outputs": [],
   "source": [
    "def plot_coefficients(model, feature_names, top_features=20):\n",
    "    lr_model = model.named_steps['lr']\n",
    "    coef = lr_model.coef_.ravel()\n",
    "    top_positive_coefficients = np.argsort(coef)[-top_features:]\n",
    "    top_negative_coefficients = np.argsort(coef)[:top_features]\n",
    "    top_coefficients = np.hstack([top_negative_coefficients, top_positive_coefficients])\n",
    "    \n",
    "    plt.figure(figsize=(15, 5))\n",
    "    colors = ['red' if c < 0 else 'blue' for c in coef[top_coefficients]]\n",
    "    plt.bar(np.arange(2 * top_features), coef[top_coefficients], color=colors)\n",
    "    feature_names = np.array(feature_names)\n",
    "    plt.xticks(np.arange(1, 1 + 2 * top_features), feature_names[top_coefficients], rotation=60, ha='right')\n",
    "    plt.xlabel('Feature')\n",
    "    plt.ylabel('Coefficient Value')\n",
    "    plt.title('Top 20 Coefficients and Features')\n",
    "    plt.show()"
   ]
  },
  {
   "cell_type": "code",
   "execution_count": 131,
   "id": "8e944f4b-868c-4a63-80d5-4f756c538f1f",
   "metadata": {},
   "outputs": [],
   "source": [
    "#baseline log\n",
    "pipeline_log_base = Pipeline([\n",
    "    ('lr', LogisticRegression(max_iter=1000))\n",
    "])\n"
   ]
  },
  {
   "cell_type": "markdown",
   "id": "e7c15cb7-a763-42ee-b018-217338e653c9",
   "metadata": {},
   "source": [
    "**Log Reg 1: Identifier: Log_Reg1**\n",
    "- 'lemmatization':False,\n",
    "- 'stemming':False,\n",
    "- 'custom_stopwords':None,\n",
    "- 'include_stopwords':None\n",
    "- 'n_grams': None\n",
    "- 'Vectorization': 'CountVectorizer'"
   ]
  },
  {
   "cell_type": "code",
   "execution_count": 129,
   "id": "206b102c-61c2-4154-81dd-4cbe82dff614",
   "metadata": {},
   "outputs": [],
   "source": [
    "#param grid, optimize for C-> regularization\n",
    "param_grid_log = {\n",
    "    'lr__C': [0.1, 1, 10]  \n",
    "}"
   ]
  },
  {
   "cell_type": "code",
   "execution_count": 140,
   "id": "ecbacb99-cf48-4c41-8cf4-34ae2dd88d37",
   "metadata": {},
   "outputs": [
    {
     "name": "stdout",
     "output_type": "stream",
     "text": [
      "Best Parameters for Log_Reg1: {'lr__C': 10}\n",
      "Best F1 Score Score for Log_Reg1: 0.4048247641834425\n",
      "Elapsed Time for Log_Reg1: 12.192641973495483 seconds\n"
     ]
    }
   ],
   "source": [
    "scoring_metric = 'F1 Score'\n",
    "results_logreg1= run_grid_search(X_train_transformed, y_train_log, param_grid_log, pipeline_log_base, \n",
    "                                 scoring_metric, 'Log_Reg1', n_grams='None', vectorization= 'CountVectorizer', \n",
    "                                 tokenizer_params= 'default')"
   ]
  },
  {
   "cell_type": "code",
   "execution_count": 144,
   "id": "e92a777a-e971-496e-99ce-d5205f32f79d",
   "metadata": {},
   "outputs": [
    {
     "name": "stdout",
     "output_type": "stream",
     "text": [
      "Accuracy: 0.9530312371557748\n",
      "Precision: 0.7110415035238841\n",
      "Recall: 0.32147282704903524\n",
      "F1 Score: 0.44276484213092776\n"
     ]
    },
    {
     "data": {
      "text/plain": [
       "(0.9530312371557748,\n",
       " 0.7110415035238841,\n",
       " 0.32147282704903524,\n",
       " 0.44276484213092776)"
      ]
     },
     "execution_count": 144,
     "metadata": {},
     "output_type": "execute_result"
    }
   ],
   "source": [
    "#predict and Evaluate:\n",
    "log_reg1_model = results_logreg1.best_estimator_\n",
    "evaluate_model(log_reg1_model, X_test_transformed, y_test_log)"
   ]
  },
  {
   "cell_type": "code",
   "execution_count": 153,
   "id": "7d1f651e-4e26-4293-81b6-182e6100ecfb",
   "metadata": {},
   "outputs": [
    {
     "data": {
      "image/png": "[encoded data removed]",
      "text/plain": [
       "<Figure size 1500x500 with 1 Axes>"
      ]
     },
     "metadata": {},
     "output_type": "display_data"
    }
   ],
   "source": [
    "#plot coeffs, with features names, get feature names from vectorizer\n",
    "#feature_names = vectorizer_text.get_feature_names() -> defined earlier\n",
    "plot_coefficients(log_reg1_model, feature_names)"
   ]
  },
  {
   "cell_type": "markdown",
   "id": "38c50488-766f-4574-b425-80d53a5e1ab5",
   "metadata": {},
   "source": [
    "Words with negative coefficients, indicating a lower likeliehood of comment being toxic are indicitative of contexts or topics that are less likely to be toxic. These words might be associated with more formal or structured discussions, that are less likely to involve toxic language. In general these words are predominantly nouns, indicating specific concepts or entitites. Words with positive coefficients, show an increased likeliehood of toxicity in comment. These words appear to be insulting, derogatory and negative in context. It was seen in EDA that comments labeled as insulting had a higher co occurence with toxicity. Comments labeled as insulting also show a positive correlation with toxicity. In general these words also appear adjectival in nature and seem to describe negative attributes. This aligns with adjectives commonly being used to express sentiment while nouns (seen with positive coefficients) may not inherently carry sentiment such as toxicity.  "
   ]
  },
  {
   "cell_type": "markdown",
   "id": "1a0bf3f3-b194-477b-9861-62ff306ae12f",
   "metadata": {},
   "source": [
    "**Log Reg 2, n-grams: Identifier: Log_reg2**\n",
    "\n",
    "N-grams will be used, and logistic regression assessed, features and coeffs will be evaluated. "
   ]
  },
  {
   "cell_type": "code",
   "execution_count": 164,
   "id": "14f4fae2-b7b6-4518-bfb2-81ef9bb57d32",
   "metadata": {},
   "outputs": [],
   "source": [
    "#instantiate count vectorizer\n",
    "vectorizer_ngrams = CountVectorizer(tokenizer= lambda x:my_tokenizer(x,**tokenizer_params_default),\n",
    "                                             max_features =3000,\n",
    "                                             min_df =10,\n",
    "                                             ngram_range =(1,2)\n",
    "                                            )"
   ]
  },
  {
   "cell_type": "code",
   "execution_count": 165,
   "id": "56b60009-c199-41a3-a2ae-f25d66882a5f",
   "metadata": {},
   "outputs": [
    {
     "name": "stdout",
     "output_type": "stream",
     "text": [
      "Vectorization took 35.70 seconds\n"
     ]
    }
   ],
   "source": [
    "#fit and transform X_train, use .fit_transform() method\n",
    "start_time = time.time()  #start timer\n",
    "\n",
    "X_train_transformed_n = vectorizer_ngrams.fit_transform(X_train)\n",
    "\n",
    "end_time = time.time()  #end timer\n",
    "elapsed_time = end_time - start_time\n",
    "print(f\"Vectorization took {elapsed_time:.2f} seconds\") \n"
   ]
  },
  {
   "cell_type": "code",
   "execution_count": 166,
   "id": "a98f98bc-53a1-4154-a8fc-e057695b58a7",
   "metadata": {},
   "outputs": [
    {
     "name": "stdout",
     "output_type": "stream",
     "text": [
      "Vectorization took 5.98 seconds\n"
     ]
    }
   ],
   "source": [
    "start_time = time.time()  #start timer\n",
    "\n",
    "X_test_transformed_n = vectorizer_ngrams.transform(X_test)\n",
    "\n",
    "end_time = time.time()  #end timer\n",
    "elapsed_time = end_time - start_time\n",
    "print(f\"Vectorization took {elapsed_time:.2f} seconds\") \n"
   ]
  },
  {
   "cell_type": "code",
   "execution_count": 158,
   "id": "b908759a-02ab-46c6-9818-64004561c2de",
   "metadata": {},
   "outputs": [
    {
     "name": "stdout",
     "output_type": "stream",
     "text": [
      "Best Parameters for Log_Reg2: {'lr__C': 10}\n",
      "Best F1 Score Score for Log_Reg2: 0.40124840550847435\n",
      "Elapsed Time for Log_Reg2: 19.358353853225708 seconds\n"
     ]
    }
   ],
   "source": [
    "#Log Reg, use baseline pipeline, and same param grid \n",
    "scoring_metric = 'F1 Score'\n",
    "results_logreg2= run_grid_search(X_train_transformed_n, y_train_log, param_grid_log, pipeline_log_base, \n",
    "                                 scoring_metric, 'Log_Reg2', n_grams='(1,2)', vectorization= 'CountVectorizer', \n",
    "                                 tokenizer_params= 'default')"
   ]
  },
  {
   "cell_type": "code",
   "execution_count": 167,
   "id": "7467ca55-f73e-4fb6-828e-2bbbec5cac96",
   "metadata": {},
   "outputs": [
    {
     "name": "stdout",
     "output_type": "stream",
     "text": [
      "Accuracy: 0.9530620632963419\n",
      "Precision: 0.7154244719011559\n",
      "Recall: 0.3177553549300761\n",
      "F1 Score: 0.44005883795047807\n"
     ]
    },
    {
     "data": {
      "text/plain": [
       "(0.9530620632963419,\n",
       " 0.7154244719011559,\n",
       " 0.3177553549300761,\n",
       " 0.44005883795047807)"
      ]
     },
     "execution_count": 167,
     "metadata": {},
     "output_type": "execute_result"
    }
   ],
   "source": [
    "#predict and evaluate model\n",
    "log_reg2_model = results_logreg2.best_estimator_\n",
    "evaluate_model(log_reg2_model, X_test_transformed_n, y_test_log)"
   ]
  },
  {
   "cell_type": "code",
   "execution_count": 168,
   "id": "0b8c228a-ae90-4713-a2f1-53670cd4651c",
   "metadata": {},
   "outputs": [
    {
     "data": {
      "image/png": "[encoded data removed]",
      "text/plain": [
       "<Figure size 1500x500 with 1 Axes>"
      ]
     },
     "metadata": {},
     "output_type": "display_data"
    }
   ],
   "source": [
    "#plot coeffs\n",
    "ngram_features = vectorizer_ngrams.get_feature_names_out()\n",
    "plot_coefficients(log_reg2_model, ngram_features)"
   ]
  },
  {
   "cell_type": "code",
   "execution_count": null,
   "id": "a8e45542-c368-4182-8fa3-77f17fcb9108",
   "metadata": {},
   "outputs": [],
   "source": []
  }
 ],
 "metadata": {
  "kernelspec": {
   "display_name": "Python 3 (ipykernel)",
   "language": "python",
   "name": "python3"
  },
  "language_info": {
   "codemirror_mode": {
    "name": "ipython",
    "version": 3
   },
   "file_extension": ".py",
   "mimetype": "text/x-python",
   "name": "python",
   "nbconvert_exporter": "python",
   "pygments_lexer": "ipython3",
   "version": "3.8.18"
  }
 },
 "nbformat": 4,
 "nbformat_minor": 5
}
