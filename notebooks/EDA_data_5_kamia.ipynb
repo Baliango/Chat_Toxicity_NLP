{
 "cells": [
  {
   "cell_type": "markdown",
   "id": "a83da49f-e20f-43b4-bc0b-63cd9cd76bc8",
   "metadata": {},
   "source": [
    "# EDA jigsaw-unintended-bias-in-toxicity-classification"
   ]
  },
  {
   "cell_type": "code",
   "execution_count": 58,
   "id": "3ef1a9de-71d5-49b0-8430-b50e413ff134",
   "metadata": {},
   "outputs": [],
   "source": [
    "import pandas as pd\n",
    "import numpy as np\n",
    "import matplotlib.pyplot as plt\n",
    "import seaborn as sns\n",
    "from scipy.stats import pearsonr"
   ]
  },
  {
   "cell_type": "markdown",
   "id": "81d3d424-f32a-4723-9c55-518c6442c64b",
   "metadata": {},
   "source": [
    "<details>\n",
    "  <summary>Dataset Description</summary>\n",
    "\n",
    "  Disclaimer: The dataset contains text that may be considered profane, vulgar, or offensive.\n",
    "\n",
    "  **Background**:\n",
    "  - The dataset consists of ~2 million public comments from the Civil Comments platform, made available in an open archive for research purposes.\n",
    "  - Jigsaw sponsored the effort and extended annotation of this data by human raters for various toxic conversational attributes.\n",
    "\n",
    "  **Data Content**:\n",
    "  - Each comment in the training set has a toxicity label (target)\n",
    "  - The toxicity labels are fractional values representing the fraction of human raters who believed the attribute applied to the given comment.\n",
    "  - Additional toxicity subtype attributes include severe_toxicity, obscene, threat, insult, identity_attack, and sexual_explicit. \n",
    "  - A subset of comments have been labeled with various identity attributes, representing the identities mentioned in the comment.\n",
    "\n",
    "  **Examples**:\n",
    "  - Comments have toxicity and identity mention labels ranging from 0.0 to 1.0, indicating the fraction of raters who believed the label fit the comment.\n",
    "\n",
    "  **Labelling Schema**:\n",
    "  - Toxicity labels were obtained by showing comments to up to 10 annotators, who rated the toxicity of each comment.\n",
    "  - Identity labels were obtained by asking annotators to indicate all identities mentioned in the comment.\n",
    "\n",
    "  **Annotators**:\n",
    "  - Annotation was done in 2018 on the Figure Eight crowd rating platform, with raters compensated 1.5 cents per judgment.\n",
    "\n",
    "  **File Descriptions**:\n",
    "  - train.csv: The training set, including toxicity labels and subgroups.\n",
    "  - test.csv: The test set, without toxicity labels or subgroups.\n",
    "  - sample_submission.csv: A sample submission file in the correct format.\n",
    "\n",
    "  **Additional Files**:\n",
    "  - test_public_expanded.csv: The public leaderboard test set, including toxicity labels and subgroups.\n",
    "  - test_private_expanded.csv: The private leaderboard test set, including toxicity labels and subgroups.\n",
    "  - toxicity_individual_annotations.csv: Individual rater decisions for toxicity questions.\n",
    "  - identity_individual_annotations.csv: Individual rater decisions for identity questions.\n",
    "\n",
    "  **Usage**:\n",
    "  - Released under CC0, including the underlying comment text.\n",
    "</details>\n"
   ]
  },
  {
   "cell_type": "markdown",
   "id": "3da670f0-3dbb-4214-96ac-af4993b855ce",
   "metadata": {},
   "source": [
    "## Data Dictionary\n",
    "<details>\n",
    "  <summary>Data Dictionary</summary>\n",
    "\n",
    "| Column                              | Description                                                                 | Dtype  |\n",
    "|-------------------------------------|-----------------------------------------------------------------------------|--------|\n",
    "| id                                  | Unique identifier for each comment                                          | int64  |\n",
    "| comment_text                        | Text content of the comment                                                  | object |\n",
    "| split                               | Indicates the dataset split (e.g., train, test)                              | object |\n",
    "| created_date                        | Date when the comment was created                                           | object |\n",
    "| publication_id                      | Unique identifier for the publication                                       | int64  |\n",
    "| parent_id                           | ID of the parent comment (if it is a reply)                                  | float64|\n",
    "| article_id                          | ID of the article the comment is related to                                  | int64  |\n",
    "| rating                              | Civility rating given by Civil Comments users                                | object |\n",
    "| funny                               | Number of users who found the comment funny                                  | int64  |\n",
    "| wow                                 | Number of users who reacted with \"wow\" to the comment                        | int64  |\n",
    "| sad                                 | Number of users who reacted with sadness to the comment                      | int64  |\n",
    "| likes                               | Number of users who liked the comment                                        | int64  |\n",
    "| disagree                            | Number of users who disagreed with the comment                               | int64  |\n",
    "| toxicity                            | Fraction of raters who rated the comment as toxic                            | float64|\n",
    "| severe_toxicity                     | Fraction of raters who rated the comment as severely toxic                   | float64|\n",
    "| obscene                             | Fraction of raters who rated the comment as obscene                           | float64|\n",
    "| sexual_explicit                     | Fraction of raters who rated the comment as sexually explicit                | float64|\n",
    "| identity_attack                     | Fraction of raters who rated the comment as an identity attack                | float64|\n",
    "| insult                              | Fraction of raters who rated the comment as insulting                        | float64|\n",
    "| threat                              | Fraction of raters who rated the comment as a threat                         | float64|\n",
    "| male                                | Fraction of raters who identified the comment as mentioning male             | float64|\n",
    "| female                              | Fraction of raters who identified the comment as mentioning female           | float64|\n",
    "| transgender                         | Fraction of raters who identified the comment as mentioning transgender      | float64|\n",
    "| other_gender                        | Fraction of raters who identified the comment as mentioning other genders    | float64|\n",
    "| heterosexual                        | Fraction of raters who identified the comment as mentioning heterosexuals    | float64|\n",
    "| homosexual_gay_or_lesbian           | Fraction of raters who identified the comment as mentioning homosexuals      | float64|\n",
    "| bisexual                            | Fraction of raters who identified the comment as mentioning bisexuals        | float64|\n",
    "| other_sexual_orientation            | Fraction of raters who identified the comment as mentioning other sexual orientations | float64|\n",
    "| christian                           | Fraction of raters who identified the comment as mentioning Christians       | float64|\n",
    "| jewish                              | Fraction of raters who identified the comment as mentioning Jews             | float64|\n",
    "| muslim                              | Fraction of raters who identified the comment as mentioning Muslims          | float64|\n",
    "| hindu                               | Fraction of raters who identified the comment as mentioning Hindus           | float64|\n",
    "| buddhist                            | Fraction of raters who identified the comment as mentioning Buddhists        | float64|\n",
    "| atheist                             | Fraction of raters who identified the comment as mentioning Atheists         | float64|\n",
    "| other_religion                      | Fraction of raters who identified the comment as mentioning other religions  | float64|\n",
    "| black                               | Fraction of raters who identified the comment as mentioning Black people     | float64|\n",
    "| white                               | Fraction of raters who identified the comment as mentioning White people     | float64|\n",
    "| asian                               | Fraction of raters who identified the comment as mentioning Asian people     | float64|\n",
    "| latino                              | Fraction of raters who identified the comment as mentioning Latino people    | float64|\n",
    "| other_race_or_ethnicity             | Fraction of raters who identified the comment as mentioning other races or ethnicities | float64|\n",
    "| physical_disability                 | Fraction of raters who identified the comment as mentioning physical disabilities | float64|\n",
    "| intellectual_or_learning_disability | Fraction of raters who identified the comment as mentioning intellectual or learning disabilities | float64|\n",
    "| psychiatric_or_mental_illness       | Fraction of raters who identified the comment as mentioning psychiatric or mental illnesses | float64|\n",
    "| other_disability                    | Fraction of raters who identified the comment as mentioning other disabilities | float64|\n",
    "| identity_annotator_count            | Number of annotators who labeled the identities mentioned in the comment      | int64  |\n",
    "| toxicity_annotator_count            | Number of annotators who rated the toxicity of the comment                    | int64  |\n",
    "|parent_id_present(added) | Binary, indicates present of parent id, if 0 comment is not response to another comment | int64|\n",
    "</details>\n"
   ]
  },
  {
   "cell_type": "markdown",
   "id": "77228f63-3da2-4f26-91b7-8f0c32d2b9a0",
   "metadata": {},
   "source": [
    "Data, organization/types:\n",
    "The Data can be described and grouped into the following: \n",
    "\n",
    "1. **Text Comments**:\n",
    "   - comment_text: Text content of the comment\n",
    "\n",
    "2. **Identity Attributes**:\n",
    "   - male, female, transgender, other_gender, heterosexual, homosexual_gay_or_lesbian, bisexual, other_sexual_orientation\n",
    "   - christian, jewish, muslim, hindu, buddhist, atheist, other_religion\n",
    "   - black, white, asian, latino, other_race_or_ethnicity\n",
    "   - physical_disability, intellectual_or_learning_disability, psychiatric_or_mental_illness, other_disability\n",
    "\n",
    "3. **Annotation Attributes**:\n",
    "   - identity_annotator_count: Number of annotators who labeled the identities mentioned in the comment\n",
    "   - toxicity_annotator_count: Number of annotators who rated the toxicity of the comment\n",
    "\n",
    "4. **Metadata Attributes**:\n",
    "   - id: Unique identifier for each comment\n",
    "   - split: Indicates the dataset split (e.g., train, test)\n",
    "   - created_date: Date when the comment was created\n",
    "   - publication_id: Unique identifier for the publication\n",
    "   - parent_id: ID of the parent comment (if it is a reply)\n",
    "   - article_id: ID of the article the comment is related to\n",
    "   - rating: Civility rating given by Civil Comments users\n",
    "   - funny, wow, sad, likes, disagree: User reactions to the comment\n",
    "\n",
    "5. **Toxicity Attributes**:\n",
    "   - toxicity, severe_toxicity, obscene, sexual_explicit, identity_attack, insult, threat: Fraction of raters who rated the comment with\n",
    "     these toxic attributes\n"
   ]
  },
  {
   "cell_type": "markdown",
   "id": "1ac4c7fb-0b26-478f-be22-c4a4d86ccbd0",
   "metadata": {},
   "source": [
    "**The EDA will follow these sections and assess data in terms of relationship to toxicity attributes.** "
   ]
  },
  {
   "cell_type": "markdown",
   "id": "3708c6df-d1b3-49c7-b4ad-f63d81c18245",
   "metadata": {},
   "source": [
    "## General EDA"
   ]
  },
  {
   "cell_type": "code",
   "execution_count": 2,
   "id": "52711b94-414c-4dc7-929b-58cf1f7e5625",
   "metadata": {},
   "outputs": [],
   "source": [
    "df= pd.read_csv('../data/kaggle_bias/all_data.csv')"
   ]
  },
  {
   "cell_type": "code",
   "execution_count": 3,
   "id": "80c67c00-858a-4fce-9f56-7f1b973095dd",
   "metadata": {},
   "outputs": [
    {
     "name": "stdout",
     "output_type": "stream",
     "text": [
      "<class 'pandas.core.frame.DataFrame'>\n",
      "RangeIndex: 1999516 entries, 0 to 1999515\n",
      "Data columns (total 46 columns):\n",
      " #   Column                               Dtype  \n",
      "---  ------                               -----  \n",
      " 0   id                                   int64  \n",
      " 1   comment_text                         object \n",
      " 2   split                                object \n",
      " 3   created_date                         object \n",
      " 4   publication_id                       int64  \n",
      " 5   parent_id                            float64\n",
      " 6   article_id                           int64  \n",
      " 7   rating                               object \n",
      " 8   funny                                int64  \n",
      " 9   wow                                  int64  \n",
      " 10  sad                                  int64  \n",
      " 11  likes                                int64  \n",
      " 12  disagree                             int64  \n",
      " 13  toxicity                             float64\n",
      " 14  severe_toxicity                      float64\n",
      " 15  obscene                              float64\n",
      " 16  sexual_explicit                      float64\n",
      " 17  identity_attack                      float64\n",
      " 18  insult                               float64\n",
      " 19  threat                               float64\n",
      " 20  male                                 float64\n",
      " 21  female                               float64\n",
      " 22  transgender                          float64\n",
      " 23  other_gender                         float64\n",
      " 24  heterosexual                         float64\n",
      " 25  homosexual_gay_or_lesbian            float64\n",
      " 26  bisexual                             float64\n",
      " 27  other_sexual_orientation             float64\n",
      " 28  christian                            float64\n",
      " 29  jewish                               float64\n",
      " 30  muslim                               float64\n",
      " 31  hindu                                float64\n",
      " 32  buddhist                             float64\n",
      " 33  atheist                              float64\n",
      " 34  other_religion                       float64\n",
      " 35  black                                float64\n",
      " 36  white                                float64\n",
      " 37  asian                                float64\n",
      " 38  latino                               float64\n",
      " 39  other_race_or_ethnicity              float64\n",
      " 40  physical_disability                  float64\n",
      " 41  intellectual_or_learning_disability  float64\n",
      " 42  psychiatric_or_mental_illness        float64\n",
      " 43  other_disability                     float64\n",
      " 44  identity_annotator_count             int64  \n",
      " 45  toxicity_annotator_count             int64  \n",
      "dtypes: float64(32), int64(10), object(4)\n",
      "memory usage: 701.7+ MB\n"
     ]
    }
   ],
   "source": [
    "df.info()"
   ]
  },
  {
   "cell_type": "code",
   "execution_count": 4,
   "id": "f794f34d-5dca-4611-9ad5-1864b0c8520c",
   "metadata": {},
   "outputs": [
    {
     "data": {
      "text/html": [
       "<div>\n",
       "<style scoped>\n",
       "    .dataframe tbody tr th:only-of-type {\n",
       "        vertical-align: middle;\n",
       "    }\n",
       "\n",
       "    .dataframe tbody tr th {\n",
       "        vertical-align: top;\n",
       "    }\n",
       "\n",
       "    .dataframe thead th {\n",
       "        text-align: right;\n",
       "    }\n",
       "</style>\n",
       "<table border=\"1\" class=\"dataframe\">\n",
       "  <thead>\n",
       "    <tr style=\"text-align: right;\">\n",
       "      <th></th>\n",
       "      <th>id</th>\n",
       "      <th>comment_text</th>\n",
       "      <th>split</th>\n",
       "      <th>created_date</th>\n",
       "      <th>publication_id</th>\n",
       "      <th>parent_id</th>\n",
       "      <th>article_id</th>\n",
       "      <th>rating</th>\n",
       "      <th>funny</th>\n",
       "      <th>wow</th>\n",
       "      <th>...</th>\n",
       "      <th>white</th>\n",
       "      <th>asian</th>\n",
       "      <th>latino</th>\n",
       "      <th>other_race_or_ethnicity</th>\n",
       "      <th>physical_disability</th>\n",
       "      <th>intellectual_or_learning_disability</th>\n",
       "      <th>psychiatric_or_mental_illness</th>\n",
       "      <th>other_disability</th>\n",
       "      <th>identity_annotator_count</th>\n",
       "      <th>toxicity_annotator_count</th>\n",
       "    </tr>\n",
       "  </thead>\n",
       "  <tbody>\n",
       "    <tr>\n",
       "      <th>0</th>\n",
       "      <td>1083994</td>\n",
       "      <td>He got his money... now he lies in wait till a...</td>\n",
       "      <td>train</td>\n",
       "      <td>2017-03-06 15:21:53.675241+00</td>\n",
       "      <td>21</td>\n",
       "      <td>NaN</td>\n",
       "      <td>317120</td>\n",
       "      <td>approved</td>\n",
       "      <td>0</td>\n",
       "      <td>0</td>\n",
       "      <td>...</td>\n",
       "      <td>NaN</td>\n",
       "      <td>NaN</td>\n",
       "      <td>NaN</td>\n",
       "      <td>NaN</td>\n",
       "      <td>NaN</td>\n",
       "      <td>NaN</td>\n",
       "      <td>NaN</td>\n",
       "      <td>NaN</td>\n",
       "      <td>0</td>\n",
       "      <td>67</td>\n",
       "    </tr>\n",
       "    <tr>\n",
       "      <th>1</th>\n",
       "      <td>650904</td>\n",
       "      <td>Mad dog will surely put the liberals in mental...</td>\n",
       "      <td>train</td>\n",
       "      <td>2016-12-02 16:44:21.329535+00</td>\n",
       "      <td>21</td>\n",
       "      <td>NaN</td>\n",
       "      <td>154086</td>\n",
       "      <td>approved</td>\n",
       "      <td>0</td>\n",
       "      <td>0</td>\n",
       "      <td>...</td>\n",
       "      <td>NaN</td>\n",
       "      <td>NaN</td>\n",
       "      <td>NaN</td>\n",
       "      <td>NaN</td>\n",
       "      <td>NaN</td>\n",
       "      <td>NaN</td>\n",
       "      <td>NaN</td>\n",
       "      <td>NaN</td>\n",
       "      <td>0</td>\n",
       "      <td>76</td>\n",
       "    </tr>\n",
       "  </tbody>\n",
       "</table>\n",
       "<p>2 rows × 46 columns</p>\n",
       "</div>"
      ],
      "text/plain": [
       "        id                                       comment_text  split  \\\n",
       "0  1083994  He got his money... now he lies in wait till a...  train   \n",
       "1   650904  Mad dog will surely put the liberals in mental...  train   \n",
       "\n",
       "                    created_date  publication_id  parent_id  article_id  \\\n",
       "0  2017-03-06 15:21:53.675241+00              21        NaN      317120   \n",
       "1  2016-12-02 16:44:21.329535+00              21        NaN      154086   \n",
       "\n",
       "     rating  funny  wow  ...  white  asian  latino  other_race_or_ethnicity  \\\n",
       "0  approved      0    0  ...    NaN    NaN     NaN                      NaN   \n",
       "1  approved      0    0  ...    NaN    NaN     NaN                      NaN   \n",
       "\n",
       "   physical_disability  intellectual_or_learning_disability  \\\n",
       "0                  NaN                                  NaN   \n",
       "1                  NaN                                  NaN   \n",
       "\n",
       "   psychiatric_or_mental_illness  other_disability  identity_annotator_count  \\\n",
       "0                            NaN               NaN                         0   \n",
       "1                            NaN               NaN                         0   \n",
       "\n",
       "   toxicity_annotator_count  \n",
       "0                        67  \n",
       "1                        76  \n",
       "\n",
       "[2 rows x 46 columns]"
      ]
     },
     "execution_count": 4,
     "metadata": {},
     "output_type": "execute_result"
    }
   ],
   "source": [
    "df.head(2)"
   ]
  },
  {
   "cell_type": "code",
   "execution_count": 5,
   "id": "91381ebf-e78a-4098-91c2-78f829350fac",
   "metadata": {},
   "outputs": [
    {
     "data": {
      "text/plain": [
       "(1999516, 46)"
      ]
     },
     "execution_count": 5,
     "metadata": {},
     "output_type": "execute_result"
    }
   ],
   "source": [
    "df.shape"
   ]
  },
  {
   "cell_type": "code",
   "execution_count": 6,
   "id": "12dc547e-39cd-46e4-9829-b5f24acc022b",
   "metadata": {},
   "outputs": [
    {
     "data": {
      "text/plain": [
       "id                                           0\n",
       "comment_text                                 4\n",
       "split                                        0\n",
       "created_date                                 0\n",
       "publication_id                               0\n",
       "parent_id                               864807\n",
       "article_id                                   0\n",
       "rating                                       0\n",
       "funny                                        0\n",
       "wow                                          0\n",
       "sad                                          0\n",
       "likes                                        0\n",
       "disagree                                     0\n",
       "toxicity                                     0\n",
       "severe_toxicity                              0\n",
       "obscene                                      0\n",
       "sexual_explicit                              0\n",
       "identity_attack                              0\n",
       "insult                                       0\n",
       "threat                                       0\n",
       "male                                   1551516\n",
       "female                                 1551516\n",
       "transgender                            1551516\n",
       "other_gender                           1551516\n",
       "heterosexual                           1551516\n",
       "homosexual_gay_or_lesbian              1551516\n",
       "bisexual                               1551516\n",
       "other_sexual_orientation               1551516\n",
       "christian                              1551516\n",
       "jewish                                 1551516\n",
       "muslim                                 1551516\n",
       "hindu                                  1551516\n",
       "buddhist                               1551516\n",
       "atheist                                1551516\n",
       "other_religion                         1551516\n",
       "black                                  1551516\n",
       "white                                  1551516\n",
       "asian                                  1551516\n",
       "latino                                 1551516\n",
       "other_race_or_ethnicity                1551516\n",
       "physical_disability                    1551516\n",
       "intellectual_or_learning_disability    1551516\n",
       "psychiatric_or_mental_illness          1551516\n",
       "other_disability                       1551516\n",
       "identity_annotator_count                     0\n",
       "toxicity_annotator_count                     0\n",
       "dtype: int64"
      ]
     },
     "execution_count": 6,
     "metadata": {},
     "output_type": "execute_result"
    }
   ],
   "source": [
    "df.isnull().sum()"
   ]
  },
  {
   "cell_type": "markdown",
   "id": "d3aeb4b1-2929-4a17-9f47-639194b27fed",
   "metadata": {},
   "source": [
    "### Deal with Nulls"
   ]
  },
  {
   "cell_type": "markdown",
   "id": "dd5b3d82-39cb-4d1b-98e5-aa869922cf35",
   "metadata": {},
   "source": [
    "**parent_id**"
   ]
  },
  {
   "cell_type": "code",
   "execution_count": 7,
   "id": "048b66af-174b-4d08-aa99-4c01d5f95976",
   "metadata": {},
   "outputs": [
    {
     "data": {
      "text/plain": [
       "parent_id\n",
       "6044064.0    44\n",
       "701929.0     39\n",
       "654936.0     38\n",
       "5547432.0    30\n",
       "631450.0     26\n",
       "             ..\n",
       "5191761.0     1\n",
       "1065022.0     1\n",
       "689775.0      1\n",
       "743906.0      1\n",
       "807615.0      1\n",
       "Name: count, Length: 786827, dtype: int64"
      ]
     },
     "execution_count": 7,
     "metadata": {},
     "output_type": "execute_result"
    }
   ],
   "source": [
    "#parent id\n",
    "df['parent_id'].value_counts()"
   ]
  },
  {
   "cell_type": "code",
   "execution_count": 8,
   "id": "9aff42f9-eedc-4a67-8baf-fc1317efaf7d",
   "metadata": {},
   "outputs": [
    {
     "name": "stdout",
     "output_type": "stream",
     "text": [
      "Percentage of nulls in parent_id column: 43.25%\n"
     ]
    }
   ],
   "source": [
    "tot_rows=len(df)\n",
    "null_parent_id = df['parent_id'].isnull().sum()\n",
    "percentage_nulls_parent_id = (null_parent_id / tot_rows) * 100\n",
    "print(f\"Percentage of nulls in parent_id column: {percentage_nulls_parent_id:.2f}%\")"
   ]
  },
  {
   "cell_type": "code",
   "execution_count": 9,
   "id": "e14d58db-e0bc-482e-a3d2-c81133cf346c",
   "metadata": {},
   "outputs": [
    {
     "name": "stdout",
     "output_type": "stream",
     "text": [
      "All parent_id values have a count greater than 0.\n"
     ]
    }
   ],
   "source": [
    "is_zero_count = (df['parent_id'].value_counts() == 0).any()\n",
    "if is_zero_count:\n",
    "    print(\"Some parent_id values have a count of 0.\")\n",
    "else:\n",
    "    print(\"All parent_id values have a count greater than 0.\")"
   ]
  },
  {
   "cell_type": "markdown",
   "id": "b70d016d-53de-44c9-a7e8-ac41b047f43a",
   "metadata": {},
   "source": [
    "Since all parent_id values have a count greater than zero and a large percentage is null it is inferred that Null values correspond to the comment not being a response to a previous comment. To address this while keeping the original parent ids a new column will be created indicating parent_id present:1 or not present: 0"
   ]
  },
  {
   "cell_type": "code",
   "execution_count": 10,
   "id": "f35b929d-c6ff-4d44-8994-4f647f40d13c",
   "metadata": {},
   "outputs": [],
   "source": [
    "df['parent_id_present'] = df['parent_id'].notnull().astype(int)"
   ]
  },
  {
   "cell_type": "code",
   "execution_count": 11,
   "id": "cba52623-3947-4a66-914b-6e5caca81627",
   "metadata": {},
   "outputs": [
    {
     "data": {
      "text/plain": [
       "parent_id_present\n",
       "1    1134709\n",
       "0     864807\n",
       "Name: count, dtype: int64"
      ]
     },
     "execution_count": 11,
     "metadata": {},
     "output_type": "execute_result"
    }
   ],
   "source": [
    "df['parent_id_present'].value_counts()"
   ]
  },
  {
   "cell_type": "markdown",
   "id": "c0070cb6-c23d-4151-a39c-180bb3b28aab",
   "metadata": {},
   "source": [
    "**identities**"
   ]
  },
  {
   "cell_type": "code",
   "execution_count": 12,
   "id": "0e349f29-4db3-4368-a143-3b67c1ebdbc7",
   "metadata": {},
   "outputs": [
    {
     "name": "stdout",
     "output_type": "stream",
     "text": [
      "Percentage of nulls in an Identity column: 77.59%\n"
     ]
    }
   ],
   "source": [
    "#percentage of identies that are null for each column\n",
    "#the same amount values are null for all identies, calculate percentage of ea. col with one for example\n",
    "null_identity = df['male'].isnull().sum()\n",
    "percentage_null_identity_col = (null_identity/tot_rows)*100\n",
    "print(f'Percentage of nulls in an Identity column: {percentage_null_identity_col:.2f}%')"
   ]
  },
  {
   "cell_type": "code",
   "execution_count": 13,
   "id": "d105cb94-8288-4439-966b-1aa9efefce8d",
   "metadata": {},
   "outputs": [
    {
     "data": {
      "text/plain": [
       "0   2017-03-06 15:21:53.675241+00:00\n",
       "1   2016-12-02 16:44:21.329535+00:00\n",
       "2   2017-09-05 19:05:32.341360+00:00\n",
       "3   2016-11-01 16:53:33.561631+00:00\n",
       "4   2017-06-14 05:08:21.997315+00:00\n",
       "Name: created_date, dtype: datetime64[ns, UTC]"
      ]
     },
     "execution_count": 13,
     "metadata": {},
     "output_type": "execute_result"
    }
   ],
   "source": [
    "#convert created_date to datetime\n",
    "df['created_date'] = pd.to_datetime(df['created_date'], errors='coerce')\n",
    "df['date'] = df['created_date'].dt.date\n",
    "df['created_date'].head()"
   ]
  },
  {
   "cell_type": "code",
   "execution_count": 14,
   "id": "990c259f-1cfc-4c86-8972-c486f7a99511",
   "metadata": {},
   "outputs": [],
   "source": [
    "#List of identity columns\n",
    "identity_columns = ['male', 'female', 'transgender', 'other_gender', 'heterosexual', \n",
    "                    'homosexual_gay_or_lesbian', 'bisexual', 'other_sexual_orientation', \n",
    "                    'christian', 'jewish', 'muslim', 'hindu', 'buddhist', 'atheist', \n",
    "                    'other_religion', 'black', 'white', 'asian', 'latino', \n",
    "                    'other_race_or_ethnicity', 'physical_disability', \n",
    "                    'intellectual_or_learning_disability', 'psychiatric_or_mental_illness', \n",
    "                    'other_disability']"
   ]
  },
  {
   "cell_type": "code",
   "execution_count": 15,
   "id": "22abcddc-3cea-405c-a286-be0e16eb3bd9",
   "metadata": {},
   "outputs": [],
   "source": [
    "#check if any value in each row is True, use .any(axis=1)\n",
    "null_identity_rows = df[df[identity_columns].isnull().any(axis=1)]\n",
    "\n",
    "#extract unique dates from the filtered DataFrame\n",
    "null_identity_dates = null_identity_rows['created_date'].dt.date.unique()\n",
    "\n",
    "#Print the unique dates\n",
    "#print(null_identity_dates)"
   ]
  },
  {
   "cell_type": "markdown",
   "id": "6bd68876-f107-4de1-94cd-023255eb7fcd",
   "metadata": {},
   "source": [
    "null values are not from consistent dates as many dates are present. "
   ]
  },
  {
   "cell_type": "code",
   "execution_count": 16,
   "id": "552ac49c-dd3a-4098-a37a-efc10970b8ac",
   "metadata": {},
   "outputs": [
    {
     "name": "stdout",
     "output_type": "stream",
     "text": [
      "Number of rows where the value in the identity columns is 0: 1749934\n"
     ]
    }
   ],
   "source": [
    "#number of samples where idenity contains 0 as val\n",
    "zero_identity_count = (df[identity_columns].sum(axis=1) == 0).sum()\n",
    "\n",
    "#Print the count\n",
    "print(f\"Number of rows where the value in the identity columns is 0: {zero_identity_count}\")"
   ]
  },
  {
   "cell_type": "code",
   "execution_count": 17,
   "id": "170fab67-3fcf-4281-897b-345f360901f2",
   "metadata": {},
   "outputs": [
    {
     "name": "stdout",
     "output_type": "stream",
     "text": [
      "Number of rows where male is null if all other identity columns are null: 1551516\n",
      "Number of rows where female is null if all other identity columns are null: 1551516\n",
      "Number of rows where transgender is null if all other identity columns are null: 1551516\n",
      "Number of rows where other_gender is null if all other identity columns are null: 1551516\n",
      "Number of rows where heterosexual is null if all other identity columns are null: 1551516\n",
      "Number of rows where homosexual_gay_or_lesbian is null if all other identity columns are null: 1551516\n",
      "Number of rows where bisexual is null if all other identity columns are null: 1551516\n",
      "Number of rows where other_sexual_orientation is null if all other identity columns are null: 1551516\n",
      "Number of rows where christian is null if all other identity columns are null: 1551516\n",
      "Number of rows where jewish is null if all other identity columns are null: 1551516\n",
      "Number of rows where muslim is null if all other identity columns are null: 1551516\n",
      "Number of rows where hindu is null if all other identity columns are null: 1551516\n",
      "Number of rows where buddhist is null if all other identity columns are null: 1551516\n",
      "Number of rows where atheist is null if all other identity columns are null: 1551516\n",
      "Number of rows where other_religion is null if all other identity columns are null: 1551516\n",
      "Number of rows where black is null if all other identity columns are null: 1551516\n",
      "Number of rows where white is null if all other identity columns are null: 1551516\n",
      "Number of rows where asian is null if all other identity columns are null: 1551516\n",
      "Number of rows where latino is null if all other identity columns are null: 1551516\n",
      "Number of rows where other_race_or_ethnicity is null if all other identity columns are null: 1551516\n",
      "Number of rows where physical_disability is null if all other identity columns are null: 1551516\n",
      "Number of rows where intellectual_or_learning_disability is null if all other identity columns are null: 1551516\n",
      "Number of rows where psychiatric_or_mental_illness is null if all other identity columns are null: 1551516\n",
      "Number of rows where other_disability is null if all other identity columns are null: 1551516\n"
     ]
    }
   ],
   "source": [
    "for col in identity_columns:\n",
    "    #check if col is null when all other identity columns are null\n",
    "    is_null = df[col].isnull()\n",
    "    other_nulls = df[identity_columns].isnull().sum(axis=1) - is_null\n",
    "    is_unique_null = is_null & (other_nulls == len(identity_columns) - 1)\n",
    "    unique_null_count = is_unique_null.sum()\n",
    "    print(f\"Number of rows where {col} is null if all other identity columns are null: {unique_null_count}\")"
   ]
  },
  {
   "cell_type": "markdown",
   "id": "d1c5cced-01d0-4405-8cdb-5216601e35bc",
   "metadata": {},
   "source": [
    "Appears that when an identity column is null all other identity columns are null in the same row. Based on this and because there are identity column values where fraction of annotars is 0, it can inferred that null in identity columns across a sample represent comments that were not viewd by annotators to identify identity. This means that if idenitity tags are to be used in analysis this leaves a 32.41% sample of the total data. A possible way to work with identity tags may be to create an identifier column as to if the comment was viewed by an annotator to identify identity or not. The analysis of identity tags may have to be a seperate analysis as a sample of the data would be taken and cannot be compared to overall data distributions, and is not necessarily a representation of the data. Perhaps a solution to the appearance of identities in comments labeled as toxic could be found in the way the model recognizes the text. "
   ]
  },
  {
   "cell_type": "code",
   "execution_count": 18,
   "id": "dbe1a23e-babc-42fe-a9a9-7e4dbcd9304c",
   "metadata": {},
   "outputs": [
    {
     "name": "stdout",
     "output_type": "stream",
     "text": [
      "identity tags present, toxicity and attribues present:\n",
      "              id                                       comment_text  split  \\\n",
      "7678      627762  OH yes - Were those evil Christian Missionarie...  train   \n",
      "7679     5892815  Why is this black racist crap still on the G&M...  train   \n",
      "7680      416437                         even up here.......BLACKS!  train   \n",
      "7681     5137126  Blame men.  There's always an excuse to blame ...  train   \n",
      "7682      855753  And the woman exposing herself saying grab thi...  train   \n",
      "...          ...                                                ...    ...   \n",
      "1999511  1018736  Another man shamming article. If white men did...  train   \n",
      "1999512   340016  \"no matter what is put in front of you regardi...  train   \n",
      "1999513   919629  The Democrat party aided and abetted by it's M...  train   \n",
      "1999514  5165492  I just don't find her a very good representati...  train   \n",
      "1999515  4984105  You know the Trump fanatics are trolling the G...  train   \n",
      "\n",
      "                            created_date  publication_id  parent_id  \\\n",
      "7678    2016-11-26 15:56:03.862109+00:00              13   627198.0   \n",
      "7679    2017-09-03 23:20:08.226613+00:00              54        NaN   \n",
      "7680    2016-08-04 16:48:07.175252+00:00              21        NaN   \n",
      "7681    2017-04-15 19:00:45.032674+00:00              54  5136907.0   \n",
      "7682    2017-01-18 01:50:57.478867+00:00              13   849081.0   \n",
      "...                                  ...             ...        ...   \n",
      "1999511 2017-02-20 07:20:49.964620+00:00              54        NaN   \n",
      "1999512 2016-06-06 06:43:04.780968+00:00              21   339965.0   \n",
      "1999513 2017-01-30 02:44:29.168863+00:00              54        NaN   \n",
      "1999514 2017-04-22 18:42:02.442987+00:00              54        NaN   \n",
      "1999515 2017-03-10 00:55:35.369198+00:00              54   807615.0   \n",
      "\n",
      "         article_id    rating  funny  wow  ...  latino  \\\n",
      "7678         152737  approved      0    0  ...     0.0   \n",
      "7679         373428  rejected      0    0  ...     0.0   \n",
      "7680         143025  rejected      0    0  ...     0.0   \n",
      "7681         327125  rejected      0    0  ...     0.0   \n",
      "7682         162008  rejected      0    0  ...     0.0   \n",
      "...             ...       ...    ...  ...  ...     ...   \n",
      "1999511      169202  approved      0    0  ...     0.0   \n",
      "1999512      137961  approved      0    0  ...     0.0   \n",
      "1999513      164845  rejected      0    1  ...     0.0   \n",
      "1999514      328877  approved      1    0  ...     0.0   \n",
      "1999515      156960  approved      1    0  ...     0.0   \n",
      "\n",
      "         other_race_or_ethnicity  physical_disability  \\\n",
      "7678                         0.0             0.000000   \n",
      "7679                         0.0             0.000000   \n",
      "7680                         0.0             0.000000   \n",
      "7681                         0.0             0.000000   \n",
      "7682                         0.0             0.000000   \n",
      "...                          ...                  ...   \n",
      "1999511                      0.0             0.000000   \n",
      "1999512                      0.0             0.000000   \n",
      "1999513                      0.0             0.000000   \n",
      "1999514                      0.0             0.003717   \n",
      "1999515                      0.0             0.000000   \n",
      "\n",
      "         intellectual_or_learning_disability  psychiatric_or_mental_illness  \\\n",
      "7678                                     0.0                            0.0   \n",
      "7679                                     0.0                            0.0   \n",
      "7680                                     0.0                            0.0   \n",
      "7681                                     0.0                            0.0   \n",
      "7682                                     0.0                            0.0   \n",
      "...                                      ...                            ...   \n",
      "1999511                                  0.0                            0.0   \n",
      "1999512                                  0.0                            0.0   \n",
      "1999513                                  0.0                            0.0   \n",
      "1999514                                  0.0                            0.0   \n",
      "1999515                                  0.0                            0.0   \n",
      "\n",
      "         other_disability  identity_annotator_count  toxicity_annotator_count  \\\n",
      "7678              0.00000                         4                        10   \n",
      "7679              0.00000                         4                        70   \n",
      "7680              0.00000                         4                        61   \n",
      "7681              0.00000                         4                        11   \n",
      "7682              0.00000                         4                        70   \n",
      "...                   ...                       ...                       ...   \n",
      "1999511           0.00000                        10                        10   \n",
      "1999512           0.00000                        10                        10   \n",
      "1999513           0.00000                        11                        10   \n",
      "1999514           0.00000                       269                        10   \n",
      "1999515           0.00064                      1562                        10   \n",
      "\n",
      "         parent_id_present        date  \n",
      "7678                     1  2016-11-26  \n",
      "7679                     0  2017-09-03  \n",
      "7680                     0  2016-08-04  \n",
      "7681                     1  2017-04-15  \n",
      "7682                     1  2017-01-18  \n",
      "...                    ...         ...  \n",
      "1999511                  0  2017-02-20  \n",
      "1999512                  1  2016-06-06  \n",
      "1999513                  0  2017-01-30  \n",
      "1999514                  0  2017-04-22  \n",
      "1999515                  1  2017-03-10  \n",
      "\n",
      "[183603 rows x 48 columns]\n",
      "identity tags not present, toxicity and attributes present:\n",
      "              id                                       comment_text  split  \\\n",
      "0        1083994  He got his money... now he lies in wait till a...  train   \n",
      "1         650904  Mad dog will surely put the liberals in mental...  train   \n",
      "2        5902188  And Trump continues his lifelong cowardice by ...  train   \n",
      "3        7084460  \"while arresting a man for resisting arrest\".\\...   test   \n",
      "4        5410943     Tucker and Paul are both total bad ass mofo's.  train   \n",
      "...          ...                                                ...    ...   \n",
      "1997603  5271323  Every time Weaver opens his mouth he loses mor...  train   \n",
      "1997604   333735  I don't think of Trump supporters as very able...  train   \n",
      "1997605   748076  Why is membership in decline? Because of ungra...  train   \n",
      "1997606  6171744  Child, please. Trump's cult members have no le...  train   \n",
      "1997607  1030912                           Delinquents or suckers ?  train   \n",
      "\n",
      "                            created_date  publication_id  parent_id  \\\n",
      "0       2017-03-06 15:21:53.675241+00:00              21        NaN   \n",
      "1       2016-12-02 16:44:21.329535+00:00              21        NaN   \n",
      "2       2017-09-05 19:05:32.341360+00:00              55        NaN   \n",
      "3       2016-11-01 16:53:33.561631+00:00              13        NaN   \n",
      "4       2017-06-14 05:08:21.997315+00:00              21        NaN   \n",
      "...                                  ...             ...        ...   \n",
      "1997603 2017-05-18 06:04:25.318345+00:00              54  5270631.0   \n",
      "1997604 2016-05-31 20:52:20.247215+00:00              13   333642.0   \n",
      "1997605 2016-12-23 18:36:08.213358+00:00              21   739277.0   \n",
      "1997606 2017-10-18 16:23:17.876758+00:00             102  6171467.0   \n",
      "1997607 2017-02-22 20:18:12.835395+00:00              54  1030644.0   \n",
      "\n",
      "         article_id    rating  funny  wow  ...  latino  \\\n",
      "0            317120  approved      0    0  ...     NaN   \n",
      "1            154086  approved      0    0  ...     NaN   \n",
      "2            374342  approved      1    0  ...     NaN   \n",
      "3            149218  approved      0    0  ...     NaN   \n",
      "4            344096  approved      0    0  ...     NaN   \n",
      "...             ...       ...    ...  ...  ...     ...   \n",
      "1997603      335443  approved      0    0  ...     NaN   \n",
      "1997604      137755  rejected      0    0  ...     NaN   \n",
      "1997605      157733  approved      0    0  ...     NaN   \n",
      "1997606      390482  approved      0    0  ...     NaN   \n",
      "1997607      314143  approved      0    0  ...     NaN   \n",
      "\n",
      "         other_race_or_ethnicity  physical_disability  \\\n",
      "0                            NaN                  NaN   \n",
      "1                            NaN                  NaN   \n",
      "2                            NaN                  NaN   \n",
      "3                            NaN                  NaN   \n",
      "4                            NaN                  NaN   \n",
      "...                          ...                  ...   \n",
      "1997603                      NaN                  NaN   \n",
      "1997604                      NaN                  NaN   \n",
      "1997605                      NaN                  NaN   \n",
      "1997606                      NaN                  NaN   \n",
      "1997607                      NaN                  NaN   \n",
      "\n",
      "         intellectual_or_learning_disability  psychiatric_or_mental_illness  \\\n",
      "0                                        NaN                            NaN   \n",
      "1                                        NaN                            NaN   \n",
      "2                                        NaN                            NaN   \n",
      "3                                        NaN                            NaN   \n",
      "4                                        NaN                            NaN   \n",
      "...                                      ...                            ...   \n",
      "1997603                                  NaN                            NaN   \n",
      "1997604                                  NaN                            NaN   \n",
      "1997605                                  NaN                            NaN   \n",
      "1997606                                  NaN                            NaN   \n",
      "1997607                                  NaN                            NaN   \n",
      "\n",
      "         other_disability  identity_annotator_count  toxicity_annotator_count  \\\n",
      "0                     NaN                         0                        67   \n",
      "1                     NaN                         0                        76   \n",
      "2                     NaN                         0                        63   \n",
      "3                     NaN                         0                        76   \n",
      "4                     NaN                         0                        80   \n",
      "...                   ...                       ...                       ...   \n",
      "1997603               NaN                         0                        10   \n",
      "1997604               NaN                         0                        10   \n",
      "1997605               NaN                         0                        10   \n",
      "1997606               NaN                         0                        10   \n",
      "1997607               NaN                         0                        70   \n",
      "\n",
      "         parent_id_present        date  \n",
      "0                        0  2017-03-06  \n",
      "1                        0  2016-12-02  \n",
      "2                        0  2017-09-05  \n",
      "3                        0  2016-11-01  \n",
      "4                        0  2017-06-14  \n",
      "...                    ...         ...  \n",
      "1997603                  1  2017-05-18  \n",
      "1997604                  1  2016-05-31  \n",
      "1997605                  1  2016-12-23  \n",
      "1997606                  1  2017-10-18  \n",
      "1997607                  1  2017-02-22  \n",
      "\n",
      "[438770 rows x 48 columns]\n"
     ]
    }
   ],
   "source": [
    "#check occurence of toxicity attributes between samples that have idenity tags and columns that do not\n",
    "#~ -> is not , .gt() -> greater than, use .any(axis=1) -> check for True in elements of row\n",
    "identity_not_null_toxic = df[(~df[identity_columns].isnull().any(axis=1)) & (df[['toxicity', 'severe_toxicity', 'obscene',\n",
    "                                                                                  'sexual_explicit', 'identity_attack', 'insult',\n",
    "                                                                                  'threat']].gt(0).any(axis=1))]\n",
    "identity_null_toxic = df[(df[identity_columns].isnull().any(axis=1)) & (df[['toxicity', 'severe_toxicity', 'obscene',\n",
    "                                                                                  'sexual_explicit', 'identity_attack', 'insult',\n",
    "                                                                                  'threat']].gt(0).any(axis=1))]\n",
    "print(\"identity tags present, toxicity and attribues present:\")\n",
    "print(identity_not_null_toxic)\n",
    "print(\"identity tags not present, toxicity and attributes present:\")\n",
    "print(identity_null_toxic)"
   ]
  },
  {
   "cell_type": "code",
   "execution_count": 20,
   "id": "c6b114fb-7ada-459a-beba-b2993fa4657b",
   "metadata": {},
   "outputs": [
    {
     "name": "stdout",
     "output_type": "stream",
     "text": [
      "Total number of samples where at least one toxicity attribute is greater than 0:\n",
      "Identity columns not null: 183603\n",
      "Identity columns null: 438770\n"
     ]
    }
   ],
   "source": [
    "tot_ident_notnull_toxic_samples = len(identity_not_null_toxic)\n",
    "tot_ident_null_toxic_samples = len(identity_null_toxic)\n",
    "\n",
    "print(\"Total number of samples where at least one toxicity attribute is greater than 0:\")\n",
    "print(\"Identity columns not null:\", tot_ident_notnull_toxic_samples)\n",
    "print(\"Identity columns null:\", tot_ident_null_toxic_samples)"
   ]
  },
  {
   "cell_type": "code",
   "execution_count": 24,
   "id": "b6a0fb66-2fab-4228-99ba-17fe0f16fc83",
   "metadata": {},
   "outputs": [
    {
     "name": "stdout",
     "output_type": "stream",
     "text": [
      "Percent labeled with toxic attribute out of data with no identity tags:28.28 %\n",
      "Percent labeled with toxic attribute out of subset of data with identity tags:4.1e+01%\n"
     ]
    }
   ],
   "source": [
    "#Percentages of respective samples; subset with identity tags, subset without, that have toxicity attributes\n",
    "#calculate the total number of samples where at least one toxicity attribute is greater than 0 for each condition\n",
    "#filter the df\n",
    "tot_ident_null_toxic_samples = len(identity_null_toxic[identity_null_toxic[['toxicity', 'severe_toxicity', \n",
    "                                                                            'obscene', 'sexual_explicit', 'identity_attack',\n",
    "                                                                            'insult', 'threat']].gt(0).any(axis=1)])\n",
    "tot_ident_notnull_toxic_samples = len(identity_not_null_toxic[identity_not_null_toxic[['toxicity', 'severe_toxicity', \n",
    "                                                                                       'obscene', 'sexual_explicit', \n",
    "                                                                                       'identity_attack', 'insult', \n",
    "                                                                                       'threat']].gt(0).any(axis=1)])\n",
    "\n",
    "#calculate the percentage of samples labeled with toxic attribute out of data with no identity tags and subset of data with identity tags\n",
    "per_null_ident_sample_toxic = (tot_ident_null_toxic_samples / len(null_identity_rows)) * 100\n",
    "per_nonnull_ident_sample_toxic = (tot_ident_notnull_toxic_samples / (len(df) - len(null_identity_rows))) * 100\n",
    "\n",
    "print(f'Percent labeled with toxic attribute out of data with no identity tags:{per_null_ident_sample_toxic:.2f} %')\n",
    "print(f'Percent labeled with toxic attribute out of subset of data with identity tags:{per_nonnull_ident_sample_toxic:.2}%')"
   ]
  },
  {
   "cell_type": "markdown",
   "id": "8a4f1e40-7bee-41b2-a7e4-f15e6f28ed60",
   "metadata": {},
   "source": [
    "It seems that the percentage of data labeled with a toxic attribute is higher in the subset of data where there are no identity tags compared to the subset where there are identity tags present. In each subset of the data there is a high class imbalance. "
   ]
  },
  {
   "cell_type": "markdown",
   "id": "8d77c1de-26d8-43ae-8b0d-63de8e82dafc",
   "metadata": {},
   "source": [
    "**comment_text**"
   ]
  },
  {
   "cell_type": "code",
   "execution_count": 31,
   "id": "d796b6d7-0570-4467-805d-6a3975056c90",
   "metadata": {},
   "outputs": [
    {
     "data": {
      "text/plain": [
       "4"
      ]
     },
     "execution_count": 31,
     "metadata": {},
     "output_type": "execute_result"
    }
   ],
   "source": [
    "df['comment_text'].isnull().sum()"
   ]
  },
  {
   "cell_type": "code",
   "execution_count": 32,
   "id": "05f6bd77-05e4-4ebd-8470-d25ddf159ad4",
   "metadata": {},
   "outputs": [],
   "source": [
    "#drop 4 rows where comment text is null\n",
    "df =df.dropna(subset=['comment_text'])"
   ]
  },
  {
   "cell_type": "markdown",
   "id": "09adea40-368f-4c0f-b4c6-a73955b02cf1",
   "metadata": {},
   "source": [
    "## Toxic Attributes"
   ]
  },
  {
   "cell_type": "code",
   "execution_count": 36,
   "id": "9304e2dc-5793-4b1b-94d0-d17c3713c97c",
   "metadata": {},
   "outputs": [
    {
     "data": {
      "text/plain": [
       "0    0.373134\n",
       "1    0.605263\n",
       "Name: toxicity, dtype: float64"
      ]
     },
     "execution_count": 36,
     "metadata": {},
     "output_type": "execute_result"
    }
   ],
   "source": [
    "df['toxicity'].head(2)"
   ]
  },
  {
   "cell_type": "code",
   "execution_count": 61,
   "id": "c4db5347-782c-410e-a888-92523a8a797c",
   "metadata": {},
   "outputs": [],
   "source": [
    "toxicity_columns = ['toxicity', 'severe_toxicity', 'obscene', 'sexual_explicit', 'identity_attack', 'insult', 'threat']"
   ]
  },
  {
   "cell_type": "code",
   "execution_count": 39,
   "id": "50243820-dcc4-4784-80ab-60c6bb4b0f1d",
   "metadata": {},
   "outputs": [
    {
     "name": "stdout",
     "output_type": "stream",
     "text": [
      "24619\n"
     ]
    }
   ],
   "source": [
    "#check that if toxicity attribute is present, toxcity for sample >0 , .gt(0) -> greater than zero\n",
    "toxicity_zero_check = df[(df[['severe_toxicity', 'obscene', 'sexual_explicit', 'identity_attack', \n",
    "                              'insult', 'threat']].gt(0).any(axis=1)) & (df['toxicity'] == 0)]\n",
    "toxicity_zero_attribute_count = len(toxicity_zero_check)\n",
    "#display the rows where at least one toxic attribute is present but toxicity is 0\n",
    "print(toxicity_zero_attribute_count)"
   ]
  },
  {
   "cell_type": "markdown",
   "id": "ba8300cb-f206-4515-b19c-f7d6bafb772b",
   "metadata": {},
   "source": [
    "Appears that toxicity attributes are not necissarily a subset of toxicity, as there are samples where values in toxicity attribute columns are greater than 0 and toxicity is 0. "
   ]
  },
  {
   "cell_type": "markdown",
   "id": "3c84a644-e93b-4d31-b574-ec9813ca6dc5",
   "metadata": {},
   "source": [
    "For distributions of toxic attribues see notebook: EDA_data_bias_Arman"
   ]
  },
  {
   "cell_type": "code",
   "execution_count": 42,
   "id": "889b020f-ca09-4d7a-8809-6d9a77e75f9c",
   "metadata": {},
   "outputs": [],
   "source": [
    "def calculate_toxicity_proportions(df):\n",
    "    \"\"\"\n",
    "    Calculate the proportions of data labeled with each toxic attribute.\n",
    "    Args:\n",
    "    - df: DataFrame containing the toxic attribute columns\n",
    "\n",
    "    Returns:\n",
    "    - proportions: Dictionary containing the proportions for each toxic attribute\n",
    "    \"\"\"\n",
    "    proportions = {}\n",
    "    toxic_attributes = ['toxicity', 'severe_toxicity', 'obscene',\n",
    "                        'sexual_explicit', 'identity_attack',\n",
    "                        'insult', 'threat']\n",
    "\n",
    "    for attribute in toxic_attributes:\n",
    "        proportion = df[attribute].gt(0).mean() * 100\n",
    "        proportions[attribute] = proportion\n",
    "\n",
    "    return proportions"
   ]
  },
  {
   "cell_type": "code",
   "execution_count": 43,
   "id": "279fe62d-2a51-4fa0-80e8-8e34a3aed963",
   "metadata": {
    "scrolled": true
   },
   "outputs": [
    {
     "name": "stdout",
     "output_type": "stream",
     "text": [
      "Proportion of data labeled with toxicity: 29.89%\n",
      "Proportion of data labeled with severe_toxicity: 5.79%\n",
      "Proportion of data labeled with obscene: 8.15%\n",
      "Proportion of data labeled with sexual_explicit: 3.81%\n",
      "Proportion of data labeled with identity_attack: 12.08%\n",
      "Proportion of data labeled with insult: 25.17%\n",
      "Proportion of data labeled with threat: 5.91%\n"
     ]
    }
   ],
   "source": [
    "toxicity_proportions = calculate_toxicity_proportions(df)\n",
    "\n",
    "for attribute, proportion in toxicity_proportions.items():\n",
    "    print(f\"Proportion of data labeled with {attribute}: {proportion:.2f}%\")"
   ]
  },
  {
   "cell_type": "code",
   "execution_count": 45,
   "id": "d8fd734c-d041-4f8a-8053-2389411b824a",
   "metadata": {},
   "outputs": [
    {
     "data": {
      "text/html": [
       "<div>\n",
       "<style scoped>\n",
       "    .dataframe tbody tr th:only-of-type {\n",
       "        vertical-align: middle;\n",
       "    }\n",
       "\n",
       "    .dataframe tbody tr th {\n",
       "        vertical-align: top;\n",
       "    }\n",
       "\n",
       "    .dataframe thead th {\n",
       "        text-align: right;\n",
       "    }\n",
       "</style>\n",
       "<table border=\"1\" class=\"dataframe\">\n",
       "  <thead>\n",
       "    <tr style=\"text-align: right;\">\n",
       "      <th></th>\n",
       "      <th>toxicity</th>\n",
       "      <th>severe_toxicity</th>\n",
       "      <th>obscene</th>\n",
       "      <th>sexual_explicit</th>\n",
       "      <th>identity_attack</th>\n",
       "      <th>insult</th>\n",
       "      <th>threat</th>\n",
       "    </tr>\n",
       "  </thead>\n",
       "  <tbody>\n",
       "    <tr>\n",
       "      <th>count</th>\n",
       "      <td>1.999512e+06</td>\n",
       "      <td>1.999512e+06</td>\n",
       "      <td>1.999512e+06</td>\n",
       "      <td>1.999512e+06</td>\n",
       "      <td>1.999512e+06</td>\n",
       "      <td>1.999512e+06</td>\n",
       "      <td>1.999512e+06</td>\n",
       "    </tr>\n",
       "    <tr>\n",
       "      <th>mean</th>\n",
       "      <td>1.029243e-01</td>\n",
       "      <td>4.580572e-03</td>\n",
       "      <td>1.389048e-02</td>\n",
       "      <td>6.562444e-03</td>\n",
       "      <td>2.254904e-02</td>\n",
       "      <td>8.113811e-02</td>\n",
       "      <td>9.280951e-03</td>\n",
       "    </tr>\n",
       "    <tr>\n",
       "      <th>std</th>\n",
       "      <td>1.970388e-01</td>\n",
       "      <td>2.285762e-02</td>\n",
       "      <td>6.466382e-02</td>\n",
       "      <td>4.511181e-02</td>\n",
       "      <td>7.854030e-02</td>\n",
       "      <td>1.760994e-01</td>\n",
       "      <td>4.933788e-02</td>\n",
       "    </tr>\n",
       "    <tr>\n",
       "      <th>min</th>\n",
       "      <td>0.000000e+00</td>\n",
       "      <td>0.000000e+00</td>\n",
       "      <td>0.000000e+00</td>\n",
       "      <td>0.000000e+00</td>\n",
       "      <td>0.000000e+00</td>\n",
       "      <td>0.000000e+00</td>\n",
       "      <td>0.000000e+00</td>\n",
       "    </tr>\n",
       "    <tr>\n",
       "      <th>25%</th>\n",
       "      <td>0.000000e+00</td>\n",
       "      <td>0.000000e+00</td>\n",
       "      <td>0.000000e+00</td>\n",
       "      <td>0.000000e+00</td>\n",
       "      <td>0.000000e+00</td>\n",
       "      <td>0.000000e+00</td>\n",
       "      <td>0.000000e+00</td>\n",
       "    </tr>\n",
       "    <tr>\n",
       "      <th>50%</th>\n",
       "      <td>0.000000e+00</td>\n",
       "      <td>0.000000e+00</td>\n",
       "      <td>0.000000e+00</td>\n",
       "      <td>0.000000e+00</td>\n",
       "      <td>0.000000e+00</td>\n",
       "      <td>0.000000e+00</td>\n",
       "      <td>0.000000e+00</td>\n",
       "    </tr>\n",
       "    <tr>\n",
       "      <th>75%</th>\n",
       "      <td>1.666667e-01</td>\n",
       "      <td>0.000000e+00</td>\n",
       "      <td>0.000000e+00</td>\n",
       "      <td>0.000000e+00</td>\n",
       "      <td>0.000000e+00</td>\n",
       "      <td>8.474576e-02</td>\n",
       "      <td>0.000000e+00</td>\n",
       "    </tr>\n",
       "    <tr>\n",
       "      <th>max</th>\n",
       "      <td>1.000000e+00</td>\n",
       "      <td>1.000000e+00</td>\n",
       "      <td>1.000000e+00</td>\n",
       "      <td>1.000000e+00</td>\n",
       "      <td>1.000000e+00</td>\n",
       "      <td>1.000000e+00</td>\n",
       "      <td>1.000000e+00</td>\n",
       "    </tr>\n",
       "  </tbody>\n",
       "</table>\n",
       "</div>"
      ],
      "text/plain": [
       "           toxicity  severe_toxicity       obscene  sexual_explicit  \\\n",
       "count  1.999512e+06     1.999512e+06  1.999512e+06     1.999512e+06   \n",
       "mean   1.029243e-01     4.580572e-03  1.389048e-02     6.562444e-03   \n",
       "std    1.970388e-01     2.285762e-02  6.466382e-02     4.511181e-02   \n",
       "min    0.000000e+00     0.000000e+00  0.000000e+00     0.000000e+00   \n",
       "25%    0.000000e+00     0.000000e+00  0.000000e+00     0.000000e+00   \n",
       "50%    0.000000e+00     0.000000e+00  0.000000e+00     0.000000e+00   \n",
       "75%    1.666667e-01     0.000000e+00  0.000000e+00     0.000000e+00   \n",
       "max    1.000000e+00     1.000000e+00  1.000000e+00     1.000000e+00   \n",
       "\n",
       "       identity_attack        insult        threat  \n",
       "count     1.999512e+06  1.999512e+06  1.999512e+06  \n",
       "mean      2.254904e-02  8.113811e-02  9.280951e-03  \n",
       "std       7.854030e-02  1.760994e-01  4.933788e-02  \n",
       "min       0.000000e+00  0.000000e+00  0.000000e+00  \n",
       "25%       0.000000e+00  0.000000e+00  0.000000e+00  \n",
       "50%       0.000000e+00  0.000000e+00  0.000000e+00  \n",
       "75%       0.000000e+00  8.474576e-02  0.000000e+00  \n",
       "max       1.000000e+00  1.000000e+00  1.000000e+00  "
      ]
     },
     "execution_count": 45,
     "metadata": {},
     "output_type": "execute_result"
    }
   ],
   "source": [
    "df[['toxicity', 'severe_toxicity', 'obscene', 'sexual_explicit',\n",
    "                     'identity_attack', 'insult', 'threat']].describe()"
   ]
  },
  {
   "cell_type": "code",
   "execution_count": 48,
   "id": "52723a56-58ee-4a0f-8383-6dce0c2b687f",
   "metadata": {
    "scrolled": true
   },
   "outputs": [
    {
     "data": {
      "image/png": "[encoded data removed]",
      "text/plain": [
       "<Figure size 1200x600 with 1 Axes>"
      ]
     },
     "metadata": {},
     "output_type": "display_data"
    }
   ],
   "source": [
    "#calculate and plot the means of ea. toxicity attribute (including toxicity)\n",
    "mean_toxicity = df[['toxicity', 'severe_toxicity', 'obscene', 'sexual_explicit',\n",
    "                     'identity_attack', 'insult', 'threat']].mean()\n",
    "\n",
    "plt.figure(figsize=(12, 6))\n",
    "mean_toxicity.plot(kind='bar', color='skyblue')\n",
    "plt.xlabel('Toxic Attribute')\n",
    "plt.ylabel('Mean Fraction of Raters Who Rated Comment as Attribute')\n",
    "plt.title('Mean Fraction of Raters for Each Attribute')\n",
    "plt.xticks(rotation=45)\n",
    "plt.show()"
   ]
  },
  {
   "cell_type": "code",
   "execution_count": 50,
   "id": "8e7bf7d9-dae1-4fef-b20a-21d29890216f",
   "metadata": {},
   "outputs": [
    {
     "name": "stdout",
     "output_type": "stream",
     "text": [
      "Total percentage of data where at least one toxic attribute is greater than 0: 31.13%\n"
     ]
    }
   ],
   "source": [
    "#total percentage of data where at least one  toxic attribute had a fraction of raters > 0\n",
    "total_samples = len(df)\n",
    "toxic_samples = len(df[df[['toxicity', 'severe_toxicity', 'obscene', 'sexual_explicit',\n",
    "                           'identity_attack', 'insult', 'threat']].gt(0).any(axis=1)])\n",
    "percentage_toxic = (toxic_samples / total_samples) * 100\n",
    "print(f\"Total percentage of data where at least one toxic attribute is greater than 0: {percentage_toxic:.2f}%\")"
   ]
  },
  {
   "cell_type": "markdown",
   "id": "fc8215c2-7e6c-4259-89f3-413f674a4de7",
   "metadata": {},
   "source": [
    "See corr heatmap(in annotations), for correlations of toxic attribues with each other, as well as toxicity annotator count"
   ]
  },
  {
   "cell_type": "code",
   "execution_count": 62,
   "id": "02843db9-dac7-4d0c-be9f-809a715436bb",
   "metadata": {
    "scrolled": true
   },
   "outputs": [
    {
     "name": "stdout",
     "output_type": "stream",
     "text": [
      "Correlation between 'toxicity' and 'severe_toxicity':\n",
      "Pearson's r: 0.3935726036625576, p-value: 0.0\n",
      "The correlation is statistically significant.\n",
      "\n",
      "Correlation between 'toxicity' and 'obscene':\n",
      "Pearson's r: 0.493171775659351, p-value: 0.0\n",
      "The correlation is statistically significant.\n",
      "\n",
      "Correlation between 'toxicity' and 'sexual_explicit':\n",
      "Pearson's r: 0.2520597211982859, p-value: 0.0\n",
      "The correlation is statistically significant.\n",
      "\n",
      "Correlation between 'toxicity' and 'identity_attack':\n",
      "Pearson's r: 0.44950536697034205, p-value: 0.0\n",
      "The correlation is statistically significant.\n",
      "\n",
      "Correlation between 'toxicity' and 'insult':\n",
      "Pearson's r: 0.9284040387755025, p-value: 0.0\n",
      "The correlation is statistically significant.\n",
      "\n",
      "Correlation between 'toxicity' and 'threat':\n",
      "Pearson's r: 0.2873923735427403, p-value: 0.0\n",
      "The correlation is statistically significant.\n",
      "\n",
      "Correlation between 'severe_toxicity' and 'obscene':\n",
      "Pearson's r: 0.3411826923897801, p-value: 0.0\n",
      "The correlation is statistically significant.\n",
      "\n",
      "Correlation between 'severe_toxicity' and 'sexual_explicit':\n",
      "Pearson's r: 0.19713398247647168, p-value: 0.0\n",
      "The correlation is statistically significant.\n",
      "\n",
      "Correlation between 'severe_toxicity' and 'identity_attack':\n",
      "Pearson's r: 0.25699952405821186, p-value: 0.0\n",
      "The correlation is statistically significant.\n",
      "\n",
      "Correlation between 'severe_toxicity' and 'insult':\n",
      "Pearson's r: 0.32517467658008026, p-value: 0.0\n",
      "The correlation is statistically significant.\n",
      "\n",
      "Correlation between 'severe_toxicity' and 'threat':\n",
      "Pearson's r: 0.277295133419164, p-value: 0.0\n",
      "The correlation is statistically significant.\n",
      "\n",
      "Correlation between 'obscene' and 'sexual_explicit':\n",
      "Pearson's r: 0.33365283301250237, p-value: 0.0\n",
      "The correlation is statistically significant.\n",
      "\n",
      "Correlation between 'obscene' and 'identity_attack':\n",
      "Pearson's r: 0.12451387676621774, p-value: 0.0\n",
      "The correlation is statistically significant.\n",
      "\n",
      "Correlation between 'obscene' and 'insult':\n",
      "Pearson's r: 0.4270322264102043, p-value: 0.0\n",
      "The correlation is statistically significant.\n",
      "\n",
      "Correlation between 'obscene' and 'threat':\n",
      "Pearson's r: 0.09080970762444832, p-value: 0.0\n",
      "The correlation is statistically significant.\n",
      "\n",
      "Correlation between 'sexual_explicit' and 'identity_attack':\n",
      "Pearson's r: 0.11800554844976127, p-value: 0.0\n",
      "The correlation is statistically significant.\n",
      "\n",
      "Correlation between 'sexual_explicit' and 'insult':\n",
      "Pearson's r: 0.14502262037419122, p-value: 0.0\n",
      "The correlation is statistically significant.\n",
      "\n",
      "Correlation between 'sexual_explicit' and 'threat':\n",
      "Pearson's r: 0.0882832496618789, p-value: 0.0\n",
      "The correlation is statistically significant.\n",
      "\n",
      "Correlation between 'identity_attack' and 'insult':\n",
      "Pearson's r: 0.31060844692140493, p-value: 0.0\n",
      "The correlation is statistically significant.\n",
      "\n",
      "Correlation between 'identity_attack' and 'threat':\n",
      "Pearson's r: 0.1461489125019736, p-value: 0.0\n",
      "The correlation is statistically significant.\n",
      "\n",
      "Correlation between 'insult' and 'threat':\n",
      "Pearson's r: 0.10855844074568208, p-value: 0.0\n",
      "The correlation is statistically significant.\n",
      "\n"
     ]
    }
   ],
   "source": [
    "#calculate Pearson's r and p-value for each pair of columns\n",
    "for i in range(len(toxicity_columns)):\n",
    "    for j in range(i+1, len(toxicity_columns)):\n",
    "        col1 = toxicity_columns[i]\n",
    "        col2 = toxicity_columns[j]\n",
    "        r, p_value = pearsonr(df[col1], df[col2])\n",
    "        print(f\"Correlation between '{col1}' and '{col2}':\")\n",
    "        print(f\"Pearson's r: {r}, p-value: {p_value}\")\n",
    "        if p_value < 0.05:\n",
    "            print(\"The correlation is statistically significant.\\n\")\n",
    "        else:\n",
    "            print(\"The correlation is not statistically significant.\\n\")"
   ]
  },
  {
   "cell_type": "markdown",
   "id": "7d7e6d96-82be-40eb-8326-b6db0226ee1a",
   "metadata": {},
   "source": [
    "It would be expected that there are correlations between toxicity attributes, and it is validated that these correlations are statistically significant. "
   ]
  },
  {
   "cell_type": "markdown",
   "id": "756a4bbe-9665-46c8-a247-7a2d3ebe3e0f",
   "metadata": {},
   "source": [
    "## Text Comments"
   ]
  },
  {
   "cell_type": "code",
   "execution_count": 30,
   "id": "38dc3c0e-e2aa-4b81-9eee-8dabb3c17335",
   "metadata": {},
   "outputs": [
    {
     "name": "stdout",
     "output_type": "stream",
     "text": [
      "<class 'pandas.core.series.Series'>\n",
      "RangeIndex: 1999516 entries, 0 to 1999515\n",
      "Series name: comment_text\n",
      "Non-Null Count    Dtype \n",
      "--------------    ----- \n",
      "1999512 non-null  object\n",
      "dtypes: object(1)\n",
      "memory usage: 15.3+ MB\n"
     ]
    }
   ],
   "source": [
    "df['comment_text'].info()"
   ]
  },
  {
   "cell_type": "code",
   "execution_count": 33,
   "id": "4138a111-3bb7-4a93-a178-705d43337dc4",
   "metadata": {},
   "outputs": [],
   "source": [
    "#look at distribution of text length\n",
    "df['text_length'] =df['comment_text'].apply(len)"
   ]
  },
  {
   "cell_type": "code",
   "execution_count": 34,
   "id": "fb3d8f00-e836-4670-b98a-b1e562bf34db",
   "metadata": {},
   "outputs": [
    {
     "data": {
      "image/png": "[encoded data removed]",
      "text/plain": [
       "<Figure size 1000x600 with 1 Axes>"
      ]
     },
     "metadata": {},
     "output_type": "display_data"
    }
   ],
   "source": [
    "plt.figure(figsize=(10, 6))\n",
    "plt.hist(df['text_length'], bins=50, color='skyblue', edgecolor='black')\n",
    "plt.xlabel('Text Length')\n",
    "plt.ylabel('Frequency')\n",
    "plt.title('Distribution of Text Lengths')\n",
    "plt.show()"
   ]
  },
  {
   "cell_type": "markdown",
   "id": "4af9cede-3b5c-47eb-a6ec-4581e7c3ee38",
   "metadata": {},
   "source": [
    "Further EDA of Text comments in relation to toxicity that can be done: \n",
    "- text length corr with toxicity\n",
    "- word count distribution\n",
    "- common words analysis\n",
    "- n-grams\n",
    "- sentiment analysis\n",
    "- topic modelling\n",
    "- text preprocessing\n",
    "\n",
    "This will be revisited if it is decided to use this dataset for Machine learning in identifying toxicity. "
   ]
  },
  {
   "cell_type": "markdown",
   "id": "2d33c8e6-9689-43af-a726-fc8a9c19c718",
   "metadata": {},
   "source": [
    "## Identity and Toxicity"
   ]
  },
  {
   "cell_type": "markdown",
   "id": "d5fb15f2-3c0f-43e5-982a-306b7a199094",
   "metadata": {},
   "source": [
    "EDA can be done on subset of identity data in relation to toxicity: \n",
    "- Distribution of Identity labels (fractions of annotators that identified comment as containing identity label)\n",
    "- Counts of Indentity labels in subset\n",
    "- Identity and relationship to toxicity attributes, investigate whether comments that conatin specific identity attributes are more likely to be labeled as toxic compared to comments without attributes. \n",
    "- Intersectionality of identies and association with toxicity (Co-occurence and toxicity)\n",
    "- Toxicity attributes distribution by identity\n",
    "  "
   ]
  },
  {
   "cell_type": "markdown",
   "id": "7bedc7ba-86f7-4fe1-9f75-91736d2a3ee2",
   "metadata": {},
   "source": [
    "## Annotation\n"
   ]
  },
  {
   "cell_type": "markdown",
   "id": "83b5a105-3efa-4b0e-bc77-bc2fc2d74fa5",
   "metadata": {},
   "source": [
    "From documentation: \"To obtain the toxicity labels, each comment was shown to up to 10 annotators*. Annotators were asked to: \"Rate the toxicity of this comment\""
   ]
  },
  {
   "cell_type": "code",
   "execution_count": 52,
   "id": "9097157f-fc04-4992-b205-4654967ce570",
   "metadata": {
    "scrolled": true
   },
   "outputs": [
    {
     "data": {
      "text/html": [
       "<div>\n",
       "<style scoped>\n",
       "    .dataframe tbody tr th:only-of-type {\n",
       "        vertical-align: middle;\n",
       "    }\n",
       "\n",
       "    .dataframe tbody tr th {\n",
       "        vertical-align: top;\n",
       "    }\n",
       "\n",
       "    .dataframe thead th {\n",
       "        text-align: right;\n",
       "    }\n",
       "</style>\n",
       "<table border=\"1\" class=\"dataframe\">\n",
       "  <thead>\n",
       "    <tr style=\"text-align: right;\">\n",
       "      <th></th>\n",
       "      <th>identity_annotator_count</th>\n",
       "      <th>toxicity_annotator_count</th>\n",
       "    </tr>\n",
       "  </thead>\n",
       "  <tbody>\n",
       "    <tr>\n",
       "      <th>count</th>\n",
       "      <td>1.999512e+06</td>\n",
       "      <td>1.999512e+06</td>\n",
       "    </tr>\n",
       "    <tr>\n",
       "      <th>mean</th>\n",
       "      <td>1.431666e+00</td>\n",
       "      <td>8.775729e+00</td>\n",
       "    </tr>\n",
       "    <tr>\n",
       "      <th>std</th>\n",
       "      <td>1.763595e+01</td>\n",
       "      <td>4.331609e+01</td>\n",
       "    </tr>\n",
       "    <tr>\n",
       "      <th>min</th>\n",
       "      <td>0.000000e+00</td>\n",
       "      <td>3.000000e+00</td>\n",
       "    </tr>\n",
       "    <tr>\n",
       "      <th>25%</th>\n",
       "      <td>0.000000e+00</td>\n",
       "      <td>4.000000e+00</td>\n",
       "    </tr>\n",
       "    <tr>\n",
       "      <th>50%</th>\n",
       "      <td>0.000000e+00</td>\n",
       "      <td>4.000000e+00</td>\n",
       "    </tr>\n",
       "    <tr>\n",
       "      <th>75%</th>\n",
       "      <td>0.000000e+00</td>\n",
       "      <td>6.000000e+00</td>\n",
       "    </tr>\n",
       "    <tr>\n",
       "      <th>max</th>\n",
       "      <td>1.866000e+03</td>\n",
       "      <td>4.936000e+03</td>\n",
       "    </tr>\n",
       "  </tbody>\n",
       "</table>\n",
       "</div>"
      ],
      "text/plain": [
       "       identity_annotator_count  toxicity_annotator_count\n",
       "count              1.999512e+06              1.999512e+06\n",
       "mean               1.431666e+00              8.775729e+00\n",
       "std                1.763595e+01              4.331609e+01\n",
       "min                0.000000e+00              3.000000e+00\n",
       "25%                0.000000e+00              4.000000e+00\n",
       "50%                0.000000e+00              4.000000e+00\n",
       "75%                0.000000e+00              6.000000e+00\n",
       "max                1.866000e+03              4.936000e+03"
      ]
     },
     "execution_count": 52,
     "metadata": {},
     "output_type": "execute_result"
    }
   ],
   "source": [
    "df[['identity_annotator_count','toxicity_annotator_count']].describe()"
   ]
  },
  {
   "cell_type": "markdown",
   "id": "269d98f3-f112-4090-aa2e-7d5d9101eeb7",
   "metadata": {},
   "source": [
    "In looking at some examples of values in column down below and descriptive stats of annotator count columns, it seems that there are possibly outliers or errors in the data. "
   ]
  },
  {
   "cell_type": "code",
   "execution_count": 54,
   "id": "e0e37481-247d-41ce-ad04-8be454ed0244",
   "metadata": {},
   "outputs": [
    {
     "data": {
      "text/plain": [
       "0          67\n",
       "1          76\n",
       "2          63\n",
       "3          76\n",
       "4          80\n",
       "           ..\n",
       "1999511    10\n",
       "1999512    10\n",
       "1999513    10\n",
       "1999514    10\n",
       "1999515    10\n",
       "Name: toxicity_annotator_count, Length: 1999512, dtype: int64"
      ]
     },
     "execution_count": 54,
     "metadata": {},
     "output_type": "execute_result"
    }
   ],
   "source": [
    "df['toxicity_annotator_count']"
   ]
  },
  {
   "cell_type": "code",
   "execution_count": 56,
   "id": "0c5c3f02-383f-473a-8169-48debdec90b1",
   "metadata": {},
   "outputs": [
    {
     "data": {
      "image/png": "[encoded data removed]",
      "text/plain": [
       "<Figure size 1200x600 with 1 Axes>"
      ]
     },
     "metadata": {},
     "output_type": "display_data"
    },
    {
     "data": {
      "image/png": "[encoded data removed]",
      "text/plain": [
       "<Figure size 1200x600 with 1 Axes>"
      ]
     },
     "metadata": {},
     "output_type": "display_data"
    }
   ],
   "source": [
    "plt.figure(figsize=(12, 6))\n",
    "sns.histplot(data=df, x='identity_annotator_count', bins=30, color='skyblue', kde=True)\n",
    "plt.title('Histogram of Identity Annotator Count')\n",
    "plt.xlabel('Number of Annotators')\n",
    "plt.ylabel('Frequency')\n",
    "plt.ylim(0, 50000)  # Adjust the y-axis limits as needed\n",
    "plt.show()\n",
    "\n",
    "plt.figure(figsize=(12, 6))\n",
    "sns.histplot(data=df, x='toxicity_annotator_count', bins=30, color='salmon', kde=True)\n",
    "plt.title('Histogram of Toxicity Annotator Count')\n",
    "plt.xlabel('Number of Annotators')\n",
    "plt.ylabel('Frequency')\n",
    "plt.ylim(0, 50000)  # Adjust the y-axis limits as needed\n",
    "plt.show()"
   ]
  },
  {
   "cell_type": "markdown",
   "id": "42b70265-16fb-4cc6-b1af-fb7734f7d169",
   "metadata": {},
   "source": [
    "In looking at histograms of Annotator count columns and the descriptive statistics it seems that a large portion of annotator counts for both Toxicity and Identity have a value of 0 or close to 0. There is a discrepency in the max and min values seen in the descriptive statistics, this suggests possible outliers and or errors in the data. This may be further looked into if it is decided to use dataset. "
   ]
  },
  {
   "cell_type": "code",
   "execution_count": 57,
   "id": "96856600-b2e0-4dc7-9129-32ce2d83bc63",
   "metadata": {
    "scrolled": true
   },
   "outputs": [
    {
     "data": {
      "image/png": "[encoded data removed]",
      "text/plain": [
       "<Figure size 1200x800 with 2 Axes>"
      ]
     },
     "metadata": {},
     "output_type": "display_data"
    }
   ],
   "source": [
    "#correlation matrix\n",
    "correlation_matrix = df[['toxicity_annotator_count', 'toxicity', 'severe_toxicity', \n",
    "                         'obscene', 'sexual_explicit', 'identity_attack', \n",
    "                         'insult', 'threat']].corr()\n",
    "\n",
    "#heatmap\n",
    "plt.figure(figsize=(12, 8))\n",
    "sns.heatmap(correlation_matrix, annot=True, cmap='coolwarm', vmin=-1, vmax=1)\n",
    "plt.title('Correlation Matrix of Toxicity Attributes and Annotator Counts')\n",
    "plt.show()"
   ]
  },
  {
   "cell_type": "code",
   "execution_count": 59,
   "id": "d9803673-87ac-4ce0-9114-5927b5ae555d",
   "metadata": {},
   "outputs": [
    {
     "name": "stdout",
     "output_type": "stream",
     "text": [
      "Correlation between 'toxicity_annotator_count' and 'toxicity':\n",
      "Pearson's r: 0.23794408129768727, p-value: 0.0\n",
      "The correlation is statistically significant.\n",
      "\n",
      "Correlation between 'toxicity_annotator_count' and 'severe_toxicity':\n",
      "Pearson's r: 0.16748107418706998, p-value: 0.0\n",
      "The correlation is statistically significant.\n",
      "\n",
      "Correlation between 'toxicity_annotator_count' and 'obscene':\n",
      "Pearson's r: 0.19202918130537822, p-value: 0.0\n",
      "The correlation is statistically significant.\n",
      "\n",
      "Correlation between 'toxicity_annotator_count' and 'sexual_explicit':\n",
      "Pearson's r: 0.1270810932232513, p-value: 0.0\n",
      "The correlation is statistically significant.\n",
      "\n",
      "Correlation between 'toxicity_annotator_count' and 'identity_attack':\n",
      "Pearson's r: 0.11530413656081619, p-value: 0.0\n",
      "The correlation is statistically significant.\n",
      "\n",
      "Correlation between 'toxicity_annotator_count' and 'insult':\n",
      "Pearson's r: 0.21592514078803898, p-value: 0.0\n",
      "The correlation is statistically significant.\n",
      "\n",
      "Correlation between 'toxicity_annotator_count' and 'threat':\n",
      "Pearson's r: 0.12276749668750207, p-value: 0.0\n",
      "The correlation is statistically significant.\n",
      "\n"
     ]
    }
   ],
   "source": [
    "#pearson r corr with annotator count and toxicity attributes\n",
    "#cols for pearson r\n",
    "columns = ['toxicity', 'severe_toxicity', 'obscene', 'sexual_explicit', 'identity_attack', 'insult', 'threat']\n",
    "\n",
    "#pearson's r and p-value for each column\n",
    "for column in columns:\n",
    "    r, p_value = pearsonr(df['toxicity_annotator_count'], df[column])\n",
    "    print(f\"Correlation between 'toxicity_annotator_count' and '{column}':\")\n",
    "    print(f\"Pearson's r: {r}, p-value: {p_value}\")\n",
    "    if p_value < 0.05:\n",
    "        print(\"The correlation is statistically significant.\\n\")\n",
    "    else:\n",
    "        print(\"The correlation is not statistically significant.\\n\")"
   ]
  },
  {
   "cell_type": "markdown",
   "id": "f4c251b9-9f46-4690-882f-6cb2160b60d2",
   "metadata": {},
   "source": [
    "Insult has the greatest correlation with toxicity. In looking at annotator toxicity counts correlations the greatest correlations are with toxicty and insult. This does not imply causation but there is an association with higher annotator counts and higher fractionts of annotators labeling insult and toxic. In general annotator counts show a positive statistically significant correlation with toxicity attributes. This may also be due to annotator counts being right skewed. "
   ]
  },
  {
   "cell_type": "markdown",
   "id": "995b89cc-5c65-4c99-81d5-73efca4aacdc",
   "metadata": {},
   "source": [
    "- Annotator counts for identity could also be analyzed with a corr heatmap, with identity attributes."
   ]
  },
  {
   "cell_type": "markdown",
   "id": "e58409ef-7976-45ed-a3ff-e9113da504a6",
   "metadata": {},
   "source": [
    "## Meta Data"
   ]
  },
  {
   "cell_type": "markdown",
   "id": "429d6e5b-c060-4883-beb9-6a0c74bac5d4",
   "metadata": {},
   "source": [
    "### Toxicity and Publication ID, Article ID, Parent ID"
   ]
  },
  {
   "cell_type": "code",
   "execution_count": 71,
   "id": "1c1e0d9a-fc81-4588-b396-f76784769deb",
   "metadata": {},
   "outputs": [
    {
     "data": {
      "text/plain": [
       "parent_id\n",
       "6044064.0    44\n",
       "701929.0     39\n",
       "654936.0     38\n",
       "5547432.0    30\n",
       "364601.0     26\n",
       "             ..\n",
       "1065022.0     1\n",
       "689775.0      1\n",
       "743906.0      1\n",
       "763371.0      1\n",
       "807615.0      1\n",
       "Name: count, Length: 786826, dtype: int64"
      ]
     },
     "execution_count": 71,
     "metadata": {},
     "output_type": "execute_result"
    }
   ],
   "source": [
    "df['parent_id'].value_counts()    "
   ]
  },
  {
   "cell_type": "code",
   "execution_count": 68,
   "id": "64c4f078-a62a-4e69-9dc1-650a9b1d2638",
   "metadata": {},
   "outputs": [
    {
     "name": "stdout",
     "output_type": "stream",
     "text": [
      "Number of unique values in publication_id: 53\n",
      "Number of unique values in article_id: 116943\n"
     ]
    }
   ],
   "source": [
    "unique_publications = df['publication_id'].nunique()\n",
    "unique_articles = df['article_id'].nunique()\n",
    "\n",
    "print(\"Number of unique values in publication_id:\", unique_publications)\n",
    "print(\"Number of unique values in article_id:\", unique_articles)"
   ]
  },
  {
   "cell_type": "code",
   "execution_count": 75,
   "id": "bfbe575e-555f-4aa8-9a32-e37303b03a37",
   "metadata": {
    "scrolled": true
   },
   "outputs": [
    {
     "data": {
      "image/png": "[encoded data removed]",
      "text/plain": [
       "<Figure size 1200x600 with 1 Axes>"
      ]
     },
     "metadata": {},
     "output_type": "display_data"
    }
   ],
   "source": [
    "# Plot for publication_id\n",
    "plt.figure(figsize=(12, 6))\n",
    "df.groupby('publication_id')[['toxicity', 'severe_toxicity', 'obscene', 'sexual_explicit', \n",
    "                              'identity_attack', 'insult', 'threat']].mean().plot(kind='bar', ax=plt.gca())\n",
    "plt.xlabel('Publication ID')\n",
    "plt.ylabel('Mean Toxicity Attributes')\n",
    "plt.title('Mean Toxicity Attributes per Publication ID')\n",
    "plt.legend(title='Toxicity Attributes')\n",
    "plt.show()\n",
    "\n"
   ]
  },
  {
   "cell_type": "markdown",
   "id": "2106508a-99f5-4439-a54d-9a0fd0b87553",
   "metadata": {},
   "source": [
    "It does appear that some publications show higher mean toxicity values overall. \n",
    "Note: This graph is a little unlcear and could be done with plotly. "
   ]
  },
  {
   "cell_type": "markdown",
   "id": "804321bf-65c4-4eb2-b418-674f82ef1896",
   "metadata": {},
   "source": [
    "### Toxicity and Rating"
   ]
  },
  {
   "cell_type": "code",
   "execution_count": 79,
   "id": "eee8cab3-21bb-4ed1-91d3-d7cfcb8fbfc8",
   "metadata": {},
   "outputs": [
    {
     "data": {
      "text/plain": [
       "0          approved\n",
       "1          approved\n",
       "2          approved\n",
       "3          approved\n",
       "4          approved\n",
       "             ...   \n",
       "1999511    approved\n",
       "1999512    approved\n",
       "1999513    rejected\n",
       "1999514    approved\n",
       "1999515    approved\n",
       "Name: rating, Length: 1999512, dtype: object"
      ]
     },
     "execution_count": 79,
     "metadata": {},
     "output_type": "execute_result"
    }
   ],
   "source": [
    "df['rating']"
   ]
  },
  {
   "cell_type": "code",
   "execution_count": 80,
   "id": "9c3971b6-e572-43a8-a612-8a4eaa3613a9",
   "metadata": {},
   "outputs": [
    {
     "data": {
      "image/png": "[encoded data removed]",
      "text/plain": [
       "<Figure size 1200x600 with 1 Axes>"
      ]
     },
     "metadata": {},
     "output_type": "display_data"
    }
   ],
   "source": [
    "rating_mean = df.groupby('rating')[['toxicity', 'severe_toxicity', 'obscene', 'sexual_explicit',\n",
    "                                    'identity_attack', 'insult', 'threat']].mean()\n",
    "\n",
    "# Plot the mean values\n",
    "plt.figure(figsize=(12, 6))\n",
    "rating_mean.plot(kind='bar', ax=plt.gca())\n",
    "plt.xlabel('Rating')\n",
    "plt.ylabel('Mean Toxicity Attributes')\n",
    "plt.title('Mean Toxicity Attributes by Rating')\n",
    "plt.legend(title='Toxicity Attributes')\n",
    "plt.show()"
   ]
  },
  {
   "cell_type": "markdown",
   "id": "f05bd8a6-473d-478c-bee5-e2523bc4e009",
   "metadata": {},
   "source": [
    "### Toxicity and User Reactions"
   ]
  },
  {
   "cell_type": "code",
   "execution_count": 90,
   "id": "c087cff6-eac6-447d-829d-1703285f20df",
   "metadata": {},
   "outputs": [
    {
     "data": {
      "text/html": [
       "<div>\n",
       "<style scoped>\n",
       "    .dataframe tbody tr th:only-of-type {\n",
       "        vertical-align: middle;\n",
       "    }\n",
       "\n",
       "    .dataframe tbody tr th {\n",
       "        vertical-align: top;\n",
       "    }\n",
       "\n",
       "    .dataframe thead th {\n",
       "        text-align: right;\n",
       "    }\n",
       "</style>\n",
       "<table border=\"1\" class=\"dataframe\">\n",
       "  <thead>\n",
       "    <tr style=\"text-align: right;\">\n",
       "      <th></th>\n",
       "      <th>funny</th>\n",
       "      <th>wow</th>\n",
       "      <th>sad</th>\n",
       "      <th>likes</th>\n",
       "      <th>disagree</th>\n",
       "    </tr>\n",
       "  </thead>\n",
       "  <tbody>\n",
       "    <tr>\n",
       "      <th>0</th>\n",
       "      <td>0</td>\n",
       "      <td>0</td>\n",
       "      <td>0</td>\n",
       "      <td>2</td>\n",
       "      <td>0</td>\n",
       "    </tr>\n",
       "    <tr>\n",
       "      <th>1</th>\n",
       "      <td>0</td>\n",
       "      <td>0</td>\n",
       "      <td>1</td>\n",
       "      <td>2</td>\n",
       "      <td>0</td>\n",
       "    </tr>\n",
       "    <tr>\n",
       "      <th>2</th>\n",
       "      <td>1</td>\n",
       "      <td>0</td>\n",
       "      <td>2</td>\n",
       "      <td>3</td>\n",
       "      <td>7</td>\n",
       "    </tr>\n",
       "    <tr>\n",
       "      <th>3</th>\n",
       "      <td>0</td>\n",
       "      <td>0</td>\n",
       "      <td>0</td>\n",
       "      <td>0</td>\n",
       "      <td>0</td>\n",
       "    </tr>\n",
       "    <tr>\n",
       "      <th>4</th>\n",
       "      <td>0</td>\n",
       "      <td>0</td>\n",
       "      <td>0</td>\n",
       "      <td>1</td>\n",
       "      <td>0</td>\n",
       "    </tr>\n",
       "  </tbody>\n",
       "</table>\n",
       "</div>"
      ],
      "text/plain": [
       "   funny  wow  sad  likes  disagree\n",
       "0      0    0    0      2         0\n",
       "1      0    0    1      2         0\n",
       "2      1    0    2      3         7\n",
       "3      0    0    0      0         0\n",
       "4      0    0    0      1         0"
      ]
     },
     "execution_count": 90,
     "metadata": {},
     "output_type": "execute_result"
    }
   ],
   "source": [
    "df[['funny','wow','sad', 'likes', 'disagree']].head()"
   ]
  },
  {
   "cell_type": "code",
   "execution_count": 92,
   "id": "39608078-e200-48c0-b8a1-80a4b67f3ea3",
   "metadata": {
    "scrolled": true
   },
   "outputs": [
    {
     "data": {
      "text/html": [
       "<div>\n",
       "<style scoped>\n",
       "    .dataframe tbody tr th:only-of-type {\n",
       "        vertical-align: middle;\n",
       "    }\n",
       "\n",
       "    .dataframe tbody tr th {\n",
       "        vertical-align: top;\n",
       "    }\n",
       "\n",
       "    .dataframe thead th {\n",
       "        text-align: right;\n",
       "    }\n",
       "</style>\n",
       "<table border=\"1\" class=\"dataframe\">\n",
       "  <thead>\n",
       "    <tr style=\"text-align: right;\">\n",
       "      <th></th>\n",
       "      <th>funny</th>\n",
       "      <th>wow</th>\n",
       "      <th>sad</th>\n",
       "      <th>likes</th>\n",
       "      <th>disagree</th>\n",
       "    </tr>\n",
       "  </thead>\n",
       "  <tbody>\n",
       "    <tr>\n",
       "      <th>count</th>\n",
       "      <td>1.999512e+06</td>\n",
       "      <td>1.999512e+06</td>\n",
       "      <td>1.999512e+06</td>\n",
       "      <td>1.999512e+06</td>\n",
       "      <td>1.999512e+06</td>\n",
       "    </tr>\n",
       "    <tr>\n",
       "      <th>mean</th>\n",
       "      <td>2.776668e-01</td>\n",
       "      <td>4.437183e-02</td>\n",
       "      <td>1.089291e-01</td>\n",
       "      <td>2.441188e+00</td>\n",
       "      <td>5.808157e-01</td>\n",
       "    </tr>\n",
       "    <tr>\n",
       "      <th>std</th>\n",
       "      <td>1.054815e+00</td>\n",
       "      <td>2.458646e-01</td>\n",
       "      <td>4.555575e-01</td>\n",
       "      <td>4.712996e+00</td>\n",
       "      <td>1.854333e+00</td>\n",
       "    </tr>\n",
       "    <tr>\n",
       "      <th>min</th>\n",
       "      <td>0.000000e+00</td>\n",
       "      <td>0.000000e+00</td>\n",
       "      <td>0.000000e+00</td>\n",
       "      <td>0.000000e+00</td>\n",
       "      <td>0.000000e+00</td>\n",
       "    </tr>\n",
       "    <tr>\n",
       "      <th>25%</th>\n",
       "      <td>0.000000e+00</td>\n",
       "      <td>0.000000e+00</td>\n",
       "      <td>0.000000e+00</td>\n",
       "      <td>0.000000e+00</td>\n",
       "      <td>0.000000e+00</td>\n",
       "    </tr>\n",
       "    <tr>\n",
       "      <th>50%</th>\n",
       "      <td>0.000000e+00</td>\n",
       "      <td>0.000000e+00</td>\n",
       "      <td>0.000000e+00</td>\n",
       "      <td>1.000000e+00</td>\n",
       "      <td>0.000000e+00</td>\n",
       "    </tr>\n",
       "    <tr>\n",
       "      <th>75%</th>\n",
       "      <td>0.000000e+00</td>\n",
       "      <td>0.000000e+00</td>\n",
       "      <td>0.000000e+00</td>\n",
       "      <td>3.000000e+00</td>\n",
       "      <td>0.000000e+00</td>\n",
       "    </tr>\n",
       "    <tr>\n",
       "      <th>max</th>\n",
       "      <td>1.020000e+02</td>\n",
       "      <td>2.100000e+01</td>\n",
       "      <td>3.100000e+01</td>\n",
       "      <td>3.000000e+02</td>\n",
       "      <td>1.870000e+02</td>\n",
       "    </tr>\n",
       "  </tbody>\n",
       "</table>\n",
       "</div>"
      ],
      "text/plain": [
       "              funny           wow           sad         likes      disagree\n",
       "count  1.999512e+06  1.999512e+06  1.999512e+06  1.999512e+06  1.999512e+06\n",
       "mean   2.776668e-01  4.437183e-02  1.089291e-01  2.441188e+00  5.808157e-01\n",
       "std    1.054815e+00  2.458646e-01  4.555575e-01  4.712996e+00  1.854333e+00\n",
       "min    0.000000e+00  0.000000e+00  0.000000e+00  0.000000e+00  0.000000e+00\n",
       "25%    0.000000e+00  0.000000e+00  0.000000e+00  0.000000e+00  0.000000e+00\n",
       "50%    0.000000e+00  0.000000e+00  0.000000e+00  1.000000e+00  0.000000e+00\n",
       "75%    0.000000e+00  0.000000e+00  0.000000e+00  3.000000e+00  0.000000e+00\n",
       "max    1.020000e+02  2.100000e+01  3.100000e+01  3.000000e+02  1.870000e+02"
      ]
     },
     "execution_count": 92,
     "metadata": {},
     "output_type": "execute_result"
    }
   ],
   "source": [
    "df[['funny','wow','sad', 'likes', 'disagree']].describe()"
   ]
  },
  {
   "cell_type": "markdown",
   "id": "a9f58f73-c38a-466a-969c-628a42c56e6f",
   "metadata": {},
   "source": [
    "May need to assess distributions and why min and max is close to zero. "
   ]
  },
  {
   "cell_type": "code",
   "execution_count": 98,
   "id": "dba7c84a-1824-495e-9048-9ee6f4430e3a",
   "metadata": {},
   "outputs": [
    {
     "data": {
      "image/png": "[encoded data removed]",
      "text/plain": [
       "<Figure size 1200x600 with 1 Axes>"
      ]
     },
     "metadata": {},
     "output_type": "display_data"
    }
   ],
   "source": [
    "# Calculate mean toxicity for each user reaction\n",
    "mean_toxicity_funny = df[df['funny'] > 0]['toxicity'].mean()\n",
    "mean_toxicity_wow = df[df['wow'] > 0]['toxicity'].mean()\n",
    "mean_toxicity_sad = df[df['sad'] > 0]['toxicity'].mean()\n",
    "mean_toxicity_likes = df[df['likes'] > 0]['toxicity'].mean()\n",
    "mean_toxicity_disagree = df[df['disagree'] > 0]['toxicity'].mean()\n",
    "\n",
    "# Define the mean toxicity values as a list\n",
    "mean_toxicity = [mean_toxicity_funny, mean_toxicity_wow, mean_toxicity_sad, mean_toxicity_likes, mean_toxicity_disagree]\n",
    "\n",
    "# Sample data for mean user reactions (replace with your actual data)\n",
    "mean_user_reactions = [3, 5, 2, 6, 4]\n",
    "\n",
    "bar_width = 0.35\n",
    "index = np.arange(len(mean_toxicity))\n",
    "\n",
    "plt.figure(figsize=(12, 6))\n",
    "plt.bar(index, mean_toxicity, width=bar_width, alpha=0.7, label='Mean Toxicity')\n",
    "plt.bar(index + bar_width, mean_user_reactions, width=bar_width, color='red', alpha=0.7, label='Mean User Reactions')\n",
    "plt.xlabel('User Reactions')\n",
    "plt.ylabel('Mean Value')\n",
    "plt.title('Mean Toxicity and Mean User Reactions by User Reactions')\n",
    "plt.xticks(index + bar_width / 2, ['funny', 'wow', 'sad', 'likes', 'disagree'])\n",
    "plt.legend()\n",
    "plt.show()\n"
   ]
  },
  {
   "cell_type": "code",
   "execution_count": null,
   "id": "ac6fb546-0bc6-44b3-bd92-e29286317360",
   "metadata": {},
   "outputs": [],
   "source": []
  }
 ],
 "metadata": {
  "kernelspec": {
   "display_name": "Python 3 (ipykernel)",
   "language": "python",
   "name": "python3"
  },
  "language_info": {
   "codemirror_mode": {
    "name": "ipython",
    "version": 3
   },
   "file_extension": ".py",
   "mimetype": "text/x-python",
   "name": "python",
   "nbconvert_exporter": "python",
   "pygments_lexer": "ipython3",
   "version": "3.8.18"
  }
 },
 "nbformat": 4,
 "nbformat_minor": 5
}
