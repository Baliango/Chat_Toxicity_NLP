{
 "cells": [
  {
   "cell_type": "markdown",
   "metadata": {},
   "source": [
    "# EDA Hugging Face Dataset"
   ]
  },
  {
   "cell_type": "code",
   "execution_count": 36,
   "metadata": {},
   "outputs": [],
   "source": [
    "import pandas as pd\n",
    "import numpy as np\n",
    "import matplotlib.pyplot as plt\n",
    "import os\n",
    "import glob\n",
    "import ast"
   ]
  },
  {
   "cell_type": "markdown",
   "metadata": {},
   "source": [
    "## Data Dictionary\n",
    "<details>\n",
    "<summary>Click to expand</summary>\n",
    "\n",
    "| Column Name     | Description                                                                                     |\n",
    "|-----------------|-------------------------------------------------------------------------------------------------|\n",
    "| text            | The text data in each row.                                                                     |\n",
    "| labels          | The labels associated with each text (e.g., toxic, non-toxic).                                  |\n",
    "| encoded_labels  | Encoded version of the labels for machine learning models.                                      |\n",
    "| text_length(added)     | The length of each text in the `text` column, calculated as the number of characters in the text.|\n",
    "| labels_list(added)     |  Parsed lists of labels                 |\n",
    "\n",
    "</details>\n"
   ]
  },
  {
   "cell_type": "markdown",
   "metadata": {},
   "source": [
    "Data consists of three columns stored in parquet files: \n",
    "- encoded labels sotred as strings in single column, will have to be converted to binary array for ML. "
   ]
  },
  {
   "cell_type": "code",
   "execution_count": 18,
   "metadata": {},
   "outputs": [],
   "source": [
    "def read_parquet_files(file_path_pattern):\n",
    "    dfs =[]\n",
    "    #glob finds all path names matching specified pattern\n",
    "    for file_name in glob.glob(file_path_pattern):\n",
    "        df =pd.read_parquet(file_name, engine='pyarrow')\n",
    "        dfs.append(df)\n",
    "    return pd.concat(dfs, ignore_index =True)"
   ]
  },
  {
   "cell_type": "markdown",
   "metadata": {},
   "source": [
    "## Train Data Set"
   ]
  },
  {
   "cell_type": "code",
   "execution_count": 19,
   "metadata": {},
   "outputs": [],
   "source": [
    "data = read_parquet_files('../data/hugging/train-*.parquet') #use wildcard -* to identify pattern"
   ]
  },
  {
   "cell_type": "code",
   "execution_count": 20,
   "metadata": {},
   "outputs": [
    {
     "data": {
      "text/html": [
       "<div>\n",
       "<style scoped>\n",
       "    .dataframe tbody tr th:only-of-type {\n",
       "        vertical-align: middle;\n",
       "    }\n",
       "\n",
       "    .dataframe tbody tr th {\n",
       "        vertical-align: top;\n",
       "    }\n",
       "\n",
       "    .dataframe thead th {\n",
       "        text-align: right;\n",
       "    }\n",
       "</style>\n",
       "<table border=\"1\" class=\"dataframe\">\n",
       "  <thead>\n",
       "    <tr style=\"text-align: right;\">\n",
       "      <th></th>\n",
       "      <th>text</th>\n",
       "      <th>labels</th>\n",
       "      <th>encoded_labels</th>\n",
       "    </tr>\n",
       "  </thead>\n",
       "  <tbody>\n",
       "    <tr>\n",
       "      <th>0</th>\n",
       "      <td>Football positions \\n\\nHi Mehudson.  When you'...</td>\n",
       "      <td>[]</td>\n",
       "      <td>[0, 0, 0, 0, 0, 0, 0, 0, 0]</td>\n",
       "    </tr>\n",
       "    <tr>\n",
       "      <th>1</th>\n",
       "      <td>Thank you SO MUCH for your Nazi-like oversight...</td>\n",
       "      <td>[toxic, profane, insult]</td>\n",
       "      <td>[1, 1, 1, 0, 0, 0, 0, 0, 0]</td>\n",
       "    </tr>\n",
       "    <tr>\n",
       "      <th>2</th>\n",
       "      <td>Darkwind  \\n Stick it up your arse you offensi...</td>\n",
       "      <td>[toxic, profane]</td>\n",
       "      <td>[1, 1, 0, 0, 0, 0, 0, 0, 0]</td>\n",
       "    </tr>\n",
       "    <tr>\n",
       "      <th>3</th>\n",
       "      <td>Message from you to an IP \\n\\nI received a mes...</td>\n",
       "      <td>[]</td>\n",
       "      <td>[0, 0, 0, 0, 0, 0, 0, 0, 0]</td>\n",
       "    </tr>\n",
       "    <tr>\n",
       "      <th>4</th>\n",
       "      <td>Misleading and inappropriate citations Used</td>\n",
       "      <td>[]</td>\n",
       "      <td>[0, 0, 0, 0, 0, 0, 0, 0, 0]</td>\n",
       "    </tr>\n",
       "  </tbody>\n",
       "</table>\n",
       "</div>"
      ],
      "text/plain": [
       "                                                text  \\\n",
       "0  Football positions \\n\\nHi Mehudson.  When you'...   \n",
       "1  Thank you SO MUCH for your Nazi-like oversight...   \n",
       "2  Darkwind  \\n Stick it up your arse you offensi...   \n",
       "3  Message from you to an IP \\n\\nI received a mes...   \n",
       "4        Misleading and inappropriate citations Used   \n",
       "\n",
       "                     labels               encoded_labels  \n",
       "0                        []  [0, 0, 0, 0, 0, 0, 0, 0, 0]  \n",
       "1  [toxic, profane, insult]  [1, 1, 1, 0, 0, 0, 0, 0, 0]  \n",
       "2          [toxic, profane]  [1, 1, 0, 0, 0, 0, 0, 0, 0]  \n",
       "3                        []  [0, 0, 0, 0, 0, 0, 0, 0, 0]  \n",
       "4                        []  [0, 0, 0, 0, 0, 0, 0, 0, 0]  "
      ]
     },
     "execution_count": 20,
     "metadata": {},
     "output_type": "execute_result"
    }
   ],
   "source": [
    "data.head()"
   ]
  },
  {
   "cell_type": "code",
   "execution_count": 21,
   "metadata": {},
   "outputs": [
    {
     "name": "stdout",
     "output_type": "stream",
     "text": [
      "<class 'pandas.core.frame.DataFrame'>\n",
      "RangeIndex: 6344950 entries, 0 to 6344949\n",
      "Data columns (total 3 columns):\n",
      " #   Column          Dtype \n",
      "---  ------          ----- \n",
      " 0   text            object\n",
      " 1   labels          object\n",
      " 2   encoded_labels  object\n",
      "dtypes: object(3)\n",
      "memory usage: 145.2+ MB\n"
     ]
    }
   ],
   "source": [
    "data.info()"
   ]
  },
  {
   "cell_type": "code",
   "execution_count": 22,
   "metadata": {},
   "outputs": [
    {
     "data": {
      "text/plain": [
       "text              0\n",
       "labels            0\n",
       "encoded_labels    0\n",
       "dtype: int64"
      ]
     },
     "execution_count": 22,
     "metadata": {},
     "output_type": "execute_result"
    }
   ],
   "source": [
    "data.isnull().sum()"
   ]
  },
  {
   "cell_type": "markdown",
   "metadata": {},
   "source": [
    "### Text Length"
   ]
  },
  {
   "cell_type": "code",
   "execution_count": 23,
   "metadata": {},
   "outputs": [],
   "source": [
    "#add column with text length\n",
    "data['text_length'] = data['text'].apply(len)"
   ]
  },
  {
   "cell_type": "code",
   "execution_count": 24,
   "metadata": {},
   "outputs": [
    {
     "data": {
      "text/html": [
       "<div>\n",
       "<style scoped>\n",
       "    .dataframe tbody tr th:only-of-type {\n",
       "        vertical-align: middle;\n",
       "    }\n",
       "\n",
       "    .dataframe tbody tr th {\n",
       "        vertical-align: top;\n",
       "    }\n",
       "\n",
       "    .dataframe thead th {\n",
       "        text-align: right;\n",
       "    }\n",
       "</style>\n",
       "<table border=\"1\" class=\"dataframe\">\n",
       "  <thead>\n",
       "    <tr style=\"text-align: right;\">\n",
       "      <th></th>\n",
       "      <th>text</th>\n",
       "      <th>labels</th>\n",
       "      <th>encoded_labels</th>\n",
       "      <th>text_length</th>\n",
       "    </tr>\n",
       "  </thead>\n",
       "  <tbody>\n",
       "    <tr>\n",
       "      <th>0</th>\n",
       "      <td>Football positions \\n\\nHi Mehudson.  When you'...</td>\n",
       "      <td>[]</td>\n",
       "      <td>[0, 0, 0, 0, 0, 0, 0, 0, 0]</td>\n",
       "      <td>324</td>\n",
       "    </tr>\n",
       "    <tr>\n",
       "      <th>1</th>\n",
       "      <td>Thank you SO MUCH for your Nazi-like oversight...</td>\n",
       "      <td>[toxic, profane, insult]</td>\n",
       "      <td>[1, 1, 1, 0, 0, 0, 0, 0, 0]</td>\n",
       "      <td>272</td>\n",
       "    </tr>\n",
       "    <tr>\n",
       "      <th>2</th>\n",
       "      <td>Darkwind  \\n Stick it up your arse you offensi...</td>\n",
       "      <td>[toxic, profane]</td>\n",
       "      <td>[1, 1, 0, 0, 0, 0, 0, 0, 0]</td>\n",
       "      <td>99</td>\n",
       "    </tr>\n",
       "  </tbody>\n",
       "</table>\n",
       "</div>"
      ],
      "text/plain": [
       "                                                text  \\\n",
       "0  Football positions \\n\\nHi Mehudson.  When you'...   \n",
       "1  Thank you SO MUCH for your Nazi-like oversight...   \n",
       "2  Darkwind  \\n Stick it up your arse you offensi...   \n",
       "\n",
       "                     labels               encoded_labels  text_length  \n",
       "0                        []  [0, 0, 0, 0, 0, 0, 0, 0, 0]          324  \n",
       "1  [toxic, profane, insult]  [1, 1, 1, 0, 0, 0, 0, 0, 0]          272  \n",
       "2          [toxic, profane]  [1, 1, 0, 0, 0, 0, 0, 0, 0]           99  "
      ]
     },
     "execution_count": 24,
     "metadata": {},
     "output_type": "execute_result"
    }
   ],
   "source": [
    "data.head(3)"
   ]
  },
  {
   "cell_type": "code",
   "execution_count": 25,
   "metadata": {},
   "outputs": [
    {
     "data": {
      "image/png": "[encoded data removed]",
      "text/plain": [
       "<Figure size 1000x600 with 1 Axes>"
      ]
     },
     "metadata": {},
     "output_type": "display_data"
    }
   ],
   "source": [
    "plt.figure(figsize=(10, 6))\n",
    "plt.hist(data['text_length'], bins=50, color='skyblue', edgecolor='black')\n",
    "plt.xlabel('Text Length')\n",
    "plt.ylabel('Frequency')\n",
    "plt.title('Distribution of Text Lengths')\n",
    "plt.show()\n"
   ]
  },
  {
   "cell_type": "markdown",
   "metadata": {},
   "source": [
    "### Label Distribution and Class Imbalance"
   ]
  },
  {
   "cell_type": "code",
   "execution_count": 32,
   "metadata": {},
   "outputs": [
    {
     "data": {
      "text/html": [
       "<div>\n",
       "<style scoped>\n",
       "    .dataframe tbody tr th:only-of-type {\n",
       "        vertical-align: middle;\n",
       "    }\n",
       "\n",
       "    .dataframe tbody tr th {\n",
       "        vertical-align: top;\n",
       "    }\n",
       "\n",
       "    .dataframe thead th {\n",
       "        text-align: right;\n",
       "    }\n",
       "</style>\n",
       "<table border=\"1\" class=\"dataframe\">\n",
       "  <thead>\n",
       "    <tr style=\"text-align: right;\">\n",
       "      <th></th>\n",
       "      <th>text</th>\n",
       "      <th>labels</th>\n",
       "      <th>encoded_labels</th>\n",
       "      <th>text_length</th>\n",
       "      <th>labels_list</th>\n",
       "    </tr>\n",
       "  </thead>\n",
       "  <tbody>\n",
       "    <tr>\n",
       "      <th>0</th>\n",
       "      <td>Football positions \\n\\nHi Mehudson.  When you'...</td>\n",
       "      <td>[]</td>\n",
       "      <td>[0, 0, 0, 0, 0, 0, 0, 0, 0]</td>\n",
       "      <td>324</td>\n",
       "      <td>[]</td>\n",
       "    </tr>\n",
       "    <tr>\n",
       "      <th>1</th>\n",
       "      <td>Thank you SO MUCH for your Nazi-like oversight...</td>\n",
       "      <td>[toxic, profane, insult]</td>\n",
       "      <td>[1, 1, 1, 0, 0, 0, 0, 0, 0]</td>\n",
       "      <td>272</td>\n",
       "      <td>[]</td>\n",
       "    </tr>\n",
       "    <tr>\n",
       "      <th>2</th>\n",
       "      <td>Darkwind  \\n Stick it up your arse you offensi...</td>\n",
       "      <td>[toxic, profane]</td>\n",
       "      <td>[1, 1, 0, 0, 0, 0, 0, 0, 0]</td>\n",
       "      <td>99</td>\n",
       "      <td>[]</td>\n",
       "    </tr>\n",
       "    <tr>\n",
       "      <th>3</th>\n",
       "      <td>Message from you to an IP \\n\\nI received a mes...</td>\n",
       "      <td>[]</td>\n",
       "      <td>[0, 0, 0, 0, 0, 0, 0, 0, 0]</td>\n",
       "      <td>292</td>\n",
       "      <td>[]</td>\n",
       "    </tr>\n",
       "    <tr>\n",
       "      <th>4</th>\n",
       "      <td>Misleading and inappropriate citations Used</td>\n",
       "      <td>[]</td>\n",
       "      <td>[0, 0, 0, 0, 0, 0, 0, 0, 0]</td>\n",
       "      <td>43</td>\n",
       "      <td>[]</td>\n",
       "    </tr>\n",
       "  </tbody>\n",
       "</table>\n",
       "</div>"
      ],
      "text/plain": [
       "                                                text  \\\n",
       "0  Football positions \\n\\nHi Mehudson.  When you'...   \n",
       "1  Thank you SO MUCH for your Nazi-like oversight...   \n",
       "2  Darkwind  \\n Stick it up your arse you offensi...   \n",
       "3  Message from you to an IP \\n\\nI received a mes...   \n",
       "4        Misleading and inappropriate citations Used   \n",
       "\n",
       "                     labels               encoded_labels  text_length  \\\n",
       "0                        []  [0, 0, 0, 0, 0, 0, 0, 0, 0]          324   \n",
       "1  [toxic, profane, insult]  [1, 1, 1, 0, 0, 0, 0, 0, 0]          272   \n",
       "2          [toxic, profane]  [1, 1, 0, 0, 0, 0, 0, 0, 0]           99   \n",
       "3                        []  [0, 0, 0, 0, 0, 0, 0, 0, 0]          292   \n",
       "4                        []  [0, 0, 0, 0, 0, 0, 0, 0, 0]           43   \n",
       "\n",
       "  labels_list  \n",
       "0          []  \n",
       "1          []  \n",
       "2          []  \n",
       "3          []  \n",
       "4          []  "
      ]
     },
     "execution_count": 32,
     "metadata": {},
     "output_type": "execute_result"
    }
   ],
   "source": [
    "data.head()"
   ]
  },
  {
   "cell_type": "code",
   "execution_count": 38,
   "metadata": {},
   "outputs": [
    {
     "name": "stdout",
     "output_type": "stream",
     "text": [
      "Label distribution:\n",
      "toxic         568042\n",
      "selfharm      247778\n",
      "insult        237258\n",
      "profane        51340\n",
      "hate           49439\n",
      "offensive      37329\n",
      "threat          9065\n",
      "sexual          8929\n",
      "harassment      4072\n",
      "Name: count, dtype: int64\n",
      "\n",
      "Number of rows without labels: 5436491\n"
     ]
    }
   ],
   "source": [
    "#handle empty strings of labels\n",
    "def safe_literal_eval(x):\n",
    "    try:\n",
    "        if isinstance(x, str): \n",
    "            if x.startswith('[') and x.endswith(']'):\n",
    "                return ast.literal_eval(x)\n",
    "            else:\n",
    "                return []\n",
    "        elif isinstance(x, np.ndarray):\n",
    "            return x.tolist()\n",
    "        else:\n",
    "            return []         \n",
    "    except (SyntaxError, ValueError):\n",
    "        return []\n",
    "\n",
    "#ast.literal_eval convert string representation of labels to a list\n",
    "data['labels_list'] = data['labels'].apply(safe_literal_eval) \n",
    "#flatten list\n",
    "#first part iterate through rows, nested for; iterate through labels in row\n",
    "all_labels = [label for labels_list in data['labels_list'] for label in labels_list]\n",
    "\n",
    "#calculate distribution -> convert all_labels to a series to count\n",
    "label_dist = pd.Series(all_labels).value_counts()\n",
    "\n",
    "#count occurences of rows without labels\n",
    "no_label_count = data['labels_list'].apply(lambda x: len(x) == 0).sum() # use lambda func. to count occurence where len of string =0\n",
    "\n",
    "print(\"Label distribution:\")\n",
    "print(label_dist)\n",
    "print(\"\\nNumber of rows without labels:\", no_label_count)\n"
   ]
  },
  {
   "cell_type": "code",
   "execution_count": 40,
   "metadata": {},
   "outputs": [
    {
     "name": "stdout",
     "output_type": "stream",
     "text": [
      "<class 'pandas.core.frame.DataFrame'>\n",
      "RangeIndex: 6344950 entries, 0 to 6344949\n",
      "Data columns (total 5 columns):\n",
      " #   Column          Dtype \n",
      "---  ------          ----- \n",
      " 0   text            object\n",
      " 1   labels          object\n",
      " 2   encoded_labels  object\n",
      " 3   text_length     int64 \n",
      " 4   labels_list     object\n",
      "dtypes: int64(1), object(4)\n",
      "memory usage: 242.0+ MB\n"
     ]
    }
   ],
   "source": [
    "data.info()"
   ]
  },
  {
   "cell_type": "code",
   "execution_count": 42,
   "metadata": {
    "scrolled": true
   },
   "outputs": [
    {
     "data": {
      "image/png": "[encoded data removed]",
      "text/plain": [
       "<Figure size 1200x600 with 1 Axes>"
      ]
     },
     "metadata": {},
     "output_type": "display_data"
    }
   ],
   "source": [
    "#flatten-> convert list of lists into single list (all_labels is flattened list variable)\n",
    "# Plot histogram\n",
    "plt.figure(figsize=(12, 6))\n",
    "plt.hist(all_labels, bins=len(set(all_labels)), align='left', rwidth=0.8)\n",
    "plt.xlabel('Labels')\n",
    "plt.ylabel('Frequency')\n",
    "plt.title('Label Distribution Train')\n",
    "plt.xticks(rotation=45)\n",
    "plt.grid(axis='y', alpha=0.75)\n",
    "plt.show()\n"
   ]
  },
  {
   "cell_type": "markdown",
   "metadata": {},
   "source": [
    "Number of occurences of toxic: 568,042 and number of occurences of no label: 5,436,491 -> high class imbalance in dataset"
   ]
  },
  {
   "cell_type": "markdown",
   "metadata": {},
   "source": [
    "**Co Occurence** For this analysis will look at co-occurance of up to 2 labels"
   ]
  },
  {
   "cell_type": "code",
   "execution_count": 44,
   "metadata": {},
   "outputs": [],
   "source": [
    "from itertools import combinations"
   ]
  },
  {
   "cell_type": "code",
   "execution_count": 61,
   "metadata": {},
   "outputs": [],
   "source": [
    "labels = ['toxic','profane','insult','hate','threat','sexual','offensive','selfharm']\n",
    "#generate combinations of labels(i) for loop creates list of lists -> ea. inner list conatins all comb of i for i from 1-2 \n",
    "label_combo = sum([list(combinations(labels,i)) for i in range (1,3)],[])\n",
    "label_combo = [', '.join(comb) for comb in label_combo] "
   ]
  },
  {
   "cell_type": "code",
   "execution_count": 62,
   "metadata": {},
   "outputs": [],
   "source": [
    "#initialize co-occurance matrix\n",
    "co_occur_matrix = pd.DataFrame(0, index=label_combo, columns = labels)"
   ]
  },
  {
   "cell_type": "code",
   "execution_count": 63,
   "metadata": {},
   "outputs": [
    {
     "name": "stdout",
     "output_type": "stream",
     "text": [
      "Co-occurrence Matrix:\n",
      "                     toxic  profane  insult  hate  threat  sexual  offensive  \\\n",
      "toxic                    0        0       0     0       0       0          0   \n",
      "profane                  0        0       0     0       0       0          0   \n",
      "insult                   0        0       0     0       0       0          0   \n",
      "hate                     0        0       0     0       0       0          0   \n",
      "threat                   0        0       0     0       0       0          0   \n",
      "sexual                   0        0       0     0       0       0          0   \n",
      "offensive                0        0       0     0       0       0          0   \n",
      "selfharm                 0        0       0     0       0       0          0   \n",
      "toxic, profane           0        0       0     0       0       0          0   \n",
      "toxic, insult            0        0       0     0       0       0          0   \n",
      "toxic, hate              0        0       0     0       0       0          0   \n",
      "toxic, threat            0        0       0     0       0       0          0   \n",
      "toxic, sexual            0        0       0     0       0       0          0   \n",
      "toxic, offensive         0        0       0     0       0       0          0   \n",
      "toxic, selfharm          0        0       0     0       0       0          0   \n",
      "profane, insult          0        0       0     0       0       0          0   \n",
      "profane, hate            0        0       0     0       0       0          0   \n",
      "profane, threat          0        0       0     0       0       0          0   \n",
      "profane, sexual          0        0       0     0       0       0          0   \n",
      "profane, offensive       0        0       0     0       0       0          0   \n",
      "profane, selfharm        0        0       0     0       0       0          0   \n",
      "insult, hate             0        0       0     0       0       0          0   \n",
      "insult, threat           0        0       0     0       0       0          0   \n",
      "insult, sexual           0        0       0     0       0       0          0   \n",
      "insult, offensive        0        0       0     0       0       0          0   \n",
      "insult, selfharm         0        0       0     0       0       0          0   \n",
      "hate, threat             0        0       0     0       0       0          0   \n",
      "hate, sexual             0        0       0     0       0       0          0   \n",
      "hate, offensive          0        0       0     0       0       0          0   \n",
      "hate, selfharm           0        0       0     0       0       0          0   \n",
      "threat, sexual           0        0       0     0       0       0          0   \n",
      "threat, offensive        0        0       0     0       0       0          0   \n",
      "threat, selfharm         0        0       0     0       0       0          0   \n",
      "sexual, offensive        0        0       0     0       0       0          0   \n",
      "sexual, selfharm         0        0       0     0       0       0          0   \n",
      "offensive, selfharm      0        0       0     0       0       0          0   \n",
      "\n",
      "                     selfharm  \n",
      "toxic                       0  \n",
      "profane                     0  \n",
      "insult                      0  \n",
      "hate                        0  \n",
      "threat                      0  \n",
      "sexual                      0  \n",
      "offensive                   0  \n",
      "selfharm                    0  \n",
      "toxic, profane              0  \n",
      "toxic, insult               0  \n",
      "toxic, hate                 0  \n",
      "toxic, threat               0  \n",
      "toxic, sexual               0  \n",
      "toxic, offensive            0  \n",
      "toxic, selfharm             0  \n",
      "profane, insult             0  \n",
      "profane, hate               0  \n",
      "profane, threat             0  \n",
      "profane, sexual             0  \n",
      "profane, offensive          0  \n",
      "profane, selfharm           0  \n",
      "insult, hate                0  \n",
      "insult, threat              0  \n",
      "insult, sexual              0  \n",
      "insult, offensive           0  \n",
      "insult, selfharm            0  \n",
      "hate, threat                0  \n",
      "hate, sexual                0  \n",
      "hate, offensive             0  \n",
      "hate, selfharm              0  \n",
      "threat, sexual              0  \n",
      "threat, offensive           0  \n",
      "threat, selfharm            0  \n",
      "sexual, offensive           0  \n",
      "sexual, selfharm            0  \n",
      "offensive, selfharm         0  \n"
     ]
    }
   ],
   "source": [
    "### MATRIX IS NOT populating correctly \n",
    "label_data = pd.DataFrame(data['labels_list'])\n",
    "for idx, row in label_data.iterrows():\n",
    "    labels_tuple = tuple(row['labels_list'])\n",
    "    for label_comb in label_combo:\n",
    "        if len(label_comb) > 1 and all(label in labels_tuple for label in label_comb):\n",
    "            label_comb_str = ', '.join(label_comb)\n",
    "            co_occur_matrix.loc[label_comb_str, label_comb_str] += 1\n",
    "\n",
    "print(\"Co-occurrence Matrix:\")\n",
    "print(co_occur_matrix)\n"
   ]
  },
  {
   "cell_type": "code",
   "execution_count": 51,
   "metadata": {},
   "outputs": [
    {
     "data": {
      "text/plain": [
       "0                          []\n",
       "1    [toxic, profane, insult]\n",
       "2            [toxic, profane]\n",
       "3                          []\n",
       "4                          []\n",
       "Name: labels_list, dtype: object"
      ]
     },
     "execution_count": 51,
     "metadata": {},
     "output_type": "execute_result"
    }
   ],
   "source": [
    "data['labels_list'].head()"
   ]
  },
  {
   "cell_type": "markdown",
   "metadata": {},
   "source": [
    "### Word Frequency"
   ]
  },
  {
   "cell_type": "code",
   "execution_count": 43,
   "metadata": {},
   "outputs": [],
   "source": [
    "from nltk.tokenize import word_tokenize\n",
    "from collections import Counter"
   ]
  },
  {
   "cell_type": "code",
   "execution_count": null,
   "metadata": {},
   "outputs": [],
   "source": []
  }
 ],
 "metadata": {
  "kernelspec": {
   "display_name": "Python 3 (ipykernel)",
   "language": "python",
   "name": "python3"
  },
  "language_info": {
   "codemirror_mode": {
    "name": "ipython",
    "version": 3
   },
   "file_extension": ".py",
   "mimetype": "text/x-python",
   "name": "python",
   "nbconvert_exporter": "python",
   "pygments_lexer": "ipython3",
   "version": "3.8.18"
  }
 },
 "nbformat": 4,
 "nbformat_minor": 4
}
