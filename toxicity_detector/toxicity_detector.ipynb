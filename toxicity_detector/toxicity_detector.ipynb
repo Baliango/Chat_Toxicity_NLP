{
 "cells": [
  {
   "cell_type": "code",
   "execution_count": 13,
   "id": "978c121e-4e9a-4dce-8fa0-98663277df3b",
   "metadata": {},
   "outputs": [],
   "source": [
    "from transformers import AutoModelForSequenceClassification, AutoTokenizer\n",
    "import torch.nn.functional as F"
   ]
  },
  {
   "cell_type": "code",
   "execution_count": 14,
   "id": "9350deee-62b7-4882-b800-184b10952c97",
   "metadata": {},
   "outputs": [],
   "source": [
    "model_path = \"../pipeline_assets/toxicibert_final-20240313T210417Z-001/toxicibert_final/\"\n",
    "tokenizer_path = \"../pipeline_assets/toxicibert_tokenizer_final-20240313T210419Z-001/toxicibert_tokenizer_final/\"\n",
    "\n",
    "tokenizer = AutoTokenizer.from_pretrained(tokenizer_path)\n",
    "model = AutoModelForSequenceClassification.from_pretrained(model_path)"
   ]
  },
  {
   "cell_type": "code",
   "execution_count": 15,
   "id": "72c30861-1f0f-4b8f-92e8-63b2f7ebe931",
   "metadata": {},
   "outputs": [],
   "source": [
    "def toxicity_detector(sentence, tokenizer, model):  \n",
    "    # tokens = tokenizer.transform([sentence])\n",
    "    # prediction = model.predict_proba(vector1)\n",
    "    inputs = tokenizer(sentence, return_tensors=\"pt\", truncation=True, padding=True)\n",
    "    outputs = model(**inputs)\n",
    "    probabilities = F.softmax(outputs.logits, dim=1)\n",
    "    prediction = \"Toxic\" if probabilities[0][1] > 0.5 else \"Non-toxic\"\n",
    "    return prediction"
   ]
  },
  {
   "cell_type": "code",
   "execution_count": 20,
   "id": "57b8e2e5-196c-47c5-90b4-587f549564ed",
   "metadata": {},
   "outputs": [
    {
     "data": {
      "text/plain": [
       "'Toxic'"
      ]
     },
     "execution_count": 20,
     "metadata": {},
     "output_type": "execute_result"
    }
   ],
   "source": [
    "toxicity_detector(\"swine\", tokenizer, model)"
   ]
  },
  {
   "cell_type": "code",
   "execution_count": null,
   "id": "445a84a9-58e3-4569-ae5d-22dcb5796123",
   "metadata": {},
   "outputs": [],
   "source": []
  }
 ],
 "metadata": {
  "kernelspec": {
   "display_name": "Python 3 (ipykernel)",
   "language": "python",
   "name": "python3"
  },
  "language_info": {
   "codemirror_mode": {
    "name": "ipython",
    "version": 3
   },
   "file_extension": ".py",
   "mimetype": "text/x-python",
   "name": "python",
   "nbconvert_exporter": "python",
   "pygments_lexer": "ipython3",
   "version": "3.8.18"
  }
 },
 "nbformat": 4,
 "nbformat_minor": 5
}
